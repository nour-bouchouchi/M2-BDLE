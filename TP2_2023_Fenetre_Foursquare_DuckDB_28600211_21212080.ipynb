{
  "nbformat": 4,
  "nbformat_minor": 0,
  "metadata": {
    "colab": {
      "provenance": [],
      "toc_visible": true
    },
    "kernelspec": {
      "name": "python3",
      "display_name": "Python 3"
    },
    "language_info": {
      "name": "python"
    },
    "widgets": {
      "application/vnd.jupyter.widget-state+json": {
        "92b4774fd4844c988cdc727508c86662": {
          "model_module": "@jupyter-widgets/controls",
          "model_name": "FloatProgressModel",
          "model_module_version": "1.5.0",
          "state": {
            "_dom_classes": [],
            "_model_module": "@jupyter-widgets/controls",
            "_model_module_version": "1.5.0",
            "_model_name": "FloatProgressModel",
            "_view_count": null,
            "_view_module": "@jupyter-widgets/controls",
            "_view_module_version": "1.5.0",
            "_view_name": "ProgressView",
            "bar_style": "",
            "description": "",
            "description_tooltip": null,
            "layout": "IPY_MODEL_fe48221a890f410c9c7ad2f8d1a4b98d",
            "max": 100,
            "min": 0,
            "orientation": "horizontal",
            "style": "IPY_MODEL_892ad320d90e4c379e6c72c28031d45d",
            "value": 100
          }
        },
        "fe48221a890f410c9c7ad2f8d1a4b98d": {
          "model_module": "@jupyter-widgets/base",
          "model_name": "LayoutModel",
          "model_module_version": "1.2.0",
          "state": {
            "_model_module": "@jupyter-widgets/base",
            "_model_module_version": "1.2.0",
            "_model_name": "LayoutModel",
            "_view_count": null,
            "_view_module": "@jupyter-widgets/base",
            "_view_module_version": "1.2.0",
            "_view_name": "LayoutView",
            "align_content": null,
            "align_items": null,
            "align_self": null,
            "border": null,
            "bottom": null,
            "display": null,
            "flex": null,
            "flex_flow": null,
            "grid_area": null,
            "grid_auto_columns": null,
            "grid_auto_flow": null,
            "grid_auto_rows": null,
            "grid_column": null,
            "grid_gap": null,
            "grid_row": null,
            "grid_template_areas": null,
            "grid_template_columns": null,
            "grid_template_rows": null,
            "height": null,
            "justify_content": null,
            "justify_items": null,
            "left": null,
            "margin": null,
            "max_height": null,
            "max_width": null,
            "min_height": null,
            "min_width": null,
            "object_fit": null,
            "object_position": null,
            "order": null,
            "overflow": null,
            "overflow_x": null,
            "overflow_y": null,
            "padding": null,
            "right": null,
            "top": null,
            "visibility": null,
            "width": "auto"
          }
        },
        "892ad320d90e4c379e6c72c28031d45d": {
          "model_module": "@jupyter-widgets/controls",
          "model_name": "ProgressStyleModel",
          "model_module_version": "1.5.0",
          "state": {
            "_model_module": "@jupyter-widgets/controls",
            "_model_module_version": "1.5.0",
            "_model_name": "ProgressStyleModel",
            "_view_count": null,
            "_view_module": "@jupyter-widgets/base",
            "_view_module_version": "1.2.0",
            "_view_name": "StyleView",
            "bar_color": "black",
            "description_width": ""
          }
        },
        "03d0c4c97a6844808f61424af3dd09fc": {
          "model_module": "@jupyter-widgets/controls",
          "model_name": "FloatProgressModel",
          "model_module_version": "1.5.0",
          "state": {
            "_dom_classes": [],
            "_model_module": "@jupyter-widgets/controls",
            "_model_module_version": "1.5.0",
            "_model_name": "FloatProgressModel",
            "_view_count": null,
            "_view_module": "@jupyter-widgets/controls",
            "_view_module_version": "1.5.0",
            "_view_name": "ProgressView",
            "bar_style": "",
            "description": "",
            "description_tooltip": null,
            "layout": "IPY_MODEL_17e693e05bf44bc9a929c8a9a76c4f83",
            "max": 100,
            "min": 0,
            "orientation": "horizontal",
            "style": "IPY_MODEL_d951172b1ffa40ef8136a65affcdc293",
            "value": 100
          }
        },
        "17e693e05bf44bc9a929c8a9a76c4f83": {
          "model_module": "@jupyter-widgets/base",
          "model_name": "LayoutModel",
          "model_module_version": "1.2.0",
          "state": {
            "_model_module": "@jupyter-widgets/base",
            "_model_module_version": "1.2.0",
            "_model_name": "LayoutModel",
            "_view_count": null,
            "_view_module": "@jupyter-widgets/base",
            "_view_module_version": "1.2.0",
            "_view_name": "LayoutView",
            "align_content": null,
            "align_items": null,
            "align_self": null,
            "border": null,
            "bottom": null,
            "display": null,
            "flex": null,
            "flex_flow": null,
            "grid_area": null,
            "grid_auto_columns": null,
            "grid_auto_flow": null,
            "grid_auto_rows": null,
            "grid_column": null,
            "grid_gap": null,
            "grid_row": null,
            "grid_template_areas": null,
            "grid_template_columns": null,
            "grid_template_rows": null,
            "height": null,
            "justify_content": null,
            "justify_items": null,
            "left": null,
            "margin": null,
            "max_height": null,
            "max_width": null,
            "min_height": null,
            "min_width": null,
            "object_fit": null,
            "object_position": null,
            "order": null,
            "overflow": null,
            "overflow_x": null,
            "overflow_y": null,
            "padding": null,
            "right": null,
            "top": null,
            "visibility": null,
            "width": "auto"
          }
        },
        "d951172b1ffa40ef8136a65affcdc293": {
          "model_module": "@jupyter-widgets/controls",
          "model_name": "ProgressStyleModel",
          "model_module_version": "1.5.0",
          "state": {
            "_model_module": "@jupyter-widgets/controls",
            "_model_module_version": "1.5.0",
            "_model_name": "ProgressStyleModel",
            "_view_count": null,
            "_view_module": "@jupyter-widgets/base",
            "_view_module_version": "1.2.0",
            "_view_name": "StyleView",
            "bar_color": "black",
            "description_width": ""
          }
        },
        "2b94c74263194359b244b18963e53cba": {
          "model_module": "@jupyter-widgets/controls",
          "model_name": "FloatProgressModel",
          "model_module_version": "1.5.0",
          "state": {
            "_dom_classes": [],
            "_model_module": "@jupyter-widgets/controls",
            "_model_module_version": "1.5.0",
            "_model_name": "FloatProgressModel",
            "_view_count": null,
            "_view_module": "@jupyter-widgets/controls",
            "_view_module_version": "1.5.0",
            "_view_name": "ProgressView",
            "bar_style": "",
            "description": "",
            "description_tooltip": null,
            "layout": "IPY_MODEL_2b074ded50224b3cb7322d6e8771d07d",
            "max": 100,
            "min": 0,
            "orientation": "horizontal",
            "style": "IPY_MODEL_1970a4d48c6a4672a4fc9278326fd7e3",
            "value": 100
          }
        },
        "2b074ded50224b3cb7322d6e8771d07d": {
          "model_module": "@jupyter-widgets/base",
          "model_name": "LayoutModel",
          "model_module_version": "1.2.0",
          "state": {
            "_model_module": "@jupyter-widgets/base",
            "_model_module_version": "1.2.0",
            "_model_name": "LayoutModel",
            "_view_count": null,
            "_view_module": "@jupyter-widgets/base",
            "_view_module_version": "1.2.0",
            "_view_name": "LayoutView",
            "align_content": null,
            "align_items": null,
            "align_self": null,
            "border": null,
            "bottom": null,
            "display": null,
            "flex": null,
            "flex_flow": null,
            "grid_area": null,
            "grid_auto_columns": null,
            "grid_auto_flow": null,
            "grid_auto_rows": null,
            "grid_column": null,
            "grid_gap": null,
            "grid_row": null,
            "grid_template_areas": null,
            "grid_template_columns": null,
            "grid_template_rows": null,
            "height": null,
            "justify_content": null,
            "justify_items": null,
            "left": null,
            "margin": null,
            "max_height": null,
            "max_width": null,
            "min_height": null,
            "min_width": null,
            "object_fit": null,
            "object_position": null,
            "order": null,
            "overflow": null,
            "overflow_x": null,
            "overflow_y": null,
            "padding": null,
            "right": null,
            "top": null,
            "visibility": null,
            "width": "auto"
          }
        },
        "1970a4d48c6a4672a4fc9278326fd7e3": {
          "model_module": "@jupyter-widgets/controls",
          "model_name": "ProgressStyleModel",
          "model_module_version": "1.5.0",
          "state": {
            "_model_module": "@jupyter-widgets/controls",
            "_model_module_version": "1.5.0",
            "_model_name": "ProgressStyleModel",
            "_view_count": null,
            "_view_module": "@jupyter-widgets/base",
            "_view_module_version": "1.2.0",
            "_view_name": "StyleView",
            "bar_color": "black",
            "description_width": ""
          }
        },
        "ea261d55310b474685fcdeccebbe7e9c": {
          "model_module": "@jupyter-widgets/controls",
          "model_name": "FloatProgressModel",
          "model_module_version": "1.5.0",
          "state": {
            "_dom_classes": [],
            "_model_module": "@jupyter-widgets/controls",
            "_model_module_version": "1.5.0",
            "_model_name": "FloatProgressModel",
            "_view_count": null,
            "_view_module": "@jupyter-widgets/controls",
            "_view_module_version": "1.5.0",
            "_view_name": "ProgressView",
            "bar_style": "",
            "description": "",
            "description_tooltip": null,
            "layout": "IPY_MODEL_35ee33d34c6e4162aadef89453767c8b",
            "max": 100,
            "min": 0,
            "orientation": "horizontal",
            "style": "IPY_MODEL_463ea24d78d9404194f2225f1cd47c39",
            "value": 100
          }
        },
        "35ee33d34c6e4162aadef89453767c8b": {
          "model_module": "@jupyter-widgets/base",
          "model_name": "LayoutModel",
          "model_module_version": "1.2.0",
          "state": {
            "_model_module": "@jupyter-widgets/base",
            "_model_module_version": "1.2.0",
            "_model_name": "LayoutModel",
            "_view_count": null,
            "_view_module": "@jupyter-widgets/base",
            "_view_module_version": "1.2.0",
            "_view_name": "LayoutView",
            "align_content": null,
            "align_items": null,
            "align_self": null,
            "border": null,
            "bottom": null,
            "display": null,
            "flex": null,
            "flex_flow": null,
            "grid_area": null,
            "grid_auto_columns": null,
            "grid_auto_flow": null,
            "grid_auto_rows": null,
            "grid_column": null,
            "grid_gap": null,
            "grid_row": null,
            "grid_template_areas": null,
            "grid_template_columns": null,
            "grid_template_rows": null,
            "height": null,
            "justify_content": null,
            "justify_items": null,
            "left": null,
            "margin": null,
            "max_height": null,
            "max_width": null,
            "min_height": null,
            "min_width": null,
            "object_fit": null,
            "object_position": null,
            "order": null,
            "overflow": null,
            "overflow_x": null,
            "overflow_y": null,
            "padding": null,
            "right": null,
            "top": null,
            "visibility": null,
            "width": "auto"
          }
        },
        "463ea24d78d9404194f2225f1cd47c39": {
          "model_module": "@jupyter-widgets/controls",
          "model_name": "ProgressStyleModel",
          "model_module_version": "1.5.0",
          "state": {
            "_model_module": "@jupyter-widgets/controls",
            "_model_module_version": "1.5.0",
            "_model_name": "ProgressStyleModel",
            "_view_count": null,
            "_view_module": "@jupyter-widgets/base",
            "_view_module_version": "1.2.0",
            "_view_name": "StyleView",
            "bar_color": "black",
            "description_width": ""
          }
        },
        "07b8727d275149768e94b7f6be11eec6": {
          "model_module": "@jupyter-widgets/controls",
          "model_name": "FloatProgressModel",
          "model_module_version": "1.5.0",
          "state": {
            "_dom_classes": [],
            "_model_module": "@jupyter-widgets/controls",
            "_model_module_version": "1.5.0",
            "_model_name": "FloatProgressModel",
            "_view_count": null,
            "_view_module": "@jupyter-widgets/controls",
            "_view_module_version": "1.5.0",
            "_view_name": "ProgressView",
            "bar_style": "",
            "description": "",
            "description_tooltip": null,
            "layout": "IPY_MODEL_288b555a27ff423b9a2732251ea856b9",
            "max": 100,
            "min": 0,
            "orientation": "horizontal",
            "style": "IPY_MODEL_ee8dbe261856431d83a0601ab5d48d30",
            "value": 100
          }
        },
        "288b555a27ff423b9a2732251ea856b9": {
          "model_module": "@jupyter-widgets/base",
          "model_name": "LayoutModel",
          "model_module_version": "1.2.0",
          "state": {
            "_model_module": "@jupyter-widgets/base",
            "_model_module_version": "1.2.0",
            "_model_name": "LayoutModel",
            "_view_count": null,
            "_view_module": "@jupyter-widgets/base",
            "_view_module_version": "1.2.0",
            "_view_name": "LayoutView",
            "align_content": null,
            "align_items": null,
            "align_self": null,
            "border": null,
            "bottom": null,
            "display": null,
            "flex": null,
            "flex_flow": null,
            "grid_area": null,
            "grid_auto_columns": null,
            "grid_auto_flow": null,
            "grid_auto_rows": null,
            "grid_column": null,
            "grid_gap": null,
            "grid_row": null,
            "grid_template_areas": null,
            "grid_template_columns": null,
            "grid_template_rows": null,
            "height": null,
            "justify_content": null,
            "justify_items": null,
            "left": null,
            "margin": null,
            "max_height": null,
            "max_width": null,
            "min_height": null,
            "min_width": null,
            "object_fit": null,
            "object_position": null,
            "order": null,
            "overflow": null,
            "overflow_x": null,
            "overflow_y": null,
            "padding": null,
            "right": null,
            "top": null,
            "visibility": null,
            "width": "auto"
          }
        },
        "ee8dbe261856431d83a0601ab5d48d30": {
          "model_module": "@jupyter-widgets/controls",
          "model_name": "ProgressStyleModel",
          "model_module_version": "1.5.0",
          "state": {
            "_model_module": "@jupyter-widgets/controls",
            "_model_module_version": "1.5.0",
            "_model_name": "ProgressStyleModel",
            "_view_count": null,
            "_view_module": "@jupyter-widgets/base",
            "_view_module_version": "1.2.0",
            "_view_name": "StyleView",
            "bar_color": "black",
            "description_width": ""
          }
        }
      }
    }
  },
  "cells": [
    {
      "cell_type": "markdown",
      "source": [
        "BDLE 2023 TP2\n",
        "\n",
        "révision: 19/09/2023"
      ],
      "metadata": {
        "id": "SlX8IzDzEZUH"
      }
    },
    {
      "cell_type": "markdown",
      "source": [
        "BOUCHOUCHI Nour (28600211)  \n",
        "BORCHANI Sofia (21212080)"
      ],
      "metadata": {
        "id": "bbO32ShyImjU"
      }
    },
    {
      "cell_type": "markdown",
      "source": [
        "# TP2 2023 Fenetre Foursquare avec le système DuckDB (ETUDIANT)\n"
      ],
      "metadata": {
        "id": "CL1hh0ojcw30"
      }
    },
    {
      "cell_type": "markdown",
      "source": [
        "# Préparation"
      ],
      "metadata": {
        "id": "qlyTJcdRk4Bk"
      }
    },
    {
      "cell_type": "code",
      "source": [
        "import pandas as pd\n",
        "from google.colab import data_table\n",
        "\n",
        "def display(df, n=100):\n",
        "  return data_table.DataTable(df.limit(n).df(), include_index=False, num_rows_per_page=10)"
      ],
      "metadata": {
        "id": "KaPSc2wGh5Ng"
      },
      "execution_count": 2,
      "outputs": []
    },
    {
      "cell_type": "code",
      "execution_count": 3,
      "metadata": {
        "id": "Of5xcFjiaxR7",
        "colab": {
          "base_uri": "https://localhost:8080/"
        },
        "outputId": "edd9c248-b116-4552-da6a-c02fd31adb3e"
      },
      "outputs": [
        {
          "output_type": "stream",
          "name": "stdout",
          "text": [
            "Requirement already satisfied: duckdb==0.8.1 in /usr/local/lib/python3.10/dist-packages (0.8.1)\n"
          ]
        }
      ],
      "source": [
        "!pip install duckdb==0.8.1"
      ]
    },
    {
      "cell_type": "markdown",
      "source": [
        "# Démarrer le service DuckDB"
      ],
      "metadata": {
        "id": "Hcua5ypAkOi9"
      }
    },
    {
      "cell_type": "code",
      "source": [
        "import duckdb\n",
        "\n",
        "# db = duckdb.connect('foursquare')\n",
        "db = duckdb.connect(':memory:')\n",
        "\n",
        "# vérifier que le service fonctrionne\n",
        "r = db.sql(\"SELECT 'hello' as col\")\n",
        "display(r)"
      ],
      "metadata": {
        "id": "7_7lmisva72M",
        "colab": {
          "base_uri": "https://localhost:8080/",
          "height": 144
        },
        "outputId": "998b51a0-b3d7-4f02-b6f3-3c285c3b0c08"
      },
      "execution_count": 4,
      "outputs": [
        {
          "output_type": "execute_result",
          "data": {
            "text/html": [
              "<div>\n",
              "<style scoped>\n",
              "    .dataframe tbody tr th:only-of-type {\n",
              "        vertical-align: middle;\n",
              "    }\n",
              "\n",
              "    .dataframe tbody tr th {\n",
              "        vertical-align: top;\n",
              "    }\n",
              "\n",
              "    .dataframe thead th {\n",
              "        text-align: right;\n",
              "    }\n",
              "</style>\n",
              "<table border=\"1\" class=\"dataframe\">\n",
              "  <thead>\n",
              "    <tr style=\"text-align: right;\">\n",
              "      <th></th>\n",
              "      <th>col</th>\n",
              "    </tr>\n",
              "  </thead>\n",
              "  <tbody>\n",
              "    <tr>\n",
              "      <th>0</th>\n",
              "      <td>hello</td>\n",
              "    </tr>\n",
              "  </tbody>\n",
              "</table>\n",
              "</div>"
            ],
            "application/vnd.google.colaboratory.module+javascript": "\n      import \"https://ssl.gstatic.com/colaboratory/data_table/881c4a0d49046431/data_table.js\";\n\n      const table = window.createDataTable({\n        data: [[\"hello\"]],\n        columns: [[\"string\", \"col\"]],\n        columnOptions: [],\n        rowsPerPage: 10,\n        helpUrl: \"https://colab.research.google.com/notebooks/data_table.ipynb\",\n        suppressOutputScrolling: true,\n        minimumWidth: undefined,\n      });\n\n      function appendQuickchartButton(parentElement) {\n        let quickchartButtonContainerElement = document.createElement('div');\n        quickchartButtonContainerElement.innerHTML = `\n<div id=\"df-d95b809f-d083-4e9b-be7d-a0adcdd17d69\">\n  <button class=\"colab-df-quickchart\" onclick=\"quickchart('df-d95b809f-d083-4e9b-be7d-a0adcdd17d69')\"\n            title=\"Suggest charts.\"\n            style=\"display:none;\">\n    \n<svg xmlns=\"http://www.w3.org/2000/svg\" height=\"24px\"viewBox=\"0 0 24 24\"\n     width=\"24px\">\n    <g>\n        <path d=\"M19 3H5c-1.1 0-2 .9-2 2v14c0 1.1.9 2 2 2h14c1.1 0 2-.9 2-2V5c0-1.1-.9-2-2-2zM9 17H7v-7h2v7zm4 0h-2V7h2v10zm4 0h-2v-4h2v4z\"/>\n    </g>\n</svg>\n  </button>\n  \n<style>\n  .colab-df-quickchart {\n      --bg-color: #E8F0FE;\n      --fill-color: #1967D2;\n      --hover-bg-color: #E2EBFA;\n      --hover-fill-color: #174EA6;\n      --disabled-fill-color: #AAA;\n      --disabled-bg-color: #DDD;\n  }\n\n  [theme=dark] .colab-df-quickchart {\n      --bg-color: #3B4455;\n      --fill-color: #D2E3FC;\n      --hover-bg-color: #434B5C;\n      --hover-fill-color: #FFFFFF;\n      --disabled-bg-color: #3B4455;\n      --disabled-fill-color: #666;\n  }\n\n  .colab-df-quickchart {\n    background-color: var(--bg-color);\n    border: none;\n    border-radius: 50%;\n    cursor: pointer;\n    display: none;\n    fill: var(--fill-color);\n    height: 32px;\n    padding: 0;\n    width: 32px;\n  }\n\n  .colab-df-quickchart:hover {\n    background-color: var(--hover-bg-color);\n    box-shadow: 0 1px 2px rgba(60, 64, 67, 0.3), 0 1px 3px 1px rgba(60, 64, 67, 0.15);\n    fill: var(--button-hover-fill-color);\n  }\n\n  .colab-df-quickchart-complete:disabled,\n  .colab-df-quickchart-complete:disabled:hover {\n    background-color: var(--disabled-bg-color);\n    fill: var(--disabled-fill-color);\n    box-shadow: none;\n  }\n\n  .colab-df-spinner {\n    border: 2px solid var(--fill-color);\n    border-color: transparent;\n    border-bottom-color: var(--fill-color);\n    animation:\n      spin 1s steps(1) infinite;\n  }\n\n  @keyframes spin {\n    0% {\n      border-color: transparent;\n      border-bottom-color: var(--fill-color);\n      border-left-color: var(--fill-color);\n    }\n    20% {\n      border-color: transparent;\n      border-left-color: var(--fill-color);\n      border-top-color: var(--fill-color);\n    }\n    30% {\n      border-color: transparent;\n      border-left-color: var(--fill-color);\n      border-top-color: var(--fill-color);\n      border-right-color: var(--fill-color);\n    }\n    40% {\n      border-color: transparent;\n      border-right-color: var(--fill-color);\n      border-top-color: var(--fill-color);\n    }\n    60% {\n      border-color: transparent;\n      border-right-color: var(--fill-color);\n    }\n    80% {\n      border-color: transparent;\n      border-right-color: var(--fill-color);\n      border-bottom-color: var(--fill-color);\n    }\n    90% {\n      border-color: transparent;\n      border-bottom-color: var(--fill-color);\n    }\n  }\n</style>\n\n  <script>\n    async function quickchart(key) {\n      const quickchartButtonEl =\n        document.querySelector('#' + key + ' button');\n      quickchartButtonEl.disabled = true;  // To prevent multiple clicks.\n      quickchartButtonEl.classList.add('colab-df-spinner');\n      try {\n        const charts = await google.colab.kernel.invokeFunction(\n            'suggestCharts', [key], {});\n      } catch (error) {\n        console.error('Error during call to suggestCharts:', error);\n      }\n      quickchartButtonEl.classList.remove('colab-df-spinner');\n      quickchartButtonEl.classList.add('colab-df-quickchart-complete');\n    }\n    (() => {\n      let quickchartButtonEl =\n        document.querySelector('#df-d95b809f-d083-4e9b-be7d-a0adcdd17d69 button');\n      quickchartButtonEl.style.display =\n        google.colab.kernel.accessAllowed ? 'block' : 'none';\n    })();\n  </script>\n</div>`;\n        parentElement.appendChild(quickchartButtonContainerElement);\n      }\n\n      appendQuickchartButton(table);\n    ",
            "text/plain": [
              "<google.colab.data_table.DataTable object>"
            ]
          },
          "metadata": {},
          "execution_count": 4
        }
      ]
    },
    {
      "cell_type": "markdown",
      "source": [
        "# Données"
      ],
      "metadata": {
        "id": "mYB5fYrykVKy"
      }
    },
    {
      "cell_type": "code",
      "metadata": {
        "application/vnd.databricks.v1+cell": {
          "title": "",
          "showTitle": false,
          "inputWidgets": {},
          "nuid": "5f7082b7-3297-469a-82c3-2e6aaf5acc22"
        },
        "colab": {
          "base_uri": "https://localhost:8080/"
        },
        "id": "dG-ZrStWvR6N",
        "outputId": "b79a461f-45eb-4039-cb58-30784598b980"
      },
      "source": [
        "import os\n",
        "local_dir = \"/local/data\"\n",
        "os.makedirs(local_dir, exist_ok=True)\n",
        "os.listdir(local_dir)"
      ],
      "execution_count": 5,
      "outputs": [
        {
          "output_type": "execute_result",
          "data": {
            "text/plain": [
              "[]"
            ]
          },
          "metadata": {},
          "execution_count": 5
        }
      ]
    },
    {
      "cell_type": "markdown",
      "metadata": {
        "application/vnd.databricks.v1+cell": {
          "title": "",
          "showTitle": false,
          "inputWidgets": {},
          "nuid": "9b13d583-eac5-414c-b544-43024c76c144"
        },
        "id": "NqVvf8iLGpLf"
      },
      "source": [
        "URL pour l'accès aux datasets"
      ]
    },
    {
      "cell_type": "code",
      "metadata": {
        "application/vnd.databricks.v1+cell": {
          "title": "",
          "showTitle": false,
          "inputWidgets": {},
          "nuid": "8a1fead0-61e4-4d04-a2c0-7858f767b0a1"
        },
        "id": "8g6iWNvES1hW",
        "colab": {
          "base_uri": "https://localhost:8080/"
        },
        "outputId": "a87794ca-373b-47ea-ac0b-e1b82b430fe0"
      },
      "source": [
        "# ---------------------------------------------------------------------------\n",
        "# en cas de problème avec le téléchargement des datasets, aller directement sur l'URL ci-dessous\n",
        "PUBLIC_DATASET_URL = \"https://nuage.lip6.fr/s/H3bpyRGgnCq2NR4\"\n",
        "PUBLIC_DATASET=PUBLIC_DATASET_URL + \"/download?path=\"\n",
        "\n",
        "print(\"URL pour les datasets \", PUBLIC_DATASET_URL)"
      ],
      "execution_count": 6,
      "outputs": [
        {
          "output_type": "stream",
          "name": "stdout",
          "text": [
            "URL pour les datasets  https://nuage.lip6.fr/s/H3bpyRGgnCq2NR4\n"
          ]
        }
      ]
    },
    {
      "cell_type": "code",
      "metadata": {
        "colab": {
          "base_uri": "https://localhost:8080/"
        },
        "id": "4MDvKL2IQTGU",
        "outputId": "9ab92374-526c-4ec3-886e-751e99e2e0e0"
      },
      "source": [
        "import os\n",
        "from urllib import request\n",
        "import zipfile\n",
        "\n",
        "# download dataset if not already donwloaded\n",
        "def download_file(web_dir, local_dir, file):\n",
        "  local_file = local_dir + \"/\" + file\n",
        "  web_file = web_dir + \"/\" + file\n",
        "  if(os.path.isfile(local_file)):\n",
        "    print(file, \"is already stored\")\n",
        "  else:\n",
        "    print(\"downloading from URL: \", web_file , \"save in : \" + local_file)\n",
        "    request.urlretrieve(web_file , local_file)\n",
        "\n",
        "def unzip_file(local_dir, file):\n",
        "  with zipfile.ZipFile(local_dir + \"/\" + file, 'r') as zip_ref:\n",
        "    zip_ref.extractall(local_dir)\n",
        "  # os.remove(local_dir + \"/\" + file)\n",
        "\n",
        "\n",
        "web_dir = PUBLIC_DATASET + \"/foursquare\"\n",
        "\n",
        "# ce fichier vient de kaggle : https://www.kaggle.com/datasets/chetanism/foursquare-nyc-and-tokyo-checkin-dataset\n",
        "zip_filename = \"dataset_TSMC2014_NYC.zip\"\n",
        "\n",
        "\n",
        "download_file(web_dir, local_dir, zip_filename)\n",
        "unzip_file(local_dir, zip_filename)\n",
        "\n",
        "# Liste des fichiers\n",
        "os.listdir(local_dir)"
      ],
      "execution_count": 7,
      "outputs": [
        {
          "output_type": "stream",
          "name": "stdout",
          "text": [
            "downloading from URL:  https://nuage.lip6.fr/s/H3bpyRGgnCq2NR4/download?path=/foursquare/dataset_TSMC2014_NYC.zip save in : /local/data/dataset_TSMC2014_NYC.zip\n"
          ]
        },
        {
          "output_type": "execute_result",
          "data": {
            "text/plain": [
              "['dataset_TSMC2014_NYC.zip', 'dataset_TSMC2014_NYC.csv']"
            ]
          },
          "metadata": {},
          "execution_count": 7
        }
      ]
    },
    {
      "cell_type": "code",
      "source": [
        "!head -4 /local/data/dataset_TSMC2014_NYC.csv"
      ],
      "metadata": {
        "colab": {
          "base_uri": "https://localhost:8080/"
        },
        "id": "wRPCJtPpKQqA",
        "outputId": "911c9525-c322-4578-e3df-cac0bed359d3"
      },
      "execution_count": 8,
      "outputs": [
        {
          "output_type": "stream",
          "name": "stdout",
          "text": [
            "userId,venueId,venueCategoryId,venueCategory,latitude,longitude,timezoneOffset,utcTimestamp\r\n",
            "470,49bbd6c0f964a520f4531fe3,4bf58dd8d48988d127951735,Arts & Crafts Store,40.71981038,-74.00258103,-240,Tue Apr 03 18:00:09 +0000 2012\r\n",
            "979,4a43c0aef964a520c6a61fe3,4bf58dd8d48988d1df941735,Bridge,40.60679958,-74.04416981,-240,Tue Apr 03 18:00:25 +0000 2012\r\n",
            "69,4c5cc7b485a1e21e00d35711,4bf58dd8d48988d103941735,Home (private),40.71616168,-73.88307006,-240,Tue Apr 03 18:02:24 +0000 2012\r\n"
          ]
        }
      ]
    },
    {
      "cell_type": "markdown",
      "source": [
        "# Table Visit"
      ],
      "metadata": {
        "id": "3cwSGSPzkY4c"
      }
    },
    {
      "cell_type": "code",
      "source": [
        "# duckdb.read_csv('/local/data/notes1M.json')\n",
        "\n",
        "stmt = \"\"\"\n",
        "DROP TABLE if exists Visit;\n",
        "CREATE TABLE Visit as\n",
        "  SELECT *\n",
        "  FROM '/local/data/dataset_TSMC2014_NYC.csv';\n",
        "\"\"\"\n",
        "db.sql(stmt)\n",
        "print(\"done\")"
      ],
      "metadata": {
        "colab": {
          "base_uri": "https://localhost:8080/"
        },
        "id": "fwcX0P1TlnLn",
        "outputId": "e96196c0-5fb5-4a35-d12f-16d30625da21"
      },
      "execution_count": 9,
      "outputs": [
        {
          "output_type": "stream",
          "name": "stdout",
          "text": [
            "done\n"
          ]
        }
      ]
    },
    {
      "cell_type": "markdown",
      "source": [
        "## Afficher le contenu d'une table"
      ],
      "metadata": {
        "id": "pk80_tqM-RhR"
      }
    },
    {
      "cell_type": "code",
      "source": [
        "visit = db.table('Visit')\n",
        "visit"
      ],
      "metadata": {
        "colab": {
          "base_uri": "https://localhost:8080/"
        },
        "id": "wXWSkrG0oRxw",
        "outputId": "6b209cf7-db65-40fd-b54e-b70d8d68bc36"
      },
      "execution_count": 10,
      "outputs": [
        {
          "output_type": "execute_result",
          "data": {
            "text/plain": [
              "┌────────┬──────────────────────┬──────────────────────┬───┬──────────────┬────────────────┬──────────────────────┐\n",
              "│ userId │       venueId        │   venueCategoryId    │ … │  longitude   │ timezoneOffset │     utcTimestamp     │\n",
              "│ int64  │       varchar        │       varchar        │   │    double    │     int64      │       varchar        │\n",
              "├────────┼──────────────────────┼──────────────────────┼───┼──────────────┼────────────────┼──────────────────────┤\n",
              "│    470 │ 49bbd6c0f964a520f4…  │ 4bf58dd8d48988d127…  │ … │ -74.00258103 │           -240 │ Tue Apr 03 18:00:0…  │\n",
              "│    979 │ 4a43c0aef964a520c6…  │ 4bf58dd8d48988d1df…  │ … │ -74.04416981 │           -240 │ Tue Apr 03 18:00:2…  │\n",
              "│     69 │ 4c5cc7b485a1e21e00…  │ 4bf58dd8d48988d103…  │ … │ -73.88307006 │           -240 │ Tue Apr 03 18:02:2…  │\n",
              "│    395 │ 4bc7086715a7ef3bef…  │ 4bf58dd8d48988d104…  │ … │ -73.98251878 │           -240 │ Tue Apr 03 18:02:4…  │\n",
              "│     87 │ 4cf2c5321d18a14395…  │ 4bf58dd8d48988d1cb…  │ … │ -73.98965836 │           -240 │ Tue Apr 03 18:03:0…  │\n",
              "│    484 │ 4b5b981bf964a52090…  │ 4bf58dd8d48988d118…  │ … │ -73.95468678 │           -240 │ Tue Apr 03 18:04:0…  │\n",
              "│    642 │ 4ab966c3f964a5203c…  │ 4bf58dd8d48988d1e0…  │ … │  -73.9741214 │           -240 │ Tue Apr 03 18:04:3…  │\n",
              "│    292 │ 4d0cc47f903d370418…  │ 4bf58dd8d48988d12b…  │ … │ -73.95534113 │           -240 │ Tue Apr 03 18:04:4…  │\n",
              "│    428 │ 4ce1863bc4f6a35d8b…  │ 4bf58dd8d48988d103…  │ … │  -74.0358876 │           -240 │ Tue Apr 03 18:06:1…  │\n",
              "│    877 │ 4be319b321d5a59352…  │ 4bf58dd8d48988d10a…  │ … │ -73.99037473 │           -240 │ Tue Apr 03 18:06:1…  │\n",
              "│     ·  │          ·           │          ·           │ · │       ·      │             ·  │          ·           │\n",
              "│     ·  │          ·           │          ·           │ · │       ·      │             ·  │          ·           │\n",
              "│     ·  │          ·           │          ·           │ · │       ·      │             ·  │          ·           │\n",
              "│    847 │ 49fe2f8af964a5207b…  │ 4bf58dd8d48988d176…  │ … │  -74.0052724 │           -240 │ Wed Apr 11 17:04:0…  │\n",
              "│     45 │ 4b735fe3f964a5205b…  │ 4d4ae6fc7a7b7dea34…  │ … │  -73.9851737 │           -240 │ Wed Apr 11 17:04:0…  │\n",
              "│    621 │ 4f85b99de4b0d19a2f…  │ 4bf58dd8d48988d177…  │ … │ -73.97102783 │           -240 │ Wed Apr 11 17:04:3…  │\n",
              "│    537 │ 4f6491dce4b05c1d59…  │ 4bf58dd8d48988d174…  │ … │   -73.958256 │           -240 │ Wed Apr 11 17:05:0…  │\n",
              "│    976 │ 4b9146f5f964a52058…  │ 4bf58dd8d48988d164…  │ … │ -74.00888761 │           -240 │ Wed Apr 11 17:05:3…  │\n",
              "│    389 │ 4b37853af964a520c5…  │ 4bf58dd8d48988d1fa…  │ … │ -73.96330163 │           -240 │ Wed Apr 11 17:06:1…  │\n",
              "│    663 │ 4baa673bf964a520d8…  │ 4bf58dd8d48988d124…  │ … │ -73.98102579 │           -240 │ Wed Apr 11 17:08:1…  │\n",
              "│    217 │ 4d93828762ad5481a4…  │ 4bf58dd8d48988d124…  │ … │   -73.975389 │           -240 │ Wed Apr 11 17:08:3…  │\n",
              "│   1066 │ 4ae0e652f964a52081…  │ 4bf58dd8d48988d1ed…  │ … │ -73.98215641 │           -240 │ Wed Apr 11 17:09:1…  │\n",
              "│   1079 │ 4af8875bf964a5200c…  │ 4bf58dd8d48988d1c5…  │ … │   -73.971846 │           -240 │ Wed Apr 11 17:09:1…  │\n",
              "├────────┴──────────────────────┴──────────────────────┴───┴──────────────┴────────────────┴──────────────────────┤\n",
              "│ ? rows (>9999 rows, 20 shown)                                                               8 columns (6 shown) │\n",
              "└─────────────────────────────────────────────────────────────────────────────────────────────────────────────────┘"
            ]
          },
          "metadata": {},
          "execution_count": 10
        }
      ]
    },
    {
      "cell_type": "code",
      "source": [
        "display(visit,3)"
      ],
      "metadata": {
        "colab": {
          "base_uri": "https://localhost:8080/",
          "height": 186
        },
        "id": "HQQcev_8ErzD",
        "outputId": "38622724-886f-495d-eb06-cba39003b41d"
      },
      "execution_count": 11,
      "outputs": [
        {
          "output_type": "execute_result",
          "data": {
            "text/html": [
              "<div>\n",
              "<style scoped>\n",
              "    .dataframe tbody tr th:only-of-type {\n",
              "        vertical-align: middle;\n",
              "    }\n",
              "\n",
              "    .dataframe tbody tr th {\n",
              "        vertical-align: top;\n",
              "    }\n",
              "\n",
              "    .dataframe thead th {\n",
              "        text-align: right;\n",
              "    }\n",
              "</style>\n",
              "<table border=\"1\" class=\"dataframe\">\n",
              "  <thead>\n",
              "    <tr style=\"text-align: right;\">\n",
              "      <th></th>\n",
              "      <th>userId</th>\n",
              "      <th>venueId</th>\n",
              "      <th>venueCategoryId</th>\n",
              "      <th>venueCategory</th>\n",
              "      <th>latitude</th>\n",
              "      <th>longitude</th>\n",
              "      <th>timezoneOffset</th>\n",
              "      <th>utcTimestamp</th>\n",
              "    </tr>\n",
              "  </thead>\n",
              "  <tbody>\n",
              "    <tr>\n",
              "      <th>0</th>\n",
              "      <td>470</td>\n",
              "      <td>49bbd6c0f964a520f4531fe3</td>\n",
              "      <td>4bf58dd8d48988d127951735</td>\n",
              "      <td>Arts &amp; Crafts Store</td>\n",
              "      <td>40.719810</td>\n",
              "      <td>-74.002581</td>\n",
              "      <td>-240</td>\n",
              "      <td>Tue Apr 03 18:00:09 +0000 2012</td>\n",
              "    </tr>\n",
              "    <tr>\n",
              "      <th>1</th>\n",
              "      <td>979</td>\n",
              "      <td>4a43c0aef964a520c6a61fe3</td>\n",
              "      <td>4bf58dd8d48988d1df941735</td>\n",
              "      <td>Bridge</td>\n",
              "      <td>40.606800</td>\n",
              "      <td>-74.044170</td>\n",
              "      <td>-240</td>\n",
              "      <td>Tue Apr 03 18:00:25 +0000 2012</td>\n",
              "    </tr>\n",
              "    <tr>\n",
              "      <th>2</th>\n",
              "      <td>69</td>\n",
              "      <td>4c5cc7b485a1e21e00d35711</td>\n",
              "      <td>4bf58dd8d48988d103941735</td>\n",
              "      <td>Home (private)</td>\n",
              "      <td>40.716162</td>\n",
              "      <td>-73.883070</td>\n",
              "      <td>-240</td>\n",
              "      <td>Tue Apr 03 18:02:24 +0000 2012</td>\n",
              "    </tr>\n",
              "  </tbody>\n",
              "</table>\n",
              "</div>"
            ],
            "application/vnd.google.colaboratory.module+javascript": "\n      import \"https://ssl.gstatic.com/colaboratory/data_table/881c4a0d49046431/data_table.js\";\n\n      const table = window.createDataTable({\n        data: [[{\n            'v': 470,\n            'f': \"470\",\n        },\n\"49bbd6c0f964a520f4531fe3\",\n\"4bf58dd8d48988d127951735\",\n\"Arts & Crafts Store\",\n{\n            'v': 40.71981038,\n            'f': \"40.71981038\",\n        },\n{\n            'v': -74.00258103,\n            'f': \"-74.00258103\",\n        },\n{\n            'v': -240,\n            'f': \"-240\",\n        },\n\"Tue Apr 03 18:00:09 +0000 2012\"],\n [{\n            'v': 979,\n            'f': \"979\",\n        },\n\"4a43c0aef964a520c6a61fe3\",\n\"4bf58dd8d48988d1df941735\",\n\"Bridge\",\n{\n            'v': 40.60679958,\n            'f': \"40.60679958\",\n        },\n{\n            'v': -74.04416981,\n            'f': \"-74.04416981\",\n        },\n{\n            'v': -240,\n            'f': \"-240\",\n        },\n\"Tue Apr 03 18:00:25 +0000 2012\"],\n [{\n            'v': 69,\n            'f': \"69\",\n        },\n\"4c5cc7b485a1e21e00d35711\",\n\"4bf58dd8d48988d103941735\",\n\"Home (private)\",\n{\n            'v': 40.71616168,\n            'f': \"40.71616168\",\n        },\n{\n            'v': -73.88307006,\n            'f': \"-73.88307006\",\n        },\n{\n            'v': -240,\n            'f': \"-240\",\n        },\n\"Tue Apr 03 18:02:24 +0000 2012\"]],\n        columns: [[\"number\", \"userId\"], [\"string\", \"venueId\"], [\"string\", \"venueCategoryId\"], [\"string\", \"venueCategory\"], [\"number\", \"latitude\"], [\"number\", \"longitude\"], [\"number\", \"timezoneOffset\"], [\"string\", \"utcTimestamp\"]],\n        columnOptions: [],\n        rowsPerPage: 10,\n        helpUrl: \"https://colab.research.google.com/notebooks/data_table.ipynb\",\n        suppressOutputScrolling: true,\n        minimumWidth: undefined,\n      });\n\n      function appendQuickchartButton(parentElement) {\n        let quickchartButtonContainerElement = document.createElement('div');\n        quickchartButtonContainerElement.innerHTML = `\n<div id=\"df-f95098ad-1631-42dc-b909-6812be7089cb\">\n  <button class=\"colab-df-quickchart\" onclick=\"quickchart('df-f95098ad-1631-42dc-b909-6812be7089cb')\"\n            title=\"Suggest charts.\"\n            style=\"display:none;\">\n    \n<svg xmlns=\"http://www.w3.org/2000/svg\" height=\"24px\"viewBox=\"0 0 24 24\"\n     width=\"24px\">\n    <g>\n        <path d=\"M19 3H5c-1.1 0-2 .9-2 2v14c0 1.1.9 2 2 2h14c1.1 0 2-.9 2-2V5c0-1.1-.9-2-2-2zM9 17H7v-7h2v7zm4 0h-2V7h2v10zm4 0h-2v-4h2v4z\"/>\n    </g>\n</svg>\n  </button>\n  \n<style>\n  .colab-df-quickchart {\n      --bg-color: #E8F0FE;\n      --fill-color: #1967D2;\n      --hover-bg-color: #E2EBFA;\n      --hover-fill-color: #174EA6;\n      --disabled-fill-color: #AAA;\n      --disabled-bg-color: #DDD;\n  }\n\n  [theme=dark] .colab-df-quickchart {\n      --bg-color: #3B4455;\n      --fill-color: #D2E3FC;\n      --hover-bg-color: #434B5C;\n      --hover-fill-color: #FFFFFF;\n      --disabled-bg-color: #3B4455;\n      --disabled-fill-color: #666;\n  }\n\n  .colab-df-quickchart {\n    background-color: var(--bg-color);\n    border: none;\n    border-radius: 50%;\n    cursor: pointer;\n    display: none;\n    fill: var(--fill-color);\n    height: 32px;\n    padding: 0;\n    width: 32px;\n  }\n\n  .colab-df-quickchart:hover {\n    background-color: var(--hover-bg-color);\n    box-shadow: 0 1px 2px rgba(60, 64, 67, 0.3), 0 1px 3px 1px rgba(60, 64, 67, 0.15);\n    fill: var(--button-hover-fill-color);\n  }\n\n  .colab-df-quickchart-complete:disabled,\n  .colab-df-quickchart-complete:disabled:hover {\n    background-color: var(--disabled-bg-color);\n    fill: var(--disabled-fill-color);\n    box-shadow: none;\n  }\n\n  .colab-df-spinner {\n    border: 2px solid var(--fill-color);\n    border-color: transparent;\n    border-bottom-color: var(--fill-color);\n    animation:\n      spin 1s steps(1) infinite;\n  }\n\n  @keyframes spin {\n    0% {\n      border-color: transparent;\n      border-bottom-color: var(--fill-color);\n      border-left-color: var(--fill-color);\n    }\n    20% {\n      border-color: transparent;\n      border-left-color: var(--fill-color);\n      border-top-color: var(--fill-color);\n    }\n    30% {\n      border-color: transparent;\n      border-left-color: var(--fill-color);\n      border-top-color: var(--fill-color);\n      border-right-color: var(--fill-color);\n    }\n    40% {\n      border-color: transparent;\n      border-right-color: var(--fill-color);\n      border-top-color: var(--fill-color);\n    }\n    60% {\n      border-color: transparent;\n      border-right-color: var(--fill-color);\n    }\n    80% {\n      border-color: transparent;\n      border-right-color: var(--fill-color);\n      border-bottom-color: var(--fill-color);\n    }\n    90% {\n      border-color: transparent;\n      border-bottom-color: var(--fill-color);\n    }\n  }\n</style>\n\n  <script>\n    async function quickchart(key) {\n      const quickchartButtonEl =\n        document.querySelector('#' + key + ' button');\n      quickchartButtonEl.disabled = true;  // To prevent multiple clicks.\n      quickchartButtonEl.classList.add('colab-df-spinner');\n      try {\n        const charts = await google.colab.kernel.invokeFunction(\n            'suggestCharts', [key], {});\n      } catch (error) {\n        console.error('Error during call to suggestCharts:', error);\n      }\n      quickchartButtonEl.classList.remove('colab-df-spinner');\n      quickchartButtonEl.classList.add('colab-df-quickchart-complete');\n    }\n    (() => {\n      let quickchartButtonEl =\n        document.querySelector('#df-f95098ad-1631-42dc-b909-6812be7089cb button');\n      quickchartButtonEl.style.display =\n        google.colab.kernel.accessAllowed ? 'block' : 'none';\n    })();\n  </script>\n</div>`;\n        parentElement.appendChild(quickchartButtonContainerElement);\n      }\n\n      appendQuickchartButton(table);\n    ",
            "text/plain": [
              "<google.colab.data_table.DataTable object>"
            ]
          },
          "metadata": {},
          "execution_count": 11
        }
      ]
    },
    {
      "cell_type": "markdown",
      "source": [
        "## Schéma d'une table"
      ],
      "metadata": {
        "id": "FfN0hDXu40eN"
      }
    },
    {
      "cell_type": "code",
      "source": [
        "db.sql(\"\"\"\n",
        "\n",
        "SELECT column_name, data_type\n",
        "FROM duckdb_columns\n",
        "where table_name = 'Visit'\n",
        "\n",
        "\"\"\")"
      ],
      "metadata": {
        "colab": {
          "base_uri": "https://localhost:8080/"
        },
        "id": "1msbT09BK2De",
        "outputId": "663f6d52-6d47-4c7a-c752-6b24aab7a675"
      },
      "execution_count": 12,
      "outputs": [
        {
          "output_type": "execute_result",
          "data": {
            "text/plain": [
              "┌─────────────────┬───────────┐\n",
              "│   column_name   │ data_type │\n",
              "│     varchar     │  varchar  │\n",
              "├─────────────────┼───────────┤\n",
              "│ userId          │ BIGINT    │\n",
              "│ venueId         │ VARCHAR   │\n",
              "│ venueCategoryId │ VARCHAR   │\n",
              "│ venueCategory   │ VARCHAR   │\n",
              "│ latitude        │ DOUBLE    │\n",
              "│ longitude       │ DOUBLE    │\n",
              "│ timezoneOffset  │ BIGINT    │\n",
              "│ utcTimestamp    │ VARCHAR   │\n",
              "└─────────────────┴───────────┘"
            ]
          },
          "metadata": {},
          "execution_count": 12
        }
      ]
    },
    {
      "cell_type": "markdown",
      "source": [
        "# Requêtes"
      ],
      "metadata": {
        "id": "-fy2q0AbcqMk"
      }
    },
    {
      "cell_type": "markdown",
      "source": [
        "convertir le timestamp"
      ],
      "metadata": {
        "id": "GkegmQ1dSBkY"
      }
    },
    {
      "cell_type": "code",
      "source": [
        "visit2 = db.sql(\"\"\"\n",
        "  SELECT *, strptime(utcTimestamp, '%a %b %d %X %z %Y') as datetime\n",
        "  FROM Visit\n",
        "\"\"\")\n",
        "visit2"
      ],
      "metadata": {
        "colab": {
          "base_uri": "https://localhost:8080/"
        },
        "id": "iUYO0SiuO1Ej",
        "outputId": "3efda7d4-672e-4eb6-a926-1a42dd75daec"
      },
      "execution_count": 13,
      "outputs": [
        {
          "output_type": "execute_result",
          "data": {
            "text/plain": [
              "┌────────┬──────────────────────┬───┬────────────────┬──────────────────────┬──────────────────────┐\n",
              "│ userId │       venueId        │ … │ timezoneOffset │     utcTimestamp     │       datetime       │\n",
              "│ int64  │       varchar        │   │     int64      │       varchar        │ timestamp with tim…  │\n",
              "├────────┼──────────────────────┼───┼────────────────┼──────────────────────┼──────────────────────┤\n",
              "│    470 │ 49bbd6c0f964a520f4…  │ … │           -240 │ Tue Apr 03 18:00:0…  │ 2012-04-03 18:00:0…  │\n",
              "│    979 │ 4a43c0aef964a520c6…  │ … │           -240 │ Tue Apr 03 18:00:2…  │ 2012-04-03 18:00:2…  │\n",
              "│     69 │ 4c5cc7b485a1e21e00…  │ … │           -240 │ Tue Apr 03 18:02:2…  │ 2012-04-03 18:02:2…  │\n",
              "│    395 │ 4bc7086715a7ef3bef…  │ … │           -240 │ Tue Apr 03 18:02:4…  │ 2012-04-03 18:02:4…  │\n",
              "│     87 │ 4cf2c5321d18a14395…  │ … │           -240 │ Tue Apr 03 18:03:0…  │ 2012-04-03 18:03:0…  │\n",
              "│    484 │ 4b5b981bf964a52090…  │ … │           -240 │ Tue Apr 03 18:04:0…  │ 2012-04-03 18:04:0…  │\n",
              "│    642 │ 4ab966c3f964a5203c…  │ … │           -240 │ Tue Apr 03 18:04:3…  │ 2012-04-03 18:04:3…  │\n",
              "│    292 │ 4d0cc47f903d370418…  │ … │           -240 │ Tue Apr 03 18:04:4…  │ 2012-04-03 18:04:4…  │\n",
              "│    428 │ 4ce1863bc4f6a35d8b…  │ … │           -240 │ Tue Apr 03 18:06:1…  │ 2012-04-03 18:06:1…  │\n",
              "│    877 │ 4be319b321d5a59352…  │ … │           -240 │ Tue Apr 03 18:06:1…  │ 2012-04-03 18:06:1…  │\n",
              "│     ·  │          ·           │ · │             ·  │          ·           │          ·           │\n",
              "│     ·  │          ·           │ · │             ·  │          ·           │          ·           │\n",
              "│     ·  │          ·           │ · │             ·  │          ·           │          ·           │\n",
              "│    847 │ 49fe2f8af964a5207b…  │ … │           -240 │ Wed Apr 11 17:04:0…  │ 2012-04-11 17:04:0…  │\n",
              "│     45 │ 4b735fe3f964a5205b…  │ … │           -240 │ Wed Apr 11 17:04:0…  │ 2012-04-11 17:04:0…  │\n",
              "│    621 │ 4f85b99de4b0d19a2f…  │ … │           -240 │ Wed Apr 11 17:04:3…  │ 2012-04-11 17:04:3…  │\n",
              "│    537 │ 4f6491dce4b05c1d59…  │ … │           -240 │ Wed Apr 11 17:05:0…  │ 2012-04-11 17:05:0…  │\n",
              "│    976 │ 4b9146f5f964a52058…  │ … │           -240 │ Wed Apr 11 17:05:3…  │ 2012-04-11 17:05:3…  │\n",
              "│    389 │ 4b37853af964a520c5…  │ … │           -240 │ Wed Apr 11 17:06:1…  │ 2012-04-11 17:06:1…  │\n",
              "│    663 │ 4baa673bf964a520d8…  │ … │           -240 │ Wed Apr 11 17:08:1…  │ 2012-04-11 17:08:1…  │\n",
              "│    217 │ 4d93828762ad5481a4…  │ … │           -240 │ Wed Apr 11 17:08:3…  │ 2012-04-11 17:08:3…  │\n",
              "│   1066 │ 4ae0e652f964a52081…  │ … │           -240 │ Wed Apr 11 17:09:1…  │ 2012-04-11 17:09:1…  │\n",
              "│   1079 │ 4af8875bf964a5200c…  │ … │           -240 │ Wed Apr 11 17:09:1…  │ 2012-04-11 17:09:1…  │\n",
              "├────────┴──────────────────────┴───┴────────────────┴──────────────────────┴──────────────────────┤\n",
              "│ ? rows (>9999 rows, 20 shown)                                                9 columns (5 shown) │\n",
              "└──────────────────────────────────────────────────────────────────────────────────────────────────┘"
            ]
          },
          "metadata": {},
          "execution_count": 13
        }
      ]
    },
    {
      "cell_type": "code",
      "source": [
        "visit3 = db.sql(\"\"\"\n",
        "  SELECT userId, venueId, datetime\n",
        "  FROM visit2\n",
        "\"\"\")\n",
        "\n",
        "visit3"
      ],
      "metadata": {
        "colab": {
          "base_uri": "https://localhost:8080/"
        },
        "id": "P2lUoxwjz24m",
        "outputId": "a45a2db5-655e-4d59-a7ec-767198ecb527"
      },
      "execution_count": 14,
      "outputs": [
        {
          "output_type": "execute_result",
          "data": {
            "text/plain": [
              "┌────────┬──────────────────────────┬──────────────────────────┐\n",
              "│ userId │         venueId          │         datetime         │\n",
              "│ int64  │         varchar          │ timestamp with time zone │\n",
              "├────────┼──────────────────────────┼──────────────────────────┤\n",
              "│    470 │ 49bbd6c0f964a520f4531fe3 │ 2012-04-03 18:00:09+00   │\n",
              "│    979 │ 4a43c0aef964a520c6a61fe3 │ 2012-04-03 18:00:25+00   │\n",
              "│     69 │ 4c5cc7b485a1e21e00d35711 │ 2012-04-03 18:02:24+00   │\n",
              "│    395 │ 4bc7086715a7ef3bef9878da │ 2012-04-03 18:02:41+00   │\n",
              "│     87 │ 4cf2c5321d18a143951b5cec │ 2012-04-03 18:03:00+00   │\n",
              "│    484 │ 4b5b981bf964a520900929e3 │ 2012-04-03 18:04:00+00   │\n",
              "│    642 │ 4ab966c3f964a5203c7f20e3 │ 2012-04-03 18:04:38+00   │\n",
              "│    292 │ 4d0cc47f903d37041864bf55 │ 2012-04-03 18:04:42+00   │\n",
              "│    428 │ 4ce1863bc4f6a35d8bd2db6c │ 2012-04-03 18:06:18+00   │\n",
              "│    877 │ 4be319b321d5a59352311811 │ 2012-04-03 18:06:19+00   │\n",
              "│     ·  │            ·             │           ·              │\n",
              "│     ·  │            ·             │           ·              │\n",
              "│     ·  │            ·             │           ·              │\n",
              "│    847 │ 49fe2f8af964a5207b6f1fe3 │ 2012-04-11 17:04:02+00   │\n",
              "│     45 │ 4b735fe3f964a5205bab2de3 │ 2012-04-11 17:04:03+00   │\n",
              "│    621 │ 4f85b99de4b0d19a2f21e5a1 │ 2012-04-11 17:04:36+00   │\n",
              "│    537 │ 4f6491dce4b05c1d59696fc2 │ 2012-04-11 17:05:05+00   │\n",
              "│    976 │ 4b9146f5f964a52058af33e3 │ 2012-04-11 17:05:37+00   │\n",
              "│    389 │ 4b37853af964a520c54125e3 │ 2012-04-11 17:06:11+00   │\n",
              "│    663 │ 4baa673bf964a520d8663ae3 │ 2012-04-11 17:08:18+00   │\n",
              "│    217 │ 4d93828762ad5481a4cd834b │ 2012-04-11 17:08:38+00   │\n",
              "│   1066 │ 4ae0e652f964a520818321e3 │ 2012-04-11 17:09:12+00   │\n",
              "│   1079 │ 4af8875bf964a5200c0e22e3 │ 2012-04-11 17:09:13+00   │\n",
              "├────────┴──────────────────────────┴──────────────────────────┤\n",
              "│ ? rows (>9999 rows, 20 shown)                      3 columns │\n",
              "└──────────────────────────────────────────────────────────────┘"
            ]
          },
          "metadata": {},
          "execution_count": 14
        }
      ]
    },
    {
      "cell_type": "markdown",
      "source": [
        "##  Ex1 Sequences de visites\n",
        "\n"
      ],
      "metadata": {
        "id": "1piNIH57pdDq"
      }
    },
    {
      "cell_type": "markdown",
      "source": [
        "### Numéro de POI\n",
        "\n",
        "Définir les vues\n",
        " * venueId_poi(venueId, poi) qui associe le numéro original de venueId avec poi.\n",
        "   * Indication, utiliser la fonction row_number() over( ...)\n",
        " * visit_poi(userId, poi, datetime) avec des numéros de poi allant de 1 à n\n",
        "\n"
      ],
      "metadata": {
        "id": "dY0FLu6kDZ-I"
      }
    },
    {
      "cell_type": "code",
      "source": [
        "venueId_poi = db.sql(\"\"\"\n",
        "  select venueId, row_number() over(order by venueId) as poi\n",
        "  from visit3\n",
        "  group by venueId\n",
        "\"\"\")\n",
        "\n"
      ],
      "metadata": {
        "id": "JHgFMt7NKdO9"
      },
      "execution_count": 15,
      "outputs": []
    },
    {
      "cell_type": "code",
      "source": [
        "venueId_poi"
      ],
      "metadata": {
        "colab": {
          "base_uri": "https://localhost:8080/"
        },
        "id": "QJIbusGlMACC",
        "outputId": "a96cbffe-09be-40ba-b719-7654564698fd"
      },
      "execution_count": 16,
      "outputs": [
        {
          "output_type": "execute_result",
          "data": {
            "text/plain": [
              "┌──────────────────────────┬───────┐\n",
              "│         venueId          │  poi  │\n",
              "│         varchar          │ int64 │\n",
              "├──────────────────────────┼───────┤\n",
              "│ 3fd66200f964a52000e71ee3 │     1 │\n",
              "│ 3fd66200f964a52000e81ee3 │     2 │\n",
              "│ 3fd66200f964a52000f11ee3 │     3 │\n",
              "│ 3fd66200f964a52001e51ee3 │     4 │\n",
              "│ 3fd66200f964a52001e81ee3 │     5 │\n",
              "│ 3fd66200f964a52002eb1ee3 │     6 │\n",
              "│ 3fd66200f964a52003e51ee3 │     7 │\n",
              "│ 3fd66200f964a52003e71ee3 │     8 │\n",
              "│ 3fd66200f964a52003e81ee3 │     9 │\n",
              "│ 3fd66200f964a52004e41ee3 │    10 │\n",
              "│            ·             │     · │\n",
              "│            ·             │     · │\n",
              "│            ·             │     · │\n",
              "│ 4b4f4d1bf964a5205a0027e3 │  9991 │\n",
              "│ 4b4f593ef964a5207f0227e3 │  9992 │\n",
              "│ 4b4f59def964a520a20227e3 │  9993 │\n",
              "│ 4b4f5a31f964a520b20227e3 │  9994 │\n",
              "│ 4b4f5dd8f964a520600327e3 │  9995 │\n",
              "│ 4b4f601df964a520cf0327e3 │  9996 │\n",
              "│ 4b4f6600f964a520cf0427e3 │  9997 │\n",
              "│ 4b4f676cf964a520150527e3 │  9998 │\n",
              "│ 4b4f676ff964a520160527e3 │  9999 │\n",
              "│ 4b4f695ef964a520640527e3 │ 10000 │\n",
              "├──────────────────────────┴───────┤\n",
              "│  ? rows (>9999 rows, 20 shown)   │\n",
              "└──────────────────────────────────┘"
            ]
          },
          "metadata": {},
          "execution_count": 16
        }
      ]
    },
    {
      "cell_type": "code",
      "source": [
        "visit_poi = db.sql(\"\"\"\n",
        "  select w.userId, v.poi, w.datetime\n",
        "  from venueId_poi v, visit3 w\n",
        "  where w.venueId ==  v.venueId\n",
        "\"\"\")\n",
        "\n",
        "visit_poi"
      ],
      "metadata": {
        "colab": {
          "base_uri": "https://localhost:8080/"
        },
        "id": "XB3RSNnyFJDs",
        "outputId": "81e810bf-ef39-4c13-de39-925359432e09"
      },
      "execution_count": 20,
      "outputs": [
        {
          "output_type": "execute_result",
          "data": {
            "text/plain": [
              "┌────────┬───────┬──────────────────────────┐\n",
              "│ userId │  poi  │         datetime         │\n",
              "│ int64  │ int64 │ timestamp with time zone │\n",
              "├────────┼───────┼──────────────────────────┤\n",
              "│    688 │     1 │ 2013-02-16 02:29:11+00   │\n",
              "│    953 │     2 │ 2013-01-07 22:30:07+00   │\n",
              "│    602 │     3 │ 2013-02-03 04:19:08+00   │\n",
              "│    558 │     4 │ 2012-05-16 03:24:17+00   │\n",
              "│    352 │     5 │ 2013-01-25 23:45:38+00   │\n",
              "│    122 │     6 │ 2013-02-08 02:49:02+00   │\n",
              "│    110 │     7 │ 2012-07-04 03:49:33+00   │\n",
              "│    349 │     8 │ 2013-02-07 01:15:05+00   │\n",
              "│   1067 │     9 │ 2012-07-29 05:39:30+00   │\n",
              "│    115 │    10 │ 2013-01-13 06:08:45+00   │\n",
              "│     ·  │     · │           ·              │\n",
              "│     ·  │     · │           ·              │\n",
              "│     ·  │     · │           ·              │\n",
              "│    236 │   948 │ 2012-08-18 02:47:22+00   │\n",
              "│    586 │   951 │ 2012-11-11 16:40:39+00   │\n",
              "│    636 │   952 │ 2012-12-15 05:13:35+00   │\n",
              "│    365 │   955 │ 2012-06-16 21:51:12+00   │\n",
              "│   1058 │   958 │ 2012-04-15 04:25:01+00   │\n",
              "│    362 │   963 │ 2012-11-18 03:14:51+00   │\n",
              "│    130 │   966 │ 2012-10-28 18:35:58+00   │\n",
              "│    532 │   970 │ 2012-10-27 04:02:25+00   │\n",
              "│    742 │   983 │ 2012-04-22 00:41:33+00   │\n",
              "│    706 │   985 │ 2012-05-03 21:49:34+00   │\n",
              "├────────┴───────┴──────────────────────────┤\n",
              "│ ? rows (>9999 rows, 20 shown)   3 columns │\n",
              "└───────────────────────────────────────────┘"
            ]
          },
          "metadata": {},
          "execution_count": 20
        }
      ]
    },
    {
      "cell_type": "markdown",
      "source": [
        "### 1.1) Rang\n",
        "Pour chaque utilisateur, ordonner les visites par date et leur attribuer un **rang** allant de 1 (plus ancienne) à n (la plus récente)"
      ],
      "metadata": {
        "id": "OLSok6ocLbdH"
      }
    },
    {
      "cell_type": "code",
      "source": [
        "visit_rank = db.sql(\"\"\"\n",
        "  select userId, poi, datetime, rank() over(partition by userid order by datetime) as rank\n",
        "  from visit_poi\n",
        "  order by userid\n",
        "\"\"\")\n",
        "visit_rank"
      ],
      "metadata": {
        "id": "Xbei6sMLpkYI",
        "colab": {
          "base_uri": "https://localhost:8080/"
        },
        "outputId": "52ff134a-04d2-4319-f9de-b04954debc46"
      },
      "execution_count": 21,
      "outputs": [
        {
          "output_type": "execute_result",
          "data": {
            "text/plain": [
              "┌────────┬───────┬──────────────────────────┬───────┐\n",
              "│ userId │  poi  │         datetime         │ rank  │\n",
              "│ int64  │ int64 │ timestamp with time zone │ int64 │\n",
              "├────────┼───────┼──────────────────────────┼───────┤\n",
              "│      1 │  6428 │ 2012-04-04 23:31:31+00   │     1 │\n",
              "│      1 │ 24554 │ 2012-04-07 17:42:24+00   │     2 │\n",
              "│      1 │ 26196 │ 2012-04-08 18:20:29+00   │     3 │\n",
              "│      1 │  4131 │ 2012-04-08 20:02:10+00   │     4 │\n",
              "│      1 │   963 │ 2012-04-09 16:20:52+00   │     5 │\n",
              "│      1 │   525 │ 2012-04-10 00:24:31+00   │     6 │\n",
              "│      1 │  1241 │ 2012-04-10 03:36:56+00   │     7 │\n",
              "│      1 │ 33237 │ 2012-04-10 16:21:48+00   │     8 │\n",
              "│      1 │  2643 │ 2012-04-12 17:19:21+00   │     9 │\n",
              "│      1 │ 33237 │ 2012-04-13 15:41:41+00   │    10 │\n",
              "│      · │    ·  │           ·              │     · │\n",
              "│      · │    ·  │           ·              │     · │\n",
              "│      · │    ·  │           ·              │     · │\n",
              "│     56 │  5511 │ 2012-12-22 01:22:30+00   │   308 │\n",
              "│     56 │  3681 │ 2012-12-22 19:30:05+00   │   309 │\n",
              "│     56 │ 31764 │ 2012-12-28 13:01:17+00   │   310 │\n",
              "│     57 │ 15816 │ 2012-04-03 22:26:51+00   │     1 │\n",
              "│     57 │  5651 │ 2012-04-04 13:07:31+00   │     2 │\n",
              "│     57 │ 15816 │ 2012-04-07 13:54:16+00   │     3 │\n",
              "│     57 │ 21139 │ 2012-04-07 16:22:45+00   │     4 │\n",
              "│     57 │ 25176 │ 2012-04-07 20:29:23+00   │     5 │\n",
              "│     57 │  5651 │ 2012-04-09 12:58:54+00   │     6 │\n",
              "│     57 │ 15816 │ 2012-04-09 22:18:52+00   │     7 │\n",
              "├────────┴───────┴──────────────────────────┴───────┤\n",
              "│ ? rows (>9999 rows, 20 shown)           4 columns │\n",
              "└───────────────────────────────────────────────────┘"
            ]
          },
          "metadata": {},
          "execution_count": 21
        }
      ]
    },
    {
      "cell_type": "markdown",
      "source": [
        "### 1.2) Date précédente et déplacement\n",
        " On veut connaitre la durée de déplacement séparant deux visites consécutives d'un meme utilisateur.\n",
        "Pour chaque visite d'un utilisateur, ajouter l'attribut **prev_date** contenant la date de la visite qu'il a effectuée précédemment.\n",
        "\n",
        "Puis ajouter l'attribut **interval_duration** calculé par différence entre la date courante et la date précédente.\n",
        "Indication, voir la fonction *date_diff('sec', a, b)*"
      ],
      "metadata": {
        "id": "K9ZDc-2CIXt7"
      }
    },
    {
      "cell_type": "code",
      "source": [
        "visit_prev_date = db.sql(\"\"\"\n",
        "  select userId, poi, datetime, rank,\n",
        "          min(datetime) over(partition by userid order by datetime rows between 1 preceding and current row) as prev_date\n",
        "  from visit_rank\n",
        "  order by userid\n",
        "\"\"\")\n",
        "visit_prev_date"
      ],
      "metadata": {
        "colab": {
          "base_uri": "https://localhost:8080/"
        },
        "id": "k_s5rrbjLhOf",
        "outputId": "bfc80cc5-49b1-4c27-83e2-c737b9fe6a40"
      },
      "execution_count": 22,
      "outputs": [
        {
          "output_type": "execute_result",
          "data": {
            "text/plain": [
              "┌────────┬───────┬──────────────────────────┬───────┬──────────────────────────┐\n",
              "│ userId │  poi  │         datetime         │ rank  │        prev_date         │\n",
              "│ int64  │ int64 │ timestamp with time zone │ int64 │ timestamp with time zone │\n",
              "├────────┼───────┼──────────────────────────┼───────┼──────────────────────────┤\n",
              "│      1 │  6428 │ 2012-04-04 23:31:31+00   │     1 │ 2012-04-04 23:31:31+00   │\n",
              "│      1 │ 24554 │ 2012-04-07 17:42:24+00   │     2 │ 2012-04-04 23:31:31+00   │\n",
              "│      1 │ 26196 │ 2012-04-08 18:20:29+00   │     3 │ 2012-04-07 17:42:24+00   │\n",
              "│      1 │  4131 │ 2012-04-08 20:02:10+00   │     4 │ 2012-04-08 18:20:29+00   │\n",
              "│      1 │   963 │ 2012-04-09 16:20:52+00   │     5 │ 2012-04-08 20:02:10+00   │\n",
              "│      1 │   525 │ 2012-04-10 00:24:31+00   │     6 │ 2012-04-09 16:20:52+00   │\n",
              "│      1 │  1241 │ 2012-04-10 03:36:56+00   │     7 │ 2012-04-10 00:24:31+00   │\n",
              "│      1 │ 33237 │ 2012-04-10 16:21:48+00   │     8 │ 2012-04-10 03:36:56+00   │\n",
              "│      1 │  2643 │ 2012-04-12 17:19:21+00   │     9 │ 2012-04-10 16:21:48+00   │\n",
              "│      1 │ 33237 │ 2012-04-13 15:41:41+00   │    10 │ 2012-04-12 17:19:21+00   │\n",
              "│      · │    ·  │           ·              │     · │           ·              │\n",
              "│      · │    ·  │           ·              │     · │           ·              │\n",
              "│      · │    ·  │           ·              │     · │           ·              │\n",
              "│     56 │  5511 │ 2012-12-22 01:22:30+00   │   308 │ 2012-12-21 23:56:04+00   │\n",
              "│     56 │  3681 │ 2012-12-22 19:30:05+00   │   309 │ 2012-12-22 01:22:30+00   │\n",
              "│     56 │ 31764 │ 2012-12-28 13:01:17+00   │   310 │ 2012-12-22 19:30:05+00   │\n",
              "│     57 │ 15816 │ 2012-04-03 22:26:51+00   │     1 │ 2012-04-03 22:26:51+00   │\n",
              "│     57 │  5651 │ 2012-04-04 13:07:31+00   │     2 │ 2012-04-03 22:26:51+00   │\n",
              "│     57 │ 15816 │ 2012-04-07 13:54:16+00   │     3 │ 2012-04-04 13:07:31+00   │\n",
              "│     57 │ 21139 │ 2012-04-07 16:22:45+00   │     4 │ 2012-04-07 13:54:16+00   │\n",
              "│     57 │ 25176 │ 2012-04-07 20:29:23+00   │     5 │ 2012-04-07 16:22:45+00   │\n",
              "│     57 │  5651 │ 2012-04-09 12:58:54+00   │     6 │ 2012-04-07 20:29:23+00   │\n",
              "│     57 │ 15816 │ 2012-04-09 22:18:52+00   │     7 │ 2012-04-09 12:58:54+00   │\n",
              "├────────┴───────┴──────────────────────────┴───────┴──────────────────────────┤\n",
              "│ ? rows (>9999 rows, 20 shown)                                      5 columns │\n",
              "└──────────────────────────────────────────────────────────────────────────────┘"
            ]
          },
          "metadata": {},
          "execution_count": 22
        }
      ]
    },
    {
      "cell_type": "code",
      "source": [
        "visit_duration = db.sql(\"\"\"\n",
        "  select userId, poi, datetime, rank, prev_date, date_diff('sec', prev_date, datetime) as interval_duration\n",
        "  from visit_prev_date\n",
        "\"\"\")\n",
        "\n",
        "visit_duration"
      ],
      "metadata": {
        "colab": {
          "base_uri": "https://localhost:8080/"
        },
        "id": "gW39ONgfZupK",
        "outputId": "32350f17-812f-4bfb-c60c-a3052d3d042d"
      },
      "execution_count": 23,
      "outputs": [
        {
          "output_type": "execute_result",
          "data": {
            "text/plain": [
              "┌────────┬───────┬──────────────────────────┬───────┬──────────────────────────┬───────────────────┐\n",
              "│ userId │  poi  │         datetime         │ rank  │        prev_date         │ interval_duration │\n",
              "│ int64  │ int64 │ timestamp with time zone │ int64 │ timestamp with time zone │       int64       │\n",
              "├────────┼───────┼──────────────────────────┼───────┼──────────────────────────┼───────────────────┤\n",
              "│      1 │  6428 │ 2012-04-04 23:31:31+00   │     1 │ 2012-04-04 23:31:31+00   │                 0 │\n",
              "│      1 │ 24554 │ 2012-04-07 17:42:24+00   │     2 │ 2012-04-04 23:31:31+00   │            238253 │\n",
              "│      1 │ 26196 │ 2012-04-08 18:20:29+00   │     3 │ 2012-04-07 17:42:24+00   │             88685 │\n",
              "│      1 │  4131 │ 2012-04-08 20:02:10+00   │     4 │ 2012-04-08 18:20:29+00   │              6101 │\n",
              "│      1 │   963 │ 2012-04-09 16:20:52+00   │     5 │ 2012-04-08 20:02:10+00   │             73122 │\n",
              "│      1 │   525 │ 2012-04-10 00:24:31+00   │     6 │ 2012-04-09 16:20:52+00   │             29019 │\n",
              "│      1 │  1241 │ 2012-04-10 03:36:56+00   │     7 │ 2012-04-10 00:24:31+00   │             11545 │\n",
              "│      1 │ 33237 │ 2012-04-10 16:21:48+00   │     8 │ 2012-04-10 03:36:56+00   │             45892 │\n",
              "│      1 │  2643 │ 2012-04-12 17:19:21+00   │     9 │ 2012-04-10 16:21:48+00   │            176253 │\n",
              "│      1 │ 33237 │ 2012-04-13 15:41:41+00   │    10 │ 2012-04-12 17:19:21+00   │             80540 │\n",
              "│      · │    ·  │           ·              │     · │           ·              │                ·  │\n",
              "│      · │    ·  │           ·              │     · │           ·              │                ·  │\n",
              "│      · │    ·  │           ·              │     · │           ·              │                ·  │\n",
              "│     56 │  5511 │ 2012-12-22 01:22:30+00   │   308 │ 2012-12-21 23:56:04+00   │              5186 │\n",
              "│     56 │  3681 │ 2012-12-22 19:30:05+00   │   309 │ 2012-12-22 01:22:30+00   │             65255 │\n",
              "│     56 │ 31764 │ 2012-12-28 13:01:17+00   │   310 │ 2012-12-22 19:30:05+00   │            495072 │\n",
              "│     57 │ 15816 │ 2012-04-03 22:26:51+00   │     1 │ 2012-04-03 22:26:51+00   │                 0 │\n",
              "│     57 │  5651 │ 2012-04-04 13:07:31+00   │     2 │ 2012-04-03 22:26:51+00   │             52840 │\n",
              "│     57 │ 15816 │ 2012-04-07 13:54:16+00   │     3 │ 2012-04-04 13:07:31+00   │            262005 │\n",
              "│     57 │ 21139 │ 2012-04-07 16:22:45+00   │     4 │ 2012-04-07 13:54:16+00   │              8909 │\n",
              "│     57 │ 25176 │ 2012-04-07 20:29:23+00   │     5 │ 2012-04-07 16:22:45+00   │             14798 │\n",
              "│     57 │  5651 │ 2012-04-09 12:58:54+00   │     6 │ 2012-04-07 20:29:23+00   │            145771 │\n",
              "│     57 │ 15816 │ 2012-04-09 22:18:52+00   │     7 │ 2012-04-09 12:58:54+00   │             33598 │\n",
              "├────────┴───────┴──────────────────────────┴───────┴──────────────────────────┴───────────────────┤\n",
              "│ ? rows (>9999 rows, 20 shown)                                                          6 columns │\n",
              "└──────────────────────────────────────────────────────────────────────────────────────────────────┘"
            ]
          },
          "metadata": {},
          "execution_count": 23
        }
      ]
    },
    {
      "cell_type": "markdown",
      "source": [
        "### 1.3) Numéro de trajectoire\n",
        "\n",
        "Séparer les visites de chaque utilisateur en trajectoires.\n",
        "\n",
        "  * Dans une trajectoire, la durée entre deux visites consécutives ne peut pas dépasser 1 jour (soit 24h * 3600 secondes).\n",
        "\n",
        "Ajouter l'attribut **traj** indiquant le numéro de la trajectoire pour un utilisateur donné.\n",
        "Indication: on peut utiliser une expression *case when then else end*"
      ],
      "metadata": {
        "id": "VeZpBl8qJtUx"
      }
    },
    {
      "cell_type": "code",
      "source": [
        "visit_traj1 = db.sql(\"\"\"\n",
        "  select userid, poi, datetime, rank, prev_date, interval_duration,\n",
        "          CASE\n",
        "            WHEN interval_duration == 0 THEN 1\n",
        "            WHEN interval_duration > 24*3600 THEN 1\n",
        "            ELSE 0\n",
        "          END as debut\n",
        "  from visit_duration\n",
        "\"\"\")\n",
        "visit_traj1"
      ],
      "metadata": {
        "colab": {
          "base_uri": "https://localhost:8080/"
        },
        "id": "_KJKgU7UbfCZ",
        "outputId": "b1d29015-2808-4e9f-baf6-12a21d31203e"
      },
      "execution_count": 24,
      "outputs": [
        {
          "output_type": "execute_result",
          "data": {
            "text/plain": [
              "┌────────┬───────┬──────────────────────────┬───────┬──────────────────────────┬───────────────────┬───────┐\n",
              "│ userId │  poi  │         datetime         │ rank  │        prev_date         │ interval_duration │ debut │\n",
              "│ int64  │ int64 │ timestamp with time zone │ int64 │ timestamp with time zone │       int64       │ int32 │\n",
              "├────────┼───────┼──────────────────────────┼───────┼──────────────────────────┼───────────────────┼───────┤\n",
              "│      1 │  6428 │ 2012-04-04 23:31:31+00   │     1 │ 2012-04-04 23:31:31+00   │                 0 │     1 │\n",
              "│      1 │ 24554 │ 2012-04-07 17:42:24+00   │     2 │ 2012-04-04 23:31:31+00   │            238253 │     1 │\n",
              "│      1 │ 26196 │ 2012-04-08 18:20:29+00   │     3 │ 2012-04-07 17:42:24+00   │             88685 │     1 │\n",
              "│      1 │  4131 │ 2012-04-08 20:02:10+00   │     4 │ 2012-04-08 18:20:29+00   │              6101 │     0 │\n",
              "│      1 │   963 │ 2012-04-09 16:20:52+00   │     5 │ 2012-04-08 20:02:10+00   │             73122 │     0 │\n",
              "│      1 │   525 │ 2012-04-10 00:24:31+00   │     6 │ 2012-04-09 16:20:52+00   │             29019 │     0 │\n",
              "│      1 │  1241 │ 2012-04-10 03:36:56+00   │     7 │ 2012-04-10 00:24:31+00   │             11545 │     0 │\n",
              "│      1 │ 33237 │ 2012-04-10 16:21:48+00   │     8 │ 2012-04-10 03:36:56+00   │             45892 │     0 │\n",
              "│      1 │  2643 │ 2012-04-12 17:19:21+00   │     9 │ 2012-04-10 16:21:48+00   │            176253 │     1 │\n",
              "│      1 │ 33237 │ 2012-04-13 15:41:41+00   │    10 │ 2012-04-12 17:19:21+00   │             80540 │     0 │\n",
              "│      · │    ·  │           ·              │     · │           ·              │                ·  │     · │\n",
              "│      · │    ·  │           ·              │     · │           ·              │                ·  │     · │\n",
              "│      · │    ·  │           ·              │     · │           ·              │                ·  │     · │\n",
              "│     56 │  5511 │ 2012-12-22 01:22:30+00   │   308 │ 2012-12-21 23:56:04+00   │              5186 │     0 │\n",
              "│     56 │  3681 │ 2012-12-22 19:30:05+00   │   309 │ 2012-12-22 01:22:30+00   │             65255 │     0 │\n",
              "│     56 │ 31764 │ 2012-12-28 13:01:17+00   │   310 │ 2012-12-22 19:30:05+00   │            495072 │     1 │\n",
              "│     57 │ 15816 │ 2012-04-03 22:26:51+00   │     1 │ 2012-04-03 22:26:51+00   │                 0 │     1 │\n",
              "│     57 │  5651 │ 2012-04-04 13:07:31+00   │     2 │ 2012-04-03 22:26:51+00   │             52840 │     0 │\n",
              "│     57 │ 15816 │ 2012-04-07 13:54:16+00   │     3 │ 2012-04-04 13:07:31+00   │            262005 │     1 │\n",
              "│     57 │ 21139 │ 2012-04-07 16:22:45+00   │     4 │ 2012-04-07 13:54:16+00   │              8909 │     0 │\n",
              "│     57 │ 25176 │ 2012-04-07 20:29:23+00   │     5 │ 2012-04-07 16:22:45+00   │             14798 │     0 │\n",
              "│     57 │  5651 │ 2012-04-09 12:58:54+00   │     6 │ 2012-04-07 20:29:23+00   │            145771 │     1 │\n",
              "│     57 │ 15816 │ 2012-04-09 22:18:52+00   │     7 │ 2012-04-09 12:58:54+00   │             33598 │     0 │\n",
              "├────────┴───────┴──────────────────────────┴───────┴──────────────────────────┴───────────────────┴───────┤\n",
              "│ ? rows (>9999 rows, 20 shown)                                                                  7 columns │\n",
              "└──────────────────────────────────────────────────────────────────────────────────────────────────────────┘"
            ]
          },
          "metadata": {},
          "execution_count": 24
        }
      ]
    },
    {
      "cell_type": "code",
      "source": [
        "visit_traj2 = db.sql(\"\"\"\n",
        "    select userid, poi, datetime, rank, prev_date, interval_duration, debut,\n",
        "            sum(debut)  over(partition by userid order by datetime rows between unbounded preceding and current row) as traj\n",
        "    from visit_traj1\n",
        "    order by userid\n",
        "\"\"\")\n",
        "\n",
        "visit_traj2"
      ],
      "metadata": {
        "colab": {
          "base_uri": "https://localhost:8080/"
        },
        "id": "x38KMTQMcPRB",
        "outputId": "f1ccdf30-2c8e-4317-c48c-94d9902105e5"
      },
      "execution_count": 28,
      "outputs": [
        {
          "output_type": "execute_result",
          "data": {
            "text/plain": [
              "┌────────┬───────┬──────────────────────────┬───────┬──────────────────────────┬───────────────────┬───────┬────────┐\n",
              "│ userId │  poi  │         datetime         │ rank  │        prev_date         │ interval_duration │ debut │  traj  │\n",
              "│ int64  │ int64 │ timestamp with time zone │ int64 │ timestamp with time zone │       int64       │ int32 │ int128 │\n",
              "├────────┼───────┼──────────────────────────┼───────┼──────────────────────────┼───────────────────┼───────┼────────┤\n",
              "│      1 │  6428 │ 2012-04-04 23:31:31+00   │     1 │ 2012-04-04 23:31:31+00   │                 0 │     1 │      1 │\n",
              "│      1 │ 24554 │ 2012-04-07 17:42:24+00   │     2 │ 2012-04-04 23:31:31+00   │            238253 │     1 │      2 │\n",
              "│      1 │ 26196 │ 2012-04-08 18:20:29+00   │     3 │ 2012-04-07 17:42:24+00   │             88685 │     1 │      3 │\n",
              "│      1 │  4131 │ 2012-04-08 20:02:10+00   │     4 │ 2012-04-08 18:20:29+00   │              6101 │     0 │      3 │\n",
              "│      1 │   963 │ 2012-04-09 16:20:52+00   │     5 │ 2012-04-08 20:02:10+00   │             73122 │     0 │      3 │\n",
              "│      1 │   525 │ 2012-04-10 00:24:31+00   │     6 │ 2012-04-09 16:20:52+00   │             29019 │     0 │      3 │\n",
              "│      1 │  1241 │ 2012-04-10 03:36:56+00   │     7 │ 2012-04-10 00:24:31+00   │             11545 │     0 │      3 │\n",
              "│      1 │ 33237 │ 2012-04-10 16:21:48+00   │     8 │ 2012-04-10 03:36:56+00   │             45892 │     0 │      3 │\n",
              "│      1 │  2643 │ 2012-04-12 17:19:21+00   │     9 │ 2012-04-10 16:21:48+00   │            176253 │     1 │      4 │\n",
              "│      1 │ 33237 │ 2012-04-13 15:41:41+00   │    10 │ 2012-04-12 17:19:21+00   │             80540 │     0 │      4 │\n",
              "│      · │    ·  │           ·              │     · │           ·              │                ·  │     · │      · │\n",
              "│      · │    ·  │           ·              │     · │           ·              │                ·  │     · │      · │\n",
              "│      · │    ·  │           ·              │     · │           ·              │                ·  │     · │      · │\n",
              "│     56 │  5511 │ 2012-12-22 01:22:30+00   │   308 │ 2012-12-21 23:56:04+00   │              5186 │     0 │     62 │\n",
              "│     56 │  3681 │ 2012-12-22 19:30:05+00   │   309 │ 2012-12-22 01:22:30+00   │             65255 │     0 │     62 │\n",
              "│     56 │ 31764 │ 2012-12-28 13:01:17+00   │   310 │ 2012-12-22 19:30:05+00   │            495072 │     1 │     63 │\n",
              "│     57 │ 15816 │ 2012-04-03 22:26:51+00   │     1 │ 2012-04-03 22:26:51+00   │                 0 │     1 │      1 │\n",
              "│     57 │  5651 │ 2012-04-04 13:07:31+00   │     2 │ 2012-04-03 22:26:51+00   │             52840 │     0 │      1 │\n",
              "│     57 │ 15816 │ 2012-04-07 13:54:16+00   │     3 │ 2012-04-04 13:07:31+00   │            262005 │     1 │      2 │\n",
              "│     57 │ 21139 │ 2012-04-07 16:22:45+00   │     4 │ 2012-04-07 13:54:16+00   │              8909 │     0 │      2 │\n",
              "│     57 │ 25176 │ 2012-04-07 20:29:23+00   │     5 │ 2012-04-07 16:22:45+00   │             14798 │     0 │      2 │\n",
              "│     57 │  5651 │ 2012-04-09 12:58:54+00   │     6 │ 2012-04-07 20:29:23+00   │            145771 │     1 │      3 │\n",
              "│     57 │ 15816 │ 2012-04-09 22:18:52+00   │     7 │ 2012-04-09 12:58:54+00   │             33598 │     0 │      3 │\n",
              "├────────┴───────┴──────────────────────────┴───────┴──────────────────────────┴───────────────────┴───────┴────────┤\n",
              "│ ? rows (>9999 rows, 20 shown)                                                                           8 columns │\n",
              "└───────────────────────────────────────────────────────────────────────────────────────────────────────────────────┘"
            ]
          },
          "metadata": {},
          "execution_count": 28
        }
      ]
    },
    {
      "cell_type": "markdown",
      "source": [
        "## Ex2: Fenètres glissantes"
      ],
      "metadata": {
        "id": "m8XLpvMvLEBw"
      }
    },
    {
      "cell_type": "markdown",
      "source": [
        "### 2.1) Nombre de POI visités en une semaine\n",
        "\n",
        "Ajouter l'attribut **nb_POI_7jours** donnant pour chaque jour où un utilisateur a fait des visites, le nombre de POI visités dans la semaine qui précède."
      ],
      "metadata": {
        "id": "AaU91vK1LIbP"
      }
    },
    {
      "cell_type": "code",
      "source": [
        "visit_7j = db.sql(\"\"\"\n",
        "    select userid, poi, datetime, rank, prev_date, interval_duration, debut, traj,\n",
        "          count(poi) OVER seven as nb_POI_7j\n",
        "    from visit_traj2\n",
        "         WINDOW seven AS (\n",
        "            PARTITION BY userid\n",
        "            ORDER BY datetime\n",
        "            RANGE BETWEEN INTERVAL 6 DAYS PRECEDING\n",
        "                  AND CURRENT ROW\n",
        "         )\n",
        "    order by userid\n",
        "\"\"\")\n",
        "\n",
        "visit_7j"
      ],
      "metadata": {
        "colab": {
          "base_uri": "https://localhost:8080/",
          "height": 570,
          "referenced_widgets": [
            "92b4774fd4844c988cdc727508c86662",
            "fe48221a890f410c9c7ad2f8d1a4b98d",
            "892ad320d90e4c379e6c72c28031d45d"
          ]
        },
        "id": "7wvWGRh5XpDT",
        "outputId": "fc2f7418-774f-4fd8-e880-fa13519a45ff"
      },
      "execution_count": 44,
      "outputs": [
        {
          "output_type": "display_data",
          "data": {
            "text/plain": [
              "FloatProgress(value=0.0, layout=Layout(width='auto'), style=ProgressStyle(bar_color='black'))"
            ],
            "application/vnd.jupyter.widget-view+json": {
              "version_major": 2,
              "version_minor": 0,
              "model_id": "92b4774fd4844c988cdc727508c86662"
            }
          },
          "metadata": {}
        },
        {
          "output_type": "execute_result",
          "data": {
            "text/plain": [
              "┌────────┬───────┬──────────────────────┬───────┬───┬───────────────────┬───────┬────────┬───────────┐\n",
              "│ userId │  poi  │       datetime       │ rank  │ … │ interval_duration │ debut │  traj  │ nb_POI_7j │\n",
              "│ int64  │ int64 │ timestamp with tim…  │ int64 │   │       int64       │ int32 │ int128 │   int64   │\n",
              "├────────┼───────┼──────────────────────┼───────┼───┼───────────────────┼───────┼────────┼───────────┤\n",
              "│      1 │  6428 │ 2012-04-04 23:31:3…  │     1 │ … │                 0 │     1 │      1 │         1 │\n",
              "│      1 │ 24554 │ 2012-04-07 17:42:2…  │     2 │ … │            238253 │     1 │      2 │         2 │\n",
              "│      1 │ 26196 │ 2012-04-08 18:20:2…  │     3 │ … │             88685 │     1 │      3 │         3 │\n",
              "│      1 │  4131 │ 2012-04-08 20:02:1…  │     4 │ … │              6101 │     0 │      3 │         4 │\n",
              "│      1 │   963 │ 2012-04-09 16:20:5…  │     5 │ … │             73122 │     0 │      3 │         5 │\n",
              "│      1 │   525 │ 2012-04-10 00:24:3…  │     6 │ … │             29019 │     0 │      3 │         6 │\n",
              "│      1 │  1241 │ 2012-04-10 03:36:5…  │     7 │ … │             11545 │     0 │      3 │         7 │\n",
              "│      1 │ 33237 │ 2012-04-10 16:21:4…  │     8 │ … │             45892 │     0 │      3 │         8 │\n",
              "│      1 │  2643 │ 2012-04-12 17:19:2…  │     9 │ … │            176253 │     1 │      4 │         8 │\n",
              "│      1 │ 33237 │ 2012-04-13 15:41:4…  │    10 │ … │             80540 │     0 │      4 │         9 │\n",
              "│      · │    ·  │          ·           │     · │ · │                ·  │     · │      · │         · │\n",
              "│      · │    ·  │          ·           │     · │ · │                ·  │     · │      · │         · │\n",
              "│      · │    ·  │          ·           │     · │ · │                ·  │     · │      · │         · │\n",
              "│     56 │  5511 │ 2012-12-22 01:22:3…  │   308 │ … │              5186 │     0 │     62 │         7 │\n",
              "│     56 │  3681 │ 2012-12-22 19:30:0…  │   309 │ … │             65255 │     0 │     62 │         7 │\n",
              "│     56 │ 31764 │ 2012-12-28 13:01:1…  │   310 │ … │            495072 │     1 │     63 │         2 │\n",
              "│     57 │ 15816 │ 2012-04-03 22:26:5…  │     1 │ … │                 0 │     1 │      1 │         1 │\n",
              "│     57 │  5651 │ 2012-04-04 13:07:3…  │     2 │ … │             52840 │     0 │      1 │         2 │\n",
              "│     57 │ 15816 │ 2012-04-07 13:54:1…  │     3 │ … │            262005 │     1 │      2 │         3 │\n",
              "│     57 │ 21139 │ 2012-04-07 16:22:4…  │     4 │ … │              8909 │     0 │      2 │         4 │\n",
              "│     57 │ 25176 │ 2012-04-07 20:29:2…  │     5 │ … │             14798 │     0 │      2 │         5 │\n",
              "│     57 │  5651 │ 2012-04-09 12:58:5…  │     6 │ … │            145771 │     1 │      3 │         6 │\n",
              "│     57 │ 15816 │ 2012-04-09 22:18:5…  │     7 │ … │             33598 │     0 │      3 │         7 │\n",
              "├────────┴───────┴──────────────────────┴───────┴───┴───────────────────┴───────┴────────┴───────────┤\n",
              "│ ? rows (>9999 rows, 20 shown)                                                  9 columns (8 shown) │\n",
              "└────────────────────────────────────────────────────────────────────────────────────────────────────┘"
            ]
          },
          "metadata": {},
          "execution_count": 44
        }
      ]
    },
    {
      "cell_type": "markdown",
      "source": [
        "### 2.2) Nombre cumulé de visites par utilisateur\n",
        "\n",
        "Pour chaque utilisateur ajouter un attribut **cumul_visites** indiquant le nombre de visites qu'il a effectuées"
      ],
      "metadata": {
        "id": "tNXhYEQpPm9j"
      }
    },
    {
      "cell_type": "code",
      "source": [
        "#visit_cumul_visites = db.sql(\"\"\"\n",
        "#    select userid, poi, datetime, rank, prev_date, interval_duration, debut, traj, nb_POI_7j,\n",
        "#            count( distinct poi)  over(partition by userid  order by datetime range between  unbounded preceding and current row) as cumul_visites\n",
        "#    from visit_7j\n",
        "#    order by userid, datetime\n",
        "#\"\"\")\n",
        "\n",
        "#visit_cumul_visites"
      ],
      "metadata": {
        "id": "id8u8tC6Xpj1"
      },
      "execution_count": 88,
      "outputs": []
    },
    {
      "cell_type": "code",
      "source": [
        "visit_first_seen = db.sql(\"\"\"\n",
        "    select userid, poi, datetime, rank, prev_date, interval_duration, debut, traj, nb_POI_7j,\n",
        "      CASE\n",
        "        WHEN 'ok' == (select 'ok' from visit_7j w  where w.userid = v.userid and w.poi = v.poi and w.datetime < v.datetime) THEN 0\n",
        "        ELSE 1\n",
        "      END as first_seen\n",
        "    from visit_7j v\n",
        "    order by userid, datetime\n",
        "\"\"\")\n",
        "visit_first_seen"
      ],
      "metadata": {
        "colab": {
          "base_uri": "https://localhost:8080/",
          "height": 570,
          "referenced_widgets": [
            "03d0c4c97a6844808f61424af3dd09fc",
            "17e693e05bf44bc9a929c8a9a76c4f83",
            "d951172b1ffa40ef8136a65affcdc293"
          ]
        },
        "id": "ZSOo46o_mE-N",
        "outputId": "6149dcf4-daed-4f25-9ccd-6daabbb47156"
      },
      "execution_count": 99,
      "outputs": [
        {
          "output_type": "display_data",
          "data": {
            "text/plain": [
              "FloatProgress(value=0.0, layout=Layout(width='auto'), style=ProgressStyle(bar_color='black'))"
            ],
            "application/vnd.jupyter.widget-view+json": {
              "version_major": 2,
              "version_minor": 0,
              "model_id": "03d0c4c97a6844808f61424af3dd09fc"
            }
          },
          "metadata": {}
        },
        {
          "output_type": "execute_result",
          "data": {
            "text/plain": [
              "┌────────┬───────┬──────────────────────┬───────┬──────────────────────┬───┬───────┬────────┬───────────┬────────────┐\n",
              "│ userId │  poi  │       datetime       │ rank  │      prev_date       │ … │ debut │  traj  │ nb_POI_7j │ first_seen │\n",
              "│ int64  │ int64 │ timestamp with tim…  │ int64 │ timestamp with tim…  │   │ int32 │ int128 │   int64   │   int32    │\n",
              "├────────┼───────┼──────────────────────┼───────┼──────────────────────┼───┼───────┼────────┼───────────┼────────────┤\n",
              "│      1 │  6428 │ 2012-04-04 23:31:3…  │     1 │ 2012-04-04 23:31:3…  │ … │     1 │      1 │         1 │          1 │\n",
              "│      1 │ 24554 │ 2012-04-07 17:42:2…  │     2 │ 2012-04-04 23:31:3…  │ … │     1 │      2 │         2 │          1 │\n",
              "│      1 │ 26196 │ 2012-04-08 18:20:2…  │     3 │ 2012-04-07 17:42:2…  │ … │     1 │      3 │         3 │          1 │\n",
              "│      1 │  4131 │ 2012-04-08 20:02:1…  │     4 │ 2012-04-08 18:20:2…  │ … │     0 │      3 │         4 │          1 │\n",
              "│      1 │   963 │ 2012-04-09 16:20:5…  │     5 │ 2012-04-08 20:02:1…  │ … │     0 │      3 │         5 │          1 │\n",
              "│      1 │   525 │ 2012-04-10 00:24:3…  │     6 │ 2012-04-09 16:20:5…  │ … │     0 │      3 │         6 │          1 │\n",
              "│      1 │  1241 │ 2012-04-10 03:36:5…  │     7 │ 2012-04-10 00:24:3…  │ … │     0 │      3 │         7 │          1 │\n",
              "│      1 │ 33237 │ 2012-04-10 16:21:4…  │     8 │ 2012-04-10 03:36:5…  │ … │     0 │      3 │         8 │          1 │\n",
              "│      1 │  2643 │ 2012-04-12 17:19:2…  │     9 │ 2012-04-10 16:21:4…  │ … │     1 │      4 │         8 │          1 │\n",
              "│      1 │ 33237 │ 2012-04-13 15:41:4…  │    10 │ 2012-04-12 17:19:2…  │ … │     0 │      4 │         9 │          0 │\n",
              "│      · │    ·  │          ·           │     · │          ·           │ · │     · │      · │         · │          · │\n",
              "│      · │    ·  │          ·           │     · │          ·           │ · │     · │      · │         · │          · │\n",
              "│      · │    ·  │          ·           │     · │          ·           │ · │     · │      · │         · │          · │\n",
              "│     56 │  5511 │ 2012-12-22 01:22:3…  │   308 │ 2012-12-21 23:56:0…  │ … │     0 │     62 │         7 │          0 │\n",
              "│     56 │  3681 │ 2012-12-22 19:30:0…  │   309 │ 2012-12-22 01:22:3…  │ … │     0 │     62 │         7 │          0 │\n",
              "│     56 │ 31764 │ 2012-12-28 13:01:1…  │   310 │ 2012-12-22 19:30:0…  │ … │     1 │     63 │         2 │          1 │\n",
              "│     57 │ 15816 │ 2012-04-03 22:26:5…  │     1 │ 2012-04-03 22:26:5…  │ … │     1 │      1 │         1 │          1 │\n",
              "│     57 │  5651 │ 2012-04-04 13:07:3…  │     2 │ 2012-04-03 22:26:5…  │ … │     0 │      1 │         2 │          1 │\n",
              "│     57 │ 15816 │ 2012-04-07 13:54:1…  │     3 │ 2012-04-04 13:07:3…  │ … │     1 │      2 │         3 │          0 │\n",
              "│     57 │ 21139 │ 2012-04-07 16:22:4…  │     4 │ 2012-04-07 13:54:1…  │ … │     0 │      2 │         4 │          1 │\n",
              "│     57 │ 25176 │ 2012-04-07 20:29:2…  │     5 │ 2012-04-07 16:22:4…  │ … │     0 │      2 │         5 │          1 │\n",
              "│     57 │  5651 │ 2012-04-09 12:58:5…  │     6 │ 2012-04-07 20:29:2…  │ … │     1 │      3 │         6 │          0 │\n",
              "│     57 │ 15816 │ 2012-04-09 22:18:5…  │     7 │ 2012-04-09 12:58:5…  │ … │     0 │      3 │         7 │          0 │\n",
              "├────────┴───────┴──────────────────────┴───────┴──────────────────────┴───┴───────┴────────┴───────────┴────────────┤\n",
              "│ ? rows (>9999 rows, 20 shown)                                                                 10 columns (9 shown) │\n",
              "└────────────────────────────────────────────────────────────────────────────────────────────────────────────────────┘"
            ]
          },
          "metadata": {},
          "execution_count": 99
        }
      ]
    },
    {
      "cell_type": "code",
      "source": [
        "visit_cumul_visites = db.sql(\"\"\"\n",
        "    select userid, poi, datetime, rank, prev_date, interval_duration, debut, traj, nb_POI_7j,\n",
        "    sum(first_seen) over(partition by userid order by datetime rows between unbounded preceding and current row) as cumul_visites\n",
        "    from visit_first_seen\n",
        "    order by userid, datetime\n",
        "\"\"\")\n",
        "\n",
        "visit_cumul_visites"
      ],
      "metadata": {
        "colab": {
          "base_uri": "https://localhost:8080/",
          "height": 570,
          "referenced_widgets": [
            "2b94c74263194359b244b18963e53cba",
            "2b074ded50224b3cb7322d6e8771d07d",
            "1970a4d48c6a4672a4fc9278326fd7e3"
          ]
        },
        "id": "sf6GEgjtko-F",
        "outputId": "5e2c51fc-e30e-49f4-c27e-7e2bf2593a32"
      },
      "execution_count": 104,
      "outputs": [
        {
          "output_type": "display_data",
          "data": {
            "text/plain": [
              "FloatProgress(value=0.0, layout=Layout(width='auto'), style=ProgressStyle(bar_color='black'))"
            ],
            "application/vnd.jupyter.widget-view+json": {
              "version_major": 2,
              "version_minor": 0,
              "model_id": "2b94c74263194359b244b18963e53cba"
            }
          },
          "metadata": {}
        },
        {
          "output_type": "execute_result",
          "data": {
            "text/plain": [
              "┌────────┬───────┬──────────────────────┬───────┬───┬───────┬────────┬───────────┬───────────────┐\n",
              "│ userId │  poi  │       datetime       │ rank  │ … │ debut │  traj  │ nb_POI_7j │ cumul_visites │\n",
              "│ int64  │ int64 │ timestamp with tim…  │ int64 │   │ int32 │ int128 │   int64   │    int128     │\n",
              "├────────┼───────┼──────────────────────┼───────┼───┼───────┼────────┼───────────┼───────────────┤\n",
              "│      1 │  6428 │ 2012-04-04 23:31:3…  │     1 │ … │     1 │      1 │         1 │             1 │\n",
              "│      1 │ 24554 │ 2012-04-07 17:42:2…  │     2 │ … │     1 │      2 │         2 │             2 │\n",
              "│      1 │ 26196 │ 2012-04-08 18:20:2…  │     3 │ … │     1 │      3 │         3 │             3 │\n",
              "│      1 │  4131 │ 2012-04-08 20:02:1…  │     4 │ … │     0 │      3 │         4 │             4 │\n",
              "│      1 │   963 │ 2012-04-09 16:20:5…  │     5 │ … │     0 │      3 │         5 │             5 │\n",
              "│      1 │   525 │ 2012-04-10 00:24:3…  │     6 │ … │     0 │      3 │         6 │             6 │\n",
              "│      1 │  1241 │ 2012-04-10 03:36:5…  │     7 │ … │     0 │      3 │         7 │             7 │\n",
              "│      1 │ 33237 │ 2012-04-10 16:21:4…  │     8 │ … │     0 │      3 │         8 │             8 │\n",
              "│      1 │  2643 │ 2012-04-12 17:19:2…  │     9 │ … │     1 │      4 │         8 │             9 │\n",
              "│      1 │ 33237 │ 2012-04-13 15:41:4…  │    10 │ … │     0 │      4 │         9 │             9 │\n",
              "│      · │    ·  │          ·           │     · │ · │     · │      · │         · │             · │\n",
              "│      · │    ·  │          ·           │     · │ · │     · │      · │         · │             · │\n",
              "│      · │    ·  │          ·           │     · │ · │     · │      · │         · │             · │\n",
              "│     56 │  5511 │ 2012-12-22 01:22:3…  │   308 │ … │     0 │     62 │         7 │           194 │\n",
              "│     56 │  3681 │ 2012-12-22 19:30:0…  │   309 │ … │     0 │     62 │         7 │           194 │\n",
              "│     56 │ 31764 │ 2012-12-28 13:01:1…  │   310 │ … │     1 │     63 │         2 │           195 │\n",
              "│     57 │ 15816 │ 2012-04-03 22:26:5…  │     1 │ … │     1 │      1 │         1 │             1 │\n",
              "│     57 │  5651 │ 2012-04-04 13:07:3…  │     2 │ … │     0 │      1 │         2 │             2 │\n",
              "│     57 │ 15816 │ 2012-04-07 13:54:1…  │     3 │ … │     1 │      2 │         3 │             2 │\n",
              "│     57 │ 21139 │ 2012-04-07 16:22:4…  │     4 │ … │     0 │      2 │         4 │             3 │\n",
              "│     57 │ 25176 │ 2012-04-07 20:29:2…  │     5 │ … │     0 │      2 │         5 │             4 │\n",
              "│     57 │  5651 │ 2012-04-09 12:58:5…  │     6 │ … │     1 │      3 │         6 │             4 │\n",
              "│     57 │ 15816 │ 2012-04-09 22:18:5…  │     7 │ … │     0 │      3 │         7 │             4 │\n",
              "├────────┴───────┴──────────────────────┴───────┴───┴───────┴────────┴───────────┴───────────────┤\n",
              "│ ? rows (>9999 rows, 20 shown)                                             10 columns (8 shown) │\n",
              "└────────────────────────────────────────────────────────────────────────────────────────────────┘"
            ]
          },
          "metadata": {},
          "execution_count": 104
        }
      ]
    },
    {
      "cell_type": "markdown",
      "source": [
        "## Exercice 3"
      ],
      "metadata": {
        "id": "6kyCDGMEoqSz"
      }
    },
    {
      "cell_type": "markdown",
      "source": [
        "### 3.1) Visites dans une trajectoire\n",
        "On constate qu'une trajectoire peut contenir plusieurs visites **consécutives** d'un même POI et on veut \"fusionner\" ces visites.\n",
        "Pour chaque trajectoire, agréger les visites consécutives d'un meme POI. Définir les attributs date_début, date_fin pour la visite d'un POI.\n",
        "\n",
        "Rmq1: s'il n'y a pas plusieurs visites consécutives pour un POI alors ses dates de début et de fin sont identiques.\n",
        "\n",
        "Rmq2: une trajectoire peut contenir plusieurs visites non consécutives d'un même POI."
      ],
      "metadata": {
        "id": "huGSY0zkNDd-"
      }
    },
    {
      "cell_type": "markdown",
      "source": [
        "afficher les visites d'une trajectoire pour laqelle au moins une fusion a été faite."
      ],
      "metadata": {
        "id": "HYQJUJM8mxt8"
      }
    },
    {
      "cell_type": "markdown",
      "source": [
        "<font color='blue'> Tout d'abord on cherche les séquences consécutives de POI dans une même trajectoire que l'on marque par 1 dans la colonne fusionne. </font>\n"
      ],
      "metadata": {
        "id": "6Rpq7DsK1tHJ"
      }
    },
    {
      "cell_type": "code",
      "source": [
        "\n",
        "\n",
        "visit_traj_fus = db.sql(\"\"\"\n",
        "    select userid, poi, interval_duration, datetime, traj,\n",
        "      CASE\n",
        "        WHEN poi == lag(poi) over(PARTITION BY userid, traj order by datetime ) THEN 1\n",
        "        WHEN poi == lead(poi) over(PARTITION BY userid, traj order by datetime ) THEN 1\n",
        "        ELSE 0\n",
        "      END as fusionne\n",
        "    from visit_traj2\n",
        "    order by userid, datetime\n",
        "\"\"\")\n",
        "\n",
        "visit_traj_fus"
      ],
      "metadata": {
        "colab": {
          "base_uri": "https://localhost:8080/"
        },
        "id": "hKBEPtyuoLVU",
        "outputId": "d1d8f973-ef22-449d-db51-3dca1775d9fa"
      },
      "execution_count": 167,
      "outputs": [
        {
          "output_type": "execute_result",
          "data": {
            "text/plain": [
              "┌────────┬───────┬───────────────────┬──────────────────────────┬────────┬──────────┐\n",
              "│ userId │  poi  │ interval_duration │         datetime         │  traj  │ fusionne │\n",
              "│ int64  │ int64 │       int64       │ timestamp with time zone │ int128 │  int32   │\n",
              "├────────┼───────┼───────────────────┼──────────────────────────┼────────┼──────────┤\n",
              "│      1 │  6428 │                 0 │ 2012-04-04 23:31:31+00   │      1 │        0 │\n",
              "│      1 │ 24554 │            238253 │ 2012-04-07 17:42:24+00   │      2 │        0 │\n",
              "│      1 │ 26196 │             88685 │ 2012-04-08 18:20:29+00   │      3 │        0 │\n",
              "│      1 │  4131 │              6101 │ 2012-04-08 20:02:10+00   │      3 │        0 │\n",
              "│      1 │   963 │             73122 │ 2012-04-09 16:20:52+00   │      3 │        0 │\n",
              "│      1 │   525 │             29019 │ 2012-04-10 00:24:31+00   │      3 │        0 │\n",
              "│      1 │  1241 │             11545 │ 2012-04-10 03:36:56+00   │      3 │        0 │\n",
              "│      1 │ 33237 │             45892 │ 2012-04-10 16:21:48+00   │      3 │        0 │\n",
              "│      1 │  2643 │            176253 │ 2012-04-12 17:19:21+00   │      4 │        0 │\n",
              "│      1 │ 33237 │             80540 │ 2012-04-13 15:41:41+00   │      4 │        0 │\n",
              "│      · │    ·  │                ·  │           ·              │      · │        · │\n",
              "│      · │    ·  │                ·  │           ·              │      · │        · │\n",
              "│      · │    ·  │                ·  │           ·              │      · │        · │\n",
              "│     56 │  5511 │              5186 │ 2012-12-22 01:22:30+00   │     62 │        0 │\n",
              "│     56 │  3681 │             65255 │ 2012-12-22 19:30:05+00   │     62 │        0 │\n",
              "│     56 │ 31764 │            495072 │ 2012-12-28 13:01:17+00   │     63 │        0 │\n",
              "│     57 │ 15816 │                 0 │ 2012-04-03 22:26:51+00   │      1 │        0 │\n",
              "│     57 │  5651 │             52840 │ 2012-04-04 13:07:31+00   │      1 │        0 │\n",
              "│     57 │ 15816 │            262005 │ 2012-04-07 13:54:16+00   │      2 │        0 │\n",
              "│     57 │ 21139 │              8909 │ 2012-04-07 16:22:45+00   │      2 │        0 │\n",
              "│     57 │ 25176 │             14798 │ 2012-04-07 20:29:23+00   │      2 │        0 │\n",
              "│     57 │  5651 │            145771 │ 2012-04-09 12:58:54+00   │      3 │        0 │\n",
              "│     57 │ 15816 │             33598 │ 2012-04-09 22:18:52+00   │      3 │        1 │\n",
              "├────────┴───────┴───────────────────┴──────────────────────────┴────────┴──────────┤\n",
              "│ ? rows (>9999 rows, 20 shown)                                           6 columns │\n",
              "└───────────────────────────────────────────────────────────────────────────────────┘"
            ]
          },
          "metadata": {},
          "execution_count": 167
        }
      ]
    },
    {
      "cell_type": "markdown",
      "source": [
        "<font color='blue'> On peut désormais connaître les numéros des trajectoire pour chaque userid tels qu'une fusion soit nécessaire. On affiche ces couples ci-dessous. </font>\n"
      ],
      "metadata": {
        "id": "RjAyD6Hj2MLm"
      }
    },
    {
      "cell_type": "code",
      "source": [
        "visit_traj_fus_aff = db.sql(\"\"\"\n",
        "    select userid, traj\n",
        "    from visit_traj_fus\n",
        "    where fusionne == 1\n",
        "    group by userid, traj\n",
        "\"\"\")\n",
        "visit_traj_fus_aff"
      ],
      "metadata": {
        "colab": {
          "base_uri": "https://localhost:8080/"
        },
        "id": "JlFDVwn1wrvG",
        "outputId": "c444d035-5c1a-4a99-c0f3-6de997e025cf"
      },
      "execution_count": 168,
      "outputs": [
        {
          "output_type": "execute_result",
          "data": {
            "text/plain": [
              "┌────────┬────────┐\n",
              "│ userId │  traj  │\n",
              "│ int64  │ int128 │\n",
              "├────────┼────────┤\n",
              "│      1 │      4 │\n",
              "│      4 │      2 │\n",
              "│      5 │      2 │\n",
              "│      5 │      4 │\n",
              "│      5 │      5 │\n",
              "│      5 │      8 │\n",
              "│      7 │      1 │\n",
              "│      7 │      5 │\n",
              "│      7 │     18 │\n",
              "│      7 │     27 │\n",
              "│      · │      · │\n",
              "│      · │      · │\n",
              "│      · │      · │\n",
              "│    971 │     14 │\n",
              "│    995 │      5 │\n",
              "│   1000 │     14 │\n",
              "│   1015 │     18 │\n",
              "│   1042 │     12 │\n",
              "│    974 │      9 │\n",
              "│    959 │      1 │\n",
              "│    965 │     21 │\n",
              "│    996 │     14 │\n",
              "│    993 │     37 │\n",
              "├────────┴────────┤\n",
              "│    4329 rows    │\n",
              "│   (20 shown)    │\n",
              "└─────────────────┘"
            ]
          },
          "metadata": {},
          "execution_count": 168
        }
      ]
    },
    {
      "cell_type": "markdown",
      "source": [
        "<font color='blue'> On affiche les trajectoires pour lesquelles une fusion sera necessaire. On se limite à l'affiche des 20 premiers n-uplets ci-dessous :   </font>\n"
      ],
      "metadata": {
        "id": "RIYgi_442ZvN"
      }
    },
    {
      "cell_type": "code",
      "source": [
        "visit_traj_consec_aff2 = db.sql(\"\"\"\n",
        "  select v.userid, v.poi, v.traj, v.datetime\n",
        "  from visit_traj2 v, visit_traj_fus_aff a\n",
        "  where v.userid==a.userid and v.traj==a.traj\n",
        "  order by userid\n",
        "  limit 20\n",
        "\"\"\")\n",
        "visit_traj_consec_aff2"
      ],
      "metadata": {
        "colab": {
          "base_uri": "https://localhost:8080/"
        },
        "id": "y8-fMZ0S07fP",
        "outputId": "f5a2aba9-fa12-4c05-ee89-a629142b2301"
      },
      "execution_count": 169,
      "outputs": [
        {
          "output_type": "execute_result",
          "data": {
            "text/plain": [
              "┌────────┬───────┬────────┬──────────────────────────┐\n",
              "│ userId │  poi  │  traj  │         datetime         │\n",
              "│ int64  │ int64 │ int128 │ timestamp with time zone │\n",
              "├────────┼───────┼────────┼──────────────────────────┤\n",
              "│      1 │  2643 │      4 │ 2012-04-12 17:19:21+00   │\n",
              "│      1 │ 33237 │      4 │ 2012-04-13 15:41:41+00   │\n",
              "│      1 │  2150 │      4 │ 2012-04-14 01:11:20+00   │\n",
              "│      1 │ 23851 │      4 │ 2012-04-14 03:07:56+00   │\n",
              "│      1 │   983 │      4 │ 2012-04-14 04:45:13+00   │\n",
              "│      1 │  2522 │      4 │ 2012-04-14 15:57:20+00   │\n",
              "│      1 │  1309 │      4 │ 2012-04-14 17:45:23+00   │\n",
              "│      1 │ 12421 │      4 │ 2012-04-14 20:03:42+00   │\n",
              "│      1 │  7949 │      4 │ 2012-04-14 21:24:08+00   │\n",
              "│      1 │ 30004 │      4 │ 2012-04-14 22:07:43+00   │\n",
              "│      1 │   842 │      4 │ 2012-04-14 23:15:07+00   │\n",
              "│      1 │   842 │      4 │ 2012-04-14 23:15:50+00   │\n",
              "│      4 │  9323 │      2 │ 2012-04-07 17:45:24+00   │\n",
              "│      4 │  9323 │      2 │ 2012-04-08 12:23:38+00   │\n",
              "│      5 │  4548 │      4 │ 2012-06-30 22:19:50+00   │\n",
              "│      5 │  4548 │      4 │ 2012-07-01 00:15:14+00   │\n",
              "│      5 │  8909 │      4 │ 2012-07-01 00:59:59+00   │\n",
              "│      5 │  2862 │      5 │ 2012-07-02 23:24:50+00   │\n",
              "│      5 │  2862 │      5 │ 2012-07-03 22:23:36+00   │\n",
              "│      5 │ 27571 │      5 │ 2012-07-03 22:35:05+00   │\n",
              "├────────┴───────┴────────┴──────────────────────────┤\n",
              "│ 20 rows                                  4 columns │\n",
              "└────────────────────────────────────────────────────┘"
            ]
          },
          "metadata": {},
          "execution_count": 169
        }
      ]
    },
    {
      "cell_type": "markdown",
      "source": [
        "<font color='blue'> Enfin, on effectue la fusion des POI consécutif en prenant la date de début et la date de fin. On fait l'union avec les n-uplets pour lesquels aucune fusion n'était necessaire (pour lesquels ces deux dates sont identiques). </font>\n"
      ],
      "metadata": {
        "id": "PgUfV8fN2sOt"
      }
    },
    {
      "cell_type": "code",
      "source": [
        "visit_traj_consec = db.sql(\"\"\"\n",
        "  select userid, poi, traj, MIN(datetime) as date_debut, MAX(datetime) as date_fin\n",
        "  from visit_traj_fus\n",
        "  where fusionne = 1\n",
        "  group by userid, poi, traj\n",
        "  UNION\n",
        "  select userid, poi, traj, datetime as date_debut, datetime as date_fin\n",
        "  from visit_traj_fus\n",
        "  where fusionne = 0\n",
        "  order by userid, date_debut\n",
        "\"\"\")\n",
        "visit_traj_consec"
      ],
      "metadata": {
        "colab": {
          "base_uri": "https://localhost:8080/",
          "height": 570,
          "referenced_widgets": [
            "ea261d55310b474685fcdeccebbe7e9c",
            "35ee33d34c6e4162aadef89453767c8b",
            "463ea24d78d9404194f2225f1cd47c39"
          ]
        },
        "id": "4RvQNBWPyQDP",
        "outputId": "cec501bb-6596-47e6-e712-3c383ef33ae9"
      },
      "execution_count": 172,
      "outputs": [
        {
          "output_type": "display_data",
          "data": {
            "text/plain": [
              "FloatProgress(value=0.0, layout=Layout(width='auto'), style=ProgressStyle(bar_color='black'))"
            ],
            "application/vnd.jupyter.widget-view+json": {
              "version_major": 2,
              "version_minor": 0,
              "model_id": "ea261d55310b474685fcdeccebbe7e9c"
            }
          },
          "metadata": {}
        },
        {
          "output_type": "execute_result",
          "data": {
            "text/plain": [
              "┌────────┬───────┬────────┬──────────────────────────┬──────────────────────────┐\n",
              "│ userId │  poi  │  traj  │        date_debut        │         date_fin         │\n",
              "│ int64  │ int64 │ int128 │ timestamp with time zone │ timestamp with time zone │\n",
              "├────────┼───────┼────────┼──────────────────────────┼──────────────────────────┤\n",
              "│      1 │  6428 │      1 │ 2012-04-04 23:31:31+00   │ 2012-04-04 23:31:31+00   │\n",
              "│      1 │ 24554 │      2 │ 2012-04-07 17:42:24+00   │ 2012-04-07 17:42:24+00   │\n",
              "│      1 │ 26196 │      3 │ 2012-04-08 18:20:29+00   │ 2012-04-08 18:20:29+00   │\n",
              "│      1 │  4131 │      3 │ 2012-04-08 20:02:10+00   │ 2012-04-08 20:02:10+00   │\n",
              "│      1 │   963 │      3 │ 2012-04-09 16:20:52+00   │ 2012-04-09 16:20:52+00   │\n",
              "│      1 │   525 │      3 │ 2012-04-10 00:24:31+00   │ 2012-04-10 00:24:31+00   │\n",
              "│      1 │  1241 │      3 │ 2012-04-10 03:36:56+00   │ 2012-04-10 03:36:56+00   │\n",
              "│      1 │ 33237 │      3 │ 2012-04-10 16:21:48+00   │ 2012-04-10 16:21:48+00   │\n",
              "│      1 │  2643 │      4 │ 2012-04-12 17:19:21+00   │ 2012-04-12 17:19:21+00   │\n",
              "│      1 │ 33237 │      4 │ 2012-04-13 15:41:41+00   │ 2012-04-13 15:41:41+00   │\n",
              "│      · │   ·   │      · │           ·              │           ·              │\n",
              "│      · │   ·   │      · │           ·              │           ·              │\n",
              "│      · │   ·   │      · │           ·              │           ·              │\n",
              "│     60 │ 13333 │      6 │ 2012-04-25 20:18:38+00   │ 2012-04-25 20:18:38+00   │\n",
              "│     60 │ 33511 │      6 │ 2012-04-26 03:31:33+00   │ 2012-04-26 03:31:33+00   │\n",
              "│     60 │ 32091 │      6 │ 2012-04-26 11:52:00+00   │ 2012-04-26 11:52:00+00   │\n",
              "│     60 │ 32091 │      7 │ 2012-04-27 12:13:54+00   │ 2012-04-27 12:13:54+00   │\n",
              "│     60 │ 33511 │      7 │ 2012-04-27 18:37:01+00   │ 2012-04-27 18:37:01+00   │\n",
              "│     60 │ 13333 │      8 │ 2012-04-29 18:56:59+00   │ 2012-04-29 18:56:59+00   │\n",
              "│     60 │ 13333 │      9 │ 2012-05-01 19:11:41+00   │ 2012-05-01 19:11:41+00   │\n",
              "│     60 │ 13333 │     10 │ 2012-05-03 15:03:20+00   │ 2012-05-03 15:03:20+00   │\n",
              "│     60 │ 13330 │     10 │ 2012-05-03 15:33:57+00   │ 2012-05-03 15:33:57+00   │\n",
              "│     60 │ 32091 │     10 │ 2012-05-04 11:57:20+00   │ 2012-05-04 11:57:20+00   │\n",
              "├────────┴───────┴────────┴──────────────────────────┴──────────────────────────┤\n",
              "│ ? rows (>9999 rows, 20 shown)                                       5 columns │\n",
              "└───────────────────────────────────────────────────────────────────────────────┘"
            ]
          },
          "metadata": {},
          "execution_count": 172
        }
      ]
    },
    {
      "cell_type": "markdown",
      "source": [
        "<font color='blue'> On affiche à nouveau les 20 premier n-uplet des trajectoire pour lesquelles une fusion a été nécessaire et on observe bien que la fusion a été correctement effectuée (par exemple pour le POI 842 pour l'utilisateur 1). </font>"
      ],
      "metadata": {
        "id": "-tJ8SFfL3qB9"
      }
    },
    {
      "cell_type": "code",
      "source": [
        "visit_traj_consec_fusion_aff = db.sql(\"\"\"\n",
        "  select v.userid, v.poi, v.traj, v.date_debut, v.date_fin\n",
        "  from visit_traj_consec v, visit_traj_fus_aff a\n",
        "  where v.userid==a.userid and v.traj==a.traj\n",
        "  order by userid\n",
        "  limit 20\n",
        "\"\"\")\n",
        "visit_traj_consec_fusion_aff"
      ],
      "metadata": {
        "colab": {
          "base_uri": "https://localhost:8080/",
          "height": 518,
          "referenced_widgets": [
            "07b8727d275149768e94b7f6be11eec6",
            "288b555a27ff423b9a2732251ea856b9",
            "ee8dbe261856431d83a0601ab5d48d30"
          ]
        },
        "id": "QxWRrJGI3vQR",
        "outputId": "e7b3bfca-e791-4f11-b2f3-5816511d47a3"
      },
      "execution_count": 173,
      "outputs": [
        {
          "output_type": "display_data",
          "data": {
            "text/plain": [
              "FloatProgress(value=0.0, layout=Layout(width='auto'), style=ProgressStyle(bar_color='black'))"
            ],
            "application/vnd.jupyter.widget-view+json": {
              "version_major": 2,
              "version_minor": 0,
              "model_id": "07b8727d275149768e94b7f6be11eec6"
            }
          },
          "metadata": {}
        },
        {
          "output_type": "execute_result",
          "data": {
            "text/plain": [
              "┌────────┬───────┬────────┬──────────────────────────┬──────────────────────────┐\n",
              "│ userId │  poi  │  traj  │        date_debut        │         date_fin         │\n",
              "│ int64  │ int64 │ int128 │ timestamp with time zone │ timestamp with time zone │\n",
              "├────────┼───────┼────────┼──────────────────────────┼──────────────────────────┤\n",
              "│      1 │  2643 │      4 │ 2012-04-12 17:19:21+00   │ 2012-04-12 17:19:21+00   │\n",
              "│      1 │ 33237 │      4 │ 2012-04-13 15:41:41+00   │ 2012-04-13 15:41:41+00   │\n",
              "│      1 │  2150 │      4 │ 2012-04-14 01:11:20+00   │ 2012-04-14 01:11:20+00   │\n",
              "│      1 │ 23851 │      4 │ 2012-04-14 03:07:56+00   │ 2012-04-14 03:07:56+00   │\n",
              "│      1 │   983 │      4 │ 2012-04-14 04:45:13+00   │ 2012-04-14 04:45:13+00   │\n",
              "│      1 │  2522 │      4 │ 2012-04-14 15:57:20+00   │ 2012-04-14 15:57:20+00   │\n",
              "│      1 │  1309 │      4 │ 2012-04-14 17:45:23+00   │ 2012-04-14 17:45:23+00   │\n",
              "│      1 │ 12421 │      4 │ 2012-04-14 20:03:42+00   │ 2012-04-14 20:03:42+00   │\n",
              "│      1 │  7949 │      4 │ 2012-04-14 21:24:08+00   │ 2012-04-14 21:24:08+00   │\n",
              "│      1 │ 30004 │      4 │ 2012-04-14 22:07:43+00   │ 2012-04-14 22:07:43+00   │\n",
              "│      1 │   842 │      4 │ 2012-04-14 23:15:07+00   │ 2012-04-14 23:15:50+00   │\n",
              "│      4 │  9323 │      2 │ 2012-04-07 17:45:24+00   │ 2012-04-08 12:23:38+00   │\n",
              "│      5 │  4548 │      4 │ 2012-06-30 22:19:50+00   │ 2012-07-01 00:15:14+00   │\n",
              "│      5 │  8909 │      4 │ 2012-07-01 00:59:59+00   │ 2012-07-01 00:59:59+00   │\n",
              "│      5 │  2862 │      5 │ 2012-07-02 23:24:50+00   │ 2012-07-03 22:23:36+00   │\n",
              "│      5 │ 27571 │      5 │ 2012-07-03 22:35:05+00   │ 2012-07-03 22:35:05+00   │\n",
              "│      5 │  2862 │      8 │ 2012-07-09 23:14:25+00   │ 2012-07-10 23:14:09+00   │\n",
              "│      5 │  4236 │      2 │ 2012-06-16 22:37:46+00   │ 2012-06-16 22:44:54+00   │\n",
              "│      5 │ 15736 │      2 │ 2012-06-17 00:09:10+00   │ 2012-06-17 00:09:10+00   │\n",
              "│      5 │ 34021 │      2 │ 2012-06-17 00:09:29+00   │ 2012-06-17 00:09:29+00   │\n",
              "├────────┴───────┴────────┴──────────────────────────┴──────────────────────────┤\n",
              "│ 20 rows                                                             5 columns │\n",
              "└───────────────────────────────────────────────────────────────────────────────┘"
            ]
          },
          "metadata": {},
          "execution_count": 173
        }
      ]
    }
  ]
}