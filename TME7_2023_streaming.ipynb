{
  "nbformat": 4,
  "nbformat_minor": 0,
  "metadata": {
    "colab": {
      "provenance": []
    },
    "kernelspec": {
      "name": "python3",
      "display_name": "Python 3"
    },
    "language_info": {
      "name": "python"
    }
  },
  "cells": [
    {
      "cell_type": "markdown",
      "metadata": {
        "application/vnd.databricks.v1+cell": {
          "title": "",
          "showTitle": false,
          "inputWidgets": {},
          "nuid": "2fcea654-56eb-4219-a555-b7635dc8ec23"
        },
        "id": "5T30y-4iGpLZ"
      },
      "source": [
        "BDLE 2023\n",
        "\n",
        "date du document  :  10/11/2023"
      ]
    },
    {
      "cell_type": "markdown",
      "metadata": {
        "application/vnd.databricks.v1+cell": {
          "title": "",
          "showTitle": false,
          "inputWidgets": {},
          "nuid": "538800ba-6d08-40a7-b6b6-829b40085742"
        },
        "id": "L_q0KahUGpLc"
      },
      "source": [
        "# TP7 2023 Structured Streaming  (ETUDIANTS)\n",
        "#### BORCHANI Sofia 21212080\n",
        "#### BOUCHOUCHI Nour 28600211\n",
        "#### FAURE Guillaume 21108390\n",
        "#### ZIDAT Lydia 21212792\n",
        "\n",
        "\n",
        "\n"
      ]
    },
    {
      "cell_type": "markdown",
      "metadata": {
        "application/vnd.databricks.v1+cell": {
          "title": "",
          "showTitle": false,
          "inputWidgets": {},
          "nuid": "b15737ae-19bd-4b9f-b9f3-52388cc5e50e"
        },
        "id": "levNDESpS1hT"
      },
      "source": [
        "## Préparation du TP"
      ]
    },
    {
      "cell_type": "markdown",
      "metadata": {
        "id": "7v9EXMl8aPZC"
      },
      "source": [
        "Installer pyspark et findspark (durée 1'):\n"
      ]
    },
    {
      "cell_type": "code",
      "metadata": {
        "id": "3zlwNHy1S8C2",
        "colab": {
          "base_uri": "https://localhost:8080/"
        },
        "outputId": "48fd2dc9-805f-420b-c860-73b4f5fe52bc"
      },
      "source": [
        "!pip install -q pyspark\n",
        "!pip install -q findspark"
      ],
      "execution_count": null,
      "outputs": [
        {
          "output_type": "stream",
          "name": "stdout",
          "text": [
            "\u001b[2K     \u001b[90m━━━━━━━━━━━━━━━━━━━━━━━━━━━━━━━━━━━━━━━━\u001b[0m \u001b[32m316.9/316.9 MB\u001b[0m \u001b[31m2.0 MB/s\u001b[0m eta \u001b[36m0:00:00\u001b[0m\n",
            "\u001b[?25h  Preparing metadata (setup.py) ... \u001b[?25l\u001b[?25hdone\n",
            "  Building wheel for pyspark (setup.py) ... \u001b[?25l\u001b[?25hdone\n"
          ]
        }
      ]
    },
    {
      "cell_type": "markdown",
      "metadata": {
        "id": "PnEmOd_zOUo0"
      },
      "source": [
        "Démarrer la session spark"
      ]
    },
    {
      "cell_type": "code",
      "metadata": {
        "id": "W0ADH0J-VW7i",
        "colab": {
          "base_uri": "https://localhost:8080/"
        },
        "outputId": "b1b28e3d-6e28-452f-a2dd-82593e634ca8"
      },
      "source": [
        "import os\n",
        "import glob\n",
        "\n",
        "pyspark_dir = glob.glob('/usr/local/lib/python*/dist-packages/pyspark')[0]\n",
        "print(\"pyspark directory is\", pyspark_dir)\n",
        "os.environ[\"SPARK_HOME\"] = pyspark_dir\n",
        "os.environ[\"JAVA_HOME\"] = \"/usr\""
      ],
      "execution_count": null,
      "outputs": [
        {
          "output_type": "stream",
          "name": "stdout",
          "text": [
            "pyspark directory is /usr/local/lib/python3.10/dist-packages/pyspark\n"
          ]
        }
      ]
    },
    {
      "cell_type": "code",
      "metadata": {
        "id": "Q_WxQZB7TaUC",
        "colab": {
          "base_uri": "https://localhost:8080/"
        },
        "outputId": "94d3d4b3-e26d-4e46-fa9b-d11d75e01390"
      },
      "source": [
        "# Principaux import\n",
        "import findspark\n",
        "from pyspark.sql import SparkSession\n",
        "from pyspark import SparkConf\n",
        "\n",
        "# pour les dataframe et udf\n",
        "from pyspark.sql import *\n",
        "from pyspark.sql.functions import *\n",
        "from pyspark.sql.types import *\n",
        "from datetime import *\n",
        "\n",
        "# pour le chronomètre\n",
        "import time\n",
        "\n",
        "# initialise les variables d'environnement pour spark\n",
        "findspark.init()\n",
        "\n",
        "# Démarrage session spark\n",
        "# --------------------------\n",
        "def demarrer_spark():\n",
        "  local = \"local[*]\"\n",
        "  appName = \"TP\"\n",
        "  configLocale = SparkConf().setAppName(appName).setMaster(local).\\\n",
        "  set(\"spark.executor.memory\", \"4G\").\\\n",
        "  set(\"spark.driver.memory\",\"4G\").\\\n",
        "  set(\"spark.sql.catalogImplementation\",\"in-memory\")\n",
        "\n",
        "  spark = SparkSession.builder.config(conf = configLocale).getOrCreate()\n",
        "  sc = spark.sparkContext\n",
        "  sc.setLogLevel(\"ERROR\")\n",
        "\n",
        "  spark.conf.set(\"spark.sql.autoBroadcastJoinThreshold\",\"-1\")\n",
        "\n",
        "  # On ajuste l'environnement d'exécution des requêtes à la taille du cluster (4 coeurs)\n",
        "  spark.conf.set(\"spark.sql.shuffle.partitions\",\"4\")\n",
        "  print(\"session démarrée, son id est \", sc.applicationId)\n",
        "  return spark\n",
        "spark = demarrer_spark()\n",
        "\n",
        "# pour le TP streaming : 1 seule partition pour avoir un seul fichier de sortie par exécution\n",
        "spark.conf.set(\"spark.sql.shuffle.partitions\", \"1\")"
      ],
      "execution_count": null,
      "outputs": [
        {
          "output_type": "stream",
          "name": "stdout",
          "text": [
            "session démarrée, son id est  local-1700241776111\n"
          ]
        }
      ]
    },
    {
      "cell_type": "code",
      "metadata": {
        "application/vnd.databricks.v1+cell": {
          "title": "",
          "showTitle": false,
          "inputWidgets": {},
          "nuid": "852847c4-bd45-4f9c-ae8b-2c704f389cf9"
        },
        "id": "fj9pUgrmGpLe",
        "colab": {
          "base_uri": "https://localhost:8080/"
        },
        "outputId": "e22d9a8b-022c-4f99-d8c4-0b3bd2e1d19b"
      },
      "source": [
        "# on utilise 8 partitions au lieu de 200 par défaut\n",
        "spark.conf.set(\"spark.sql.shuffle.partitions\", \"8\")\n",
        "print(\"Nombre de partitions utilisées : \", spark.conf.get(\"spark.sql.shuffle.partitions\"))"
      ],
      "execution_count": null,
      "outputs": [
        {
          "output_type": "stream",
          "name": "stdout",
          "text": [
            "Nombre de partitions utilisées :  8\n"
          ]
        }
      ]
    },
    {
      "cell_type": "code",
      "metadata": {
        "id": "wDs-7bQnatJ4"
      },
      "source": [
        "# Optionnel :\n",
        "# pour l'accès à spark UI : voir https://www.analyticsvidhya.com/blog/2020/11/a-must-read-guide-on-how-to-work-with-pyspark-on-google-colab-for-data-scientists/\n",
        "# !wget https://bin.equinox.io/c/4VmDzA7iaHb/ngrok-stable-linux-amd64.zip\n",
        "# !unzip ngrok-stable-linux-amd64.zip\n",
        "# get_ipython().system_raw('./ngrok http 4050 &')\n",
        "# !curl -s http://localhost:4040/api/tunnels"
      ],
      "execution_count": null,
      "outputs": []
    },
    {
      "cell_type": "markdown",
      "metadata": {
        "id": "6PPivNNpOcBT"
      },
      "source": [
        "Redéfinir la fonction **display** pour afficher le resutltat des requêtes dans un tableau"
      ]
    },
    {
      "cell_type": "code",
      "metadata": {
        "id": "FFu44fW7LRgC"
      },
      "source": [
        "import pandas as pd\n",
        "from google.colab import data_table\n",
        "\n",
        "# alternatives to Databricks display function.\n",
        "\n",
        "def display(df, n=100):\n",
        "  return data_table.DataTable(df.limit(n).toPandas(), include_index=False, num_rows_per_page=10)\n",
        "\n",
        "def display2(df, n=20):\n",
        "  pd.set_option('max_columns', None)\n",
        "  pd.set_option('max_colwidth', None)\n",
        "  return df.limit(n).toPandas()\n"
      ],
      "execution_count": null,
      "outputs": []
    },
    {
      "cell_type": "markdown",
      "metadata": {
        "id": "I0-keRafUD5N"
      },
      "source": [
        "Définir le tag **%%sql** pour pouvoir écrire plus simplement des requêtes en SQL dans une cellule"
      ]
    },
    {
      "cell_type": "code",
      "metadata": {
        "id": "eJ7aiRS-gaVF"
      },
      "source": [
        "from IPython.core.magic import (register_line_magic, register_cell_magic, register_line_cell_magic)\n",
        "\n",
        "def removeComments(query):\n",
        "  result = \"\"\n",
        "  for line in query.split('\\n'):\n",
        "    if not(line.strip().startswith(\"--\")):\n",
        "      result += line + \"\\n\"\n",
        "  return result\n",
        "\n",
        "@register_line_cell_magic\n",
        "def sql(line, cell=None):\n",
        "    \"To run a sql query. Use:  %%sql\"\n",
        "    val = cell if cell is not None else line\n",
        "    tabRequetes = removeComments(val).split(\";\")\n",
        "    derniere = None\n",
        "    est_requete = False\n",
        "    for r in tabRequetes:\n",
        "        r = r.strip()\n",
        "        if len(r) > 2:\n",
        "          derniere = spark.sql(r)\n",
        "          est_requete = ( r.lower().startswith('select')or r.lower().startswith('with'))\n",
        "    if(est_requete):\n",
        "      return display(derniere)\n",
        "    else:\n",
        "      return print('ok')"
      ],
      "execution_count": null,
      "outputs": []
    },
    {
      "cell_type": "code",
      "metadata": {
        "id": "6jfVOKdrKTDG"
      },
      "source": [
        "# facultatif (à ne pas utiliser)\n",
        "# %load_ext google.colab.data_table\n",
        "# %unload_ext google.colab.data_table"
      ],
      "execution_count": null,
      "outputs": []
    },
    {
      "cell_type": "markdown",
      "metadata": {
        "application/vnd.databricks.v1+cell": {
          "title": "",
          "showTitle": false,
          "inputWidgets": {},
          "nuid": "b15737ae-19bd-4b9f-b9f3-52388cc5e50e"
        },
        "id": "sIeeBKU2GpLc"
      },
      "source": [
        "## Accès aux données"
      ]
    },
    {
      "cell_type": "markdown",
      "metadata": {
        "application/vnd.databricks.v1+cell": {
          "title": "",
          "showTitle": false,
          "inputWidgets": {},
          "nuid": "9b13d583-eac5-414c-b544-43024c76c144"
        },
        "id": "NqVvf8iLGpLf"
      },
      "source": [
        "### URL pour l'accès aux datasets"
      ]
    },
    {
      "cell_type": "code",
      "metadata": {
        "application/vnd.databricks.v1+cell": {
          "title": "",
          "showTitle": false,
          "inputWidgets": {},
          "nuid": "8a1fead0-61e4-4d04-a2c0-7858f767b0a1"
        },
        "id": "8g6iWNvES1hW",
        "colab": {
          "base_uri": "https://localhost:8080/"
        },
        "outputId": "5ca6fca8-1aa1-45b0-faeb-37b72c526600"
      },
      "source": [
        "# URL du dossier PUBLIC_DATASET contenant des fichiers de données pour les TP\n",
        "# ---------------------------------------------------------------------------\n",
        "# en cas de problème avec le téléchargement des datasets, aller directement sur l'URL ci-dessous\n",
        "PUBLIC_DATASET_URL = \"https://nuage.lip6.fr/s/H3bpyRGgnCq2NR4\"\n",
        "PUBLIC_DATASET=PUBLIC_DATASET_URL + \"/download?path=\"\n",
        "\n",
        "print(\"URL du dossier contenant les datasets \", PUBLIC_DATASET_URL)"
      ],
      "execution_count": null,
      "outputs": [
        {
          "output_type": "stream",
          "name": "stdout",
          "text": [
            "URL du dossier contenant les datasets  https://nuage.lip6.fr/s/H3bpyRGgnCq2NR4\n"
          ]
        }
      ]
    },
    {
      "cell_type": "markdown",
      "source": [
        "## Exercice 1 : group by window\n",
        "\n",
        "On commence par étudier le cas de données statiques.\n",
        "\n",
        "On considère la table suivante : S1(time, v)"
      ],
      "metadata": {
        "id": "CXT02zdbDx1s"
      }
    },
    {
      "cell_type": "code",
      "source": [
        "data1 = \"\"\"\n",
        "8:06 A\n",
        "8:10 B\n",
        "8:12 B\n",
        "8:12 B\n",
        "8:12 A\n",
        "8:20 C\n",
        "8:20 B\n",
        "8:20 B\n",
        "\"\"\"\n",
        "date_prefix = \"2023-11-10T\"\n",
        "\n",
        "tab = [line.split(\" \") for line in data1.split('\\n') if len(line)>0]\n",
        "tab = [(date_prefix+n, v) for (n, v) in tab]\n",
        "S1 = spark.createDataFrame(tab, [\"time\", \"v\"]).selectExpr(\"timestamp(time) as time\", \"v\")\n",
        "S1.printSchema()\n",
        "display(S1.selectExpr(\"date_format(time, 'HH:mm') as time\", \"v\"))"
      ],
      "metadata": {
        "colab": {
          "base_uri": "https://localhost:8080/",
          "height": 358
        },
        "id": "BXKYIi0u5ck3",
        "outputId": "6772ced3-6897-42a7-fa43-354e9f6956a3"
      },
      "execution_count": null,
      "outputs": [
        {
          "output_type": "stream",
          "name": "stdout",
          "text": [
            "root\n",
            " |-- time: timestamp (nullable = true)\n",
            " |-- v: string (nullable = true)\n",
            "\n"
          ]
        },
        {
          "output_type": "execute_result",
          "data": {
            "text/html": [
              "<div>\n",
              "<style scoped>\n",
              "    .dataframe tbody tr th:only-of-type {\n",
              "        vertical-align: middle;\n",
              "    }\n",
              "\n",
              "    .dataframe tbody tr th {\n",
              "        vertical-align: top;\n",
              "    }\n",
              "\n",
              "    .dataframe thead th {\n",
              "        text-align: right;\n",
              "    }\n",
              "</style>\n",
              "<table border=\"1\" class=\"dataframe\">\n",
              "  <thead>\n",
              "    <tr style=\"text-align: right;\">\n",
              "      <th></th>\n",
              "      <th>time</th>\n",
              "      <th>v</th>\n",
              "    </tr>\n",
              "  </thead>\n",
              "  <tbody>\n",
              "    <tr>\n",
              "      <th>0</th>\n",
              "      <td>08:06</td>\n",
              "      <td>A</td>\n",
              "    </tr>\n",
              "    <tr>\n",
              "      <th>1</th>\n",
              "      <td>08:10</td>\n",
              "      <td>B</td>\n",
              "    </tr>\n",
              "    <tr>\n",
              "      <th>2</th>\n",
              "      <td>08:12</td>\n",
              "      <td>B</td>\n",
              "    </tr>\n",
              "    <tr>\n",
              "      <th>3</th>\n",
              "      <td>08:12</td>\n",
              "      <td>B</td>\n",
              "    </tr>\n",
              "    <tr>\n",
              "      <th>4</th>\n",
              "      <td>08:12</td>\n",
              "      <td>A</td>\n",
              "    </tr>\n",
              "    <tr>\n",
              "      <th>5</th>\n",
              "      <td>08:20</td>\n",
              "      <td>C</td>\n",
              "    </tr>\n",
              "    <tr>\n",
              "      <th>6</th>\n",
              "      <td>08:20</td>\n",
              "      <td>B</td>\n",
              "    </tr>\n",
              "    <tr>\n",
              "      <th>7</th>\n",
              "      <td>08:20</td>\n",
              "      <td>B</td>\n",
              "    </tr>\n",
              "  </tbody>\n",
              "</table>\n",
              "</div>"
            ],
            "application/vnd.google.colaboratory.module+javascript": "\n      import \"https://ssl.gstatic.com/colaboratory/data_table/881c4a0d49046431/data_table.js\";\n\n      const table = window.createDataTable({\n        data: [[\"08:06\",\n\"A\"],\n [\"08:10\",\n\"B\"],\n [\"08:12\",\n\"B\"],\n [\"08:12\",\n\"B\"],\n [\"08:12\",\n\"A\"],\n [\"08:20\",\n\"C\"],\n [\"08:20\",\n\"B\"],\n [\"08:20\",\n\"B\"]],\n        columns: [[\"string\", \"time\"], [\"string\", \"v\"]],\n        columnOptions: [],\n        rowsPerPage: 10,\n        helpUrl: \"https://colab.research.google.com/notebooks/data_table.ipynb\",\n        suppressOutputScrolling: true,\n        minimumWidth: undefined,\n      });\n\n      function appendQuickchartButton(parentElement) {\n        let quickchartButtonContainerElement = document.createElement('div');\n        quickchartButtonContainerElement.innerHTML = `\n<div id=\"df-ecbf3f28-8413-4b21-83b4-c6895e7b04ef\">\n  <button class=\"colab-df-quickchart\" onclick=\"quickchart('df-ecbf3f28-8413-4b21-83b4-c6895e7b04ef')\"\n            title=\"Suggest charts\"\n            style=\"display:none;\">\n    \n<svg xmlns=\"http://www.w3.org/2000/svg\" height=\"24px\"viewBox=\"0 0 24 24\"\n     width=\"24px\">\n    <g>\n        <path d=\"M19 3H5c-1.1 0-2 .9-2 2v14c0 1.1.9 2 2 2h14c1.1 0 2-.9 2-2V5c0-1.1-.9-2-2-2zM9 17H7v-7h2v7zm4 0h-2V7h2v10zm4 0h-2v-4h2v4z\"/>\n    </g>\n</svg>\n  </button>\n  \n<style>\n  .colab-df-quickchart {\n      --bg-color: #E8F0FE;\n      --fill-color: #1967D2;\n      --hover-bg-color: #E2EBFA;\n      --hover-fill-color: #174EA6;\n      --disabled-fill-color: #AAA;\n      --disabled-bg-color: #DDD;\n  }\n\n  [theme=dark] .colab-df-quickchart {\n      --bg-color: #3B4455;\n      --fill-color: #D2E3FC;\n      --hover-bg-color: #434B5C;\n      --hover-fill-color: #FFFFFF;\n      --disabled-bg-color: #3B4455;\n      --disabled-fill-color: #666;\n  }\n\n  .colab-df-quickchart {\n    background-color: var(--bg-color);\n    border: none;\n    border-radius: 50%;\n    cursor: pointer;\n    display: none;\n    fill: var(--fill-color);\n    height: 32px;\n    padding: 0;\n    width: 32px;\n  }\n\n  .colab-df-quickchart:hover {\n    background-color: var(--hover-bg-color);\n    box-shadow: 0 1px 2px rgba(60, 64, 67, 0.3), 0 1px 3px 1px rgba(60, 64, 67, 0.15);\n    fill: var(--button-hover-fill-color);\n  }\n\n  .colab-df-quickchart-complete:disabled,\n  .colab-df-quickchart-complete:disabled:hover {\n    background-color: var(--disabled-bg-color);\n    fill: var(--disabled-fill-color);\n    box-shadow: none;\n  }\n\n  .colab-df-spinner {\n    border: 2px solid var(--fill-color);\n    border-color: transparent;\n    border-bottom-color: var(--fill-color);\n    animation:\n      spin 1s steps(1) infinite;\n  }\n\n  @keyframes spin {\n    0% {\n      border-color: transparent;\n      border-bottom-color: var(--fill-color);\n      border-left-color: var(--fill-color);\n    }\n    20% {\n      border-color: transparent;\n      border-left-color: var(--fill-color);\n      border-top-color: var(--fill-color);\n    }\n    30% {\n      border-color: transparent;\n      border-left-color: var(--fill-color);\n      border-top-color: var(--fill-color);\n      border-right-color: var(--fill-color);\n    }\n    40% {\n      border-color: transparent;\n      border-right-color: var(--fill-color);\n      border-top-color: var(--fill-color);\n    }\n    60% {\n      border-color: transparent;\n      border-right-color: var(--fill-color);\n    }\n    80% {\n      border-color: transparent;\n      border-right-color: var(--fill-color);\n      border-bottom-color: var(--fill-color);\n    }\n    90% {\n      border-color: transparent;\n      border-bottom-color: var(--fill-color);\n    }\n  }\n</style>\n\n  <script>\n    async function quickchart(key) {\n      const quickchartButtonEl =\n        document.querySelector('#' + key + ' button');\n      quickchartButtonEl.disabled = true;  // To prevent multiple clicks.\n      quickchartButtonEl.classList.add('colab-df-spinner');\n      try {\n        const charts = await google.colab.kernel.invokeFunction(\n            'suggestCharts', [key], {});\n      } catch (error) {\n        console.error('Error during call to suggestCharts:', error);\n      }\n      quickchartButtonEl.classList.remove('colab-df-spinner');\n      quickchartButtonEl.classList.add('colab-df-quickchart-complete');\n    }\n    (() => {\n      let quickchartButtonEl =\n        document.querySelector('#df-ecbf3f28-8413-4b21-83b4-c6895e7b04ef button');\n      quickchartButtonEl.style.display =\n        google.colab.kernel.accessAllowed ? 'block' : 'none';\n    })();\n  </script>\n</div>`;\n        parentElement.appendChild(quickchartButtonContainerElement);\n      }\n\n      appendQuickchartButton(table);\n    ",
            "text/plain": [
              "<google.colab.data_table.DataTable object>"
            ]
          },
          "metadata": {},
          "execution_count": 10
        }
      ]
    },
    {
      "cell_type": "markdown",
      "source": [
        "On considère la requête S2:"
      ],
      "metadata": {
        "id": "Jw-dMYQIoSvl"
      }
    },
    {
      "cell_type": "code",
      "source": [
        "S2 = (S1.groupBy( window(col(\"time\"), \"10 minute\", \"5 minute\").alias(\"w\"), \"v\")\n",
        "      .agg(count(\"*\").alias(\"nb\"))\n",
        "      .selectExpr(\"v\",\"w.start as start\", \"w.end as end\", \"nb\")\n",
        "      .selectExpr(\"date_format(start, 'HH:mm') as start\",\"v\", \"nb\").orderBy(\"start\", \"v\")\n",
        ")\n",
        "\n",
        "display(S2)"
      ],
      "metadata": {
        "colab": {
          "base_uri": "https://localhost:8080/",
          "height": 310
        },
        "id": "yRuJKx2y6Yg-",
        "outputId": "0af2ee9b-0f07-4fc9-ce48-69929ed98832"
      },
      "execution_count": null,
      "outputs": [
        {
          "output_type": "execute_result",
          "data": {
            "text/html": [
              "<div>\n",
              "<style scoped>\n",
              "    .dataframe tbody tr th:only-of-type {\n",
              "        vertical-align: middle;\n",
              "    }\n",
              "\n",
              "    .dataframe tbody tr th {\n",
              "        vertical-align: top;\n",
              "    }\n",
              "\n",
              "    .dataframe thead th {\n",
              "        text-align: right;\n",
              "    }\n",
              "</style>\n",
              "<table border=\"1\" class=\"dataframe\">\n",
              "  <thead>\n",
              "    <tr style=\"text-align: right;\">\n",
              "      <th></th>\n",
              "      <th>start</th>\n",
              "      <th>v</th>\n",
              "      <th>nb</th>\n",
              "    </tr>\n",
              "  </thead>\n",
              "  <tbody>\n",
              "    <tr>\n",
              "      <th>0</th>\n",
              "      <td>08:00</td>\n",
              "      <td>A</td>\n",
              "      <td>1</td>\n",
              "    </tr>\n",
              "    <tr>\n",
              "      <th>1</th>\n",
              "      <td>08:05</td>\n",
              "      <td>A</td>\n",
              "      <td>2</td>\n",
              "    </tr>\n",
              "    <tr>\n",
              "      <th>2</th>\n",
              "      <td>08:05</td>\n",
              "      <td>B</td>\n",
              "      <td>3</td>\n",
              "    </tr>\n",
              "    <tr>\n",
              "      <th>3</th>\n",
              "      <td>08:10</td>\n",
              "      <td>A</td>\n",
              "      <td>1</td>\n",
              "    </tr>\n",
              "    <tr>\n",
              "      <th>4</th>\n",
              "      <td>08:10</td>\n",
              "      <td>B</td>\n",
              "      <td>3</td>\n",
              "    </tr>\n",
              "    <tr>\n",
              "      <th>5</th>\n",
              "      <td>08:15</td>\n",
              "      <td>B</td>\n",
              "      <td>2</td>\n",
              "    </tr>\n",
              "    <tr>\n",
              "      <th>6</th>\n",
              "      <td>08:15</td>\n",
              "      <td>C</td>\n",
              "      <td>1</td>\n",
              "    </tr>\n",
              "    <tr>\n",
              "      <th>7</th>\n",
              "      <td>08:20</td>\n",
              "      <td>B</td>\n",
              "      <td>2</td>\n",
              "    </tr>\n",
              "    <tr>\n",
              "      <th>8</th>\n",
              "      <td>08:20</td>\n",
              "      <td>C</td>\n",
              "      <td>1</td>\n",
              "    </tr>\n",
              "  </tbody>\n",
              "</table>\n",
              "</div>"
            ],
            "application/vnd.google.colaboratory.module+javascript": "\n      import \"https://ssl.gstatic.com/colaboratory/data_table/881c4a0d49046431/data_table.js\";\n\n      const table = window.createDataTable({\n        data: [[\"08:00\",\n\"A\",\n{\n            'v': 1,\n            'f': \"1\",\n        }],\n [\"08:05\",\n\"A\",\n{\n            'v': 2,\n            'f': \"2\",\n        }],\n [\"08:05\",\n\"B\",\n{\n            'v': 3,\n            'f': \"3\",\n        }],\n [\"08:10\",\n\"A\",\n{\n            'v': 1,\n            'f': \"1\",\n        }],\n [\"08:10\",\n\"B\",\n{\n            'v': 3,\n            'f': \"3\",\n        }],\n [\"08:15\",\n\"B\",\n{\n            'v': 2,\n            'f': \"2\",\n        }],\n [\"08:15\",\n\"C\",\n{\n            'v': 1,\n            'f': \"1\",\n        }],\n [\"08:20\",\n\"B\",\n{\n            'v': 2,\n            'f': \"2\",\n        }],\n [\"08:20\",\n\"C\",\n{\n            'v': 1,\n            'f': \"1\",\n        }]],\n        columns: [[\"string\", \"start\"], [\"string\", \"v\"], [\"number\", \"nb\"]],\n        columnOptions: [],\n        rowsPerPage: 10,\n        helpUrl: \"https://colab.research.google.com/notebooks/data_table.ipynb\",\n        suppressOutputScrolling: true,\n        minimumWidth: undefined,\n      });\n\n      function appendQuickchartButton(parentElement) {\n        let quickchartButtonContainerElement = document.createElement('div');\n        quickchartButtonContainerElement.innerHTML = `\n<div id=\"df-ba30c3be-3068-4819-b7e5-5d730cce6e5e\">\n  <button class=\"colab-df-quickchart\" onclick=\"quickchart('df-ba30c3be-3068-4819-b7e5-5d730cce6e5e')\"\n            title=\"Suggest charts\"\n            style=\"display:none;\">\n    \n<svg xmlns=\"http://www.w3.org/2000/svg\" height=\"24px\"viewBox=\"0 0 24 24\"\n     width=\"24px\">\n    <g>\n        <path d=\"M19 3H5c-1.1 0-2 .9-2 2v14c0 1.1.9 2 2 2h14c1.1 0 2-.9 2-2V5c0-1.1-.9-2-2-2zM9 17H7v-7h2v7zm4 0h-2V7h2v10zm4 0h-2v-4h2v4z\"/>\n    </g>\n</svg>\n  </button>\n  \n<style>\n  .colab-df-quickchart {\n      --bg-color: #E8F0FE;\n      --fill-color: #1967D2;\n      --hover-bg-color: #E2EBFA;\n      --hover-fill-color: #174EA6;\n      --disabled-fill-color: #AAA;\n      --disabled-bg-color: #DDD;\n  }\n\n  [theme=dark] .colab-df-quickchart {\n      --bg-color: #3B4455;\n      --fill-color: #D2E3FC;\n      --hover-bg-color: #434B5C;\n      --hover-fill-color: #FFFFFF;\n      --disabled-bg-color: #3B4455;\n      --disabled-fill-color: #666;\n  }\n\n  .colab-df-quickchart {\n    background-color: var(--bg-color);\n    border: none;\n    border-radius: 50%;\n    cursor: pointer;\n    display: none;\n    fill: var(--fill-color);\n    height: 32px;\n    padding: 0;\n    width: 32px;\n  }\n\n  .colab-df-quickchart:hover {\n    background-color: var(--hover-bg-color);\n    box-shadow: 0 1px 2px rgba(60, 64, 67, 0.3), 0 1px 3px 1px rgba(60, 64, 67, 0.15);\n    fill: var(--button-hover-fill-color);\n  }\n\n  .colab-df-quickchart-complete:disabled,\n  .colab-df-quickchart-complete:disabled:hover {\n    background-color: var(--disabled-bg-color);\n    fill: var(--disabled-fill-color);\n    box-shadow: none;\n  }\n\n  .colab-df-spinner {\n    border: 2px solid var(--fill-color);\n    border-color: transparent;\n    border-bottom-color: var(--fill-color);\n    animation:\n      spin 1s steps(1) infinite;\n  }\n\n  @keyframes spin {\n    0% {\n      border-color: transparent;\n      border-bottom-color: var(--fill-color);\n      border-left-color: var(--fill-color);\n    }\n    20% {\n      border-color: transparent;\n      border-left-color: var(--fill-color);\n      border-top-color: var(--fill-color);\n    }\n    30% {\n      border-color: transparent;\n      border-left-color: var(--fill-color);\n      border-top-color: var(--fill-color);\n      border-right-color: var(--fill-color);\n    }\n    40% {\n      border-color: transparent;\n      border-right-color: var(--fill-color);\n      border-top-color: var(--fill-color);\n    }\n    60% {\n      border-color: transparent;\n      border-right-color: var(--fill-color);\n    }\n    80% {\n      border-color: transparent;\n      border-right-color: var(--fill-color);\n      border-bottom-color: var(--fill-color);\n    }\n    90% {\n      border-color: transparent;\n      border-bottom-color: var(--fill-color);\n    }\n  }\n</style>\n\n  <script>\n    async function quickchart(key) {\n      const quickchartButtonEl =\n        document.querySelector('#' + key + ' button');\n      quickchartButtonEl.disabled = true;  // To prevent multiple clicks.\n      quickchartButtonEl.classList.add('colab-df-spinner');\n      try {\n        const charts = await google.colab.kernel.invokeFunction(\n            'suggestCharts', [key], {});\n      } catch (error) {\n        console.error('Error during call to suggestCharts:', error);\n      }\n      quickchartButtonEl.classList.remove('colab-df-spinner');\n      quickchartButtonEl.classList.add('colab-df-quickchart-complete');\n    }\n    (() => {\n      let quickchartButtonEl =\n        document.querySelector('#df-ba30c3be-3068-4819-b7e5-5d730cce6e5e button');\n      quickchartButtonEl.style.display =\n        google.colab.kernel.accessAllowed ? 'block' : 'none';\n    })();\n  </script>\n</div>`;\n        parentElement.appendChild(quickchartButtonContainerElement);\n      }\n\n      appendQuickchartButton(table);\n    ",
            "text/plain": [
              "<google.colab.data_table.DataTable object>"
            ]
          },
          "metadata": {},
          "execution_count": 11
        }
      ]
    },
    {
      "cell_type": "markdown",
      "source": [
        "Question 1)\n",
        "Proposer une solution pour calculer incrémentalement le résultat de la fenètre courante en réutilisant certains résultats des fenetres précédentes.\n",
        "Pour cela définir par exemple une fonction traiterS2(donnees)"
      ],
      "metadata": {
        "id": "R8schQ_2oXw4"
      }
    },
    {
      "cell_type": "markdown",
      "source": [
        "*On commence par faire des plages de taille décalage=5 puis on fera l'union des des tailles//decalage=10//5=2 plages adjacents.*"
      ],
      "metadata": {
        "id": "uVOl7m5M85d1"
      }
    },
    {
      "cell_type": "code",
      "source": [
        "from pyspark.sql.types import DateConverter\n",
        "import math as m\n",
        "\n",
        "def traiterS2(donnees, taille, decalage):\n",
        "    # Calcul du début de la première fenêtre en arrondissant au multiple inférieur de 'taille'. (8h06 => début à 8h00)\n",
        "    plage_min = donnees.collect()[0]['time']\n",
        "    plage_min = plage_min.replace(minute=(plage_min.minute // taille) * taille)\n",
        "\n",
        "    # Calcul de la fin de la dernière fenêtre en arrondissant au multiple supérieur de 'taille'. (8h20 => fin à 8h20)\n",
        "    plage_max = donnees.collect()[-1]['time']\n",
        "    plage_max = plage_max.replace(minute=((plage_max.minute + decalage) // taille) * taille)\n",
        "\n",
        "    # Calcul du Plus Grand Commun Diviseur entre 'decalage' et 'taille' : permet d'obtenir la taille des fenetres\n",
        "    # Les fenêtres doivent être d'une taille qui est un diviseur commun de 'decalage' et 'taille'.\n",
        "    # Ceci est nécessaire pour s'assurer que les fenêtres puissent être concaténées ultérieurement\n",
        "    # de manière à former des fenêtres de la taille spécifiée par 'taille'.\n",
        "    pgcd = m.gcd(decalage, taille)\n",
        "\n",
        "    # Calcul du nombre de fenêtres en fonction de 'decalage'.\n",
        "    nb_fenetres = int((plage_max - plage_min).total_seconds() / 60) / pgcd\n",
        "\n",
        "    # Génération de toutes les plages temporelles possibles.\n",
        "    liste_plages = [plage_min + timedelta(minutes=pgcd * t) for t in range(int(nb_fenetres + 1))]\n",
        "\n",
        "    # Initialisation d'un dictionnaire pour stocker les résultats par plage.\n",
        "    dico = {plage: dict() for plage in liste_plages}\n",
        "\n",
        "    # Boucle pour compter les occurrences de chaque valeur dans chaque plage.\n",
        "    for time, v in donnees.collect():\n",
        "        plage = time.replace(minute=(time.minute // pgcd ) * pgcd)\n",
        "        if v in dico[plage]:\n",
        "            dico[plage][v] += 1\n",
        "        else:\n",
        "            dico[plage][v] = 1\n",
        "\n",
        "    # Calcul du nombre de plages à concaténer.\n",
        "    nb_plage_concat = taille // pgcd\n",
        "\n",
        "    # Boucle pour fusionner les données des plages adjacentes.\n",
        "    res = dict()\n",
        "    i=0\n",
        "    while i < len(liste_plages):\n",
        "        res_plage = dict()\n",
        "\n",
        "        # Détermination du nombre de plages à joindre. (Pour les dernières , il est possible qu'il y ait moins de plages à concaténer)\n",
        "        nb_joindre = nb_plage_concat if i < len(liste_plages) - nb_plage_concat + 1 else len(liste_plages) - i\n",
        "        for j in range(nb_joindre):\n",
        "            for v, nb in dico[liste_plages[i + j]].items():\n",
        "                if v in res_plage:\n",
        "                    res_plage[v] += dico[liste_plages[i + j]][v]\n",
        "                else:\n",
        "                    res_plage[v] = dico[liste_plages[i + j]][v]\n",
        "        res[liste_plages[i]] = tuple(sorted(res_plage.items(), key=lambda x: x[0]))\n",
        "        i+= decalage//pgcd\n",
        "    return res"
      ],
      "metadata": {
        "id": "CkplDHDmZbtf"
      },
      "execution_count": null,
      "outputs": []
    },
    {
      "cell_type": "code",
      "source": [
        "print(\"Taille : 10, Décalage : 5\")\n",
        "res = traiterS2(S1, 10, 5)\n",
        "df = pd.DataFrame([(date, date+timedelta(minutes=10), values) for date, values in res.items()], columns=['date_debut', 'date_fin', 'valeurs'])\n",
        "df"
      ],
      "metadata": {
        "colab": {
          "base_uri": "https://localhost:8080/",
          "height": 223
        },
        "id": "9ijrVeUQZkp6",
        "outputId": "c8122fc6-7efb-4248-d4da-af0b6bb57672"
      },
      "execution_count": null,
      "outputs": [
        {
          "output_type": "stream",
          "name": "stdout",
          "text": [
            "Taille : 10, Décalage : 5\n"
          ]
        },
        {
          "output_type": "execute_result",
          "data": {
            "text/plain": [
              "           date_debut            date_fin           valeurs\n",
              "0 2023-11-10 08:00:00 2023-11-10 08:10:00         ((A, 1),)\n",
              "1 2023-11-10 08:05:00 2023-11-10 08:15:00  ((A, 2), (B, 3))\n",
              "2 2023-11-10 08:10:00 2023-11-10 08:20:00  ((A, 1), (B, 3))\n",
              "3 2023-11-10 08:15:00 2023-11-10 08:25:00  ((B, 2), (C, 1))\n",
              "4 2023-11-10 08:20:00 2023-11-10 08:30:00  ((B, 2), (C, 1))"
            ],
            "text/html": [
              "\n",
              "  <div id=\"df-479e842b-7255-46f0-9e01-ff6a57dd66d3\" class=\"colab-df-container\">\n",
              "    <div>\n",
              "<style scoped>\n",
              "    .dataframe tbody tr th:only-of-type {\n",
              "        vertical-align: middle;\n",
              "    }\n",
              "\n",
              "    .dataframe tbody tr th {\n",
              "        vertical-align: top;\n",
              "    }\n",
              "\n",
              "    .dataframe thead th {\n",
              "        text-align: right;\n",
              "    }\n",
              "</style>\n",
              "<table border=\"1\" class=\"dataframe\">\n",
              "  <thead>\n",
              "    <tr style=\"text-align: right;\">\n",
              "      <th></th>\n",
              "      <th>date_debut</th>\n",
              "      <th>date_fin</th>\n",
              "      <th>valeurs</th>\n",
              "    </tr>\n",
              "  </thead>\n",
              "  <tbody>\n",
              "    <tr>\n",
              "      <th>0</th>\n",
              "      <td>2023-11-10 08:00:00</td>\n",
              "      <td>2023-11-10 08:10:00</td>\n",
              "      <td>((A, 1),)</td>\n",
              "    </tr>\n",
              "    <tr>\n",
              "      <th>1</th>\n",
              "      <td>2023-11-10 08:05:00</td>\n",
              "      <td>2023-11-10 08:15:00</td>\n",
              "      <td>((A, 2), (B, 3))</td>\n",
              "    </tr>\n",
              "    <tr>\n",
              "      <th>2</th>\n",
              "      <td>2023-11-10 08:10:00</td>\n",
              "      <td>2023-11-10 08:20:00</td>\n",
              "      <td>((A, 1), (B, 3))</td>\n",
              "    </tr>\n",
              "    <tr>\n",
              "      <th>3</th>\n",
              "      <td>2023-11-10 08:15:00</td>\n",
              "      <td>2023-11-10 08:25:00</td>\n",
              "      <td>((B, 2), (C, 1))</td>\n",
              "    </tr>\n",
              "    <tr>\n",
              "      <th>4</th>\n",
              "      <td>2023-11-10 08:20:00</td>\n",
              "      <td>2023-11-10 08:30:00</td>\n",
              "      <td>((B, 2), (C, 1))</td>\n",
              "    </tr>\n",
              "  </tbody>\n",
              "</table>\n",
              "</div>\n",
              "    <div class=\"colab-df-buttons\">\n",
              "\n",
              "  <div class=\"colab-df-container\">\n",
              "    <button class=\"colab-df-convert\" onclick=\"convertToInteractive('df-479e842b-7255-46f0-9e01-ff6a57dd66d3')\"\n",
              "            title=\"Convert this dataframe to an interactive table.\"\n",
              "            style=\"display:none;\">\n",
              "\n",
              "  <svg xmlns=\"http://www.w3.org/2000/svg\" height=\"24px\" viewBox=\"0 -960 960 960\">\n",
              "    <path d=\"M120-120v-720h720v720H120Zm60-500h600v-160H180v160Zm220 220h160v-160H400v160Zm0 220h160v-160H400v160ZM180-400h160v-160H180v160Zm440 0h160v-160H620v160ZM180-180h160v-160H180v160Zm440 0h160v-160H620v160Z\"/>\n",
              "  </svg>\n",
              "    </button>\n",
              "\n",
              "  <style>\n",
              "    .colab-df-container {\n",
              "      display:flex;\n",
              "      gap: 12px;\n",
              "    }\n",
              "\n",
              "    .colab-df-convert {\n",
              "      background-color: #E8F0FE;\n",
              "      border: none;\n",
              "      border-radius: 50%;\n",
              "      cursor: pointer;\n",
              "      display: none;\n",
              "      fill: #1967D2;\n",
              "      height: 32px;\n",
              "      padding: 0 0 0 0;\n",
              "      width: 32px;\n",
              "    }\n",
              "\n",
              "    .colab-df-convert:hover {\n",
              "      background-color: #E2EBFA;\n",
              "      box-shadow: 0px 1px 2px rgba(60, 64, 67, 0.3), 0px 1px 3px 1px rgba(60, 64, 67, 0.15);\n",
              "      fill: #174EA6;\n",
              "    }\n",
              "\n",
              "    .colab-df-buttons div {\n",
              "      margin-bottom: 4px;\n",
              "    }\n",
              "\n",
              "    [theme=dark] .colab-df-convert {\n",
              "      background-color: #3B4455;\n",
              "      fill: #D2E3FC;\n",
              "    }\n",
              "\n",
              "    [theme=dark] .colab-df-convert:hover {\n",
              "      background-color: #434B5C;\n",
              "      box-shadow: 0px 1px 3px 1px rgba(0, 0, 0, 0.15);\n",
              "      filter: drop-shadow(0px 1px 2px rgba(0, 0, 0, 0.3));\n",
              "      fill: #FFFFFF;\n",
              "    }\n",
              "  </style>\n",
              "\n",
              "    <script>\n",
              "      const buttonEl =\n",
              "        document.querySelector('#df-479e842b-7255-46f0-9e01-ff6a57dd66d3 button.colab-df-convert');\n",
              "      buttonEl.style.display =\n",
              "        google.colab.kernel.accessAllowed ? 'block' : 'none';\n",
              "\n",
              "      async function convertToInteractive(key) {\n",
              "        const element = document.querySelector('#df-479e842b-7255-46f0-9e01-ff6a57dd66d3');\n",
              "        const dataTable =\n",
              "          await google.colab.kernel.invokeFunction('convertToInteractive',\n",
              "                                                    [key], {});\n",
              "        if (!dataTable) return;\n",
              "\n",
              "        const docLinkHtml = 'Like what you see? Visit the ' +\n",
              "          '<a target=\"_blank\" href=https://colab.research.google.com/notebooks/data_table.ipynb>data table notebook</a>'\n",
              "          + ' to learn more about interactive tables.';\n",
              "        element.innerHTML = '';\n",
              "        dataTable['output_type'] = 'display_data';\n",
              "        await google.colab.output.renderOutput(dataTable, element);\n",
              "        const docLink = document.createElement('div');\n",
              "        docLink.innerHTML = docLinkHtml;\n",
              "        element.appendChild(docLink);\n",
              "      }\n",
              "    </script>\n",
              "  </div>\n",
              "\n",
              "\n",
              "<div id=\"df-b1da200b-7458-4f8d-9dda-f0dd7ad230c0\">\n",
              "  <button class=\"colab-df-quickchart\" onclick=\"quickchart('df-b1da200b-7458-4f8d-9dda-f0dd7ad230c0')\"\n",
              "            title=\"Suggest charts\"\n",
              "            style=\"display:none;\">\n",
              "\n",
              "<svg xmlns=\"http://www.w3.org/2000/svg\" height=\"24px\"viewBox=\"0 0 24 24\"\n",
              "     width=\"24px\">\n",
              "    <g>\n",
              "        <path d=\"M19 3H5c-1.1 0-2 .9-2 2v14c0 1.1.9 2 2 2h14c1.1 0 2-.9 2-2V5c0-1.1-.9-2-2-2zM9 17H7v-7h2v7zm4 0h-2V7h2v10zm4 0h-2v-4h2v4z\"/>\n",
              "    </g>\n",
              "</svg>\n",
              "  </button>\n",
              "\n",
              "<style>\n",
              "  .colab-df-quickchart {\n",
              "      --bg-color: #E8F0FE;\n",
              "      --fill-color: #1967D2;\n",
              "      --hover-bg-color: #E2EBFA;\n",
              "      --hover-fill-color: #174EA6;\n",
              "      --disabled-fill-color: #AAA;\n",
              "      --disabled-bg-color: #DDD;\n",
              "  }\n",
              "\n",
              "  [theme=dark] .colab-df-quickchart {\n",
              "      --bg-color: #3B4455;\n",
              "      --fill-color: #D2E3FC;\n",
              "      --hover-bg-color: #434B5C;\n",
              "      --hover-fill-color: #FFFFFF;\n",
              "      --disabled-bg-color: #3B4455;\n",
              "      --disabled-fill-color: #666;\n",
              "  }\n",
              "\n",
              "  .colab-df-quickchart {\n",
              "    background-color: var(--bg-color);\n",
              "    border: none;\n",
              "    border-radius: 50%;\n",
              "    cursor: pointer;\n",
              "    display: none;\n",
              "    fill: var(--fill-color);\n",
              "    height: 32px;\n",
              "    padding: 0;\n",
              "    width: 32px;\n",
              "  }\n",
              "\n",
              "  .colab-df-quickchart:hover {\n",
              "    background-color: var(--hover-bg-color);\n",
              "    box-shadow: 0 1px 2px rgba(60, 64, 67, 0.3), 0 1px 3px 1px rgba(60, 64, 67, 0.15);\n",
              "    fill: var(--button-hover-fill-color);\n",
              "  }\n",
              "\n",
              "  .colab-df-quickchart-complete:disabled,\n",
              "  .colab-df-quickchart-complete:disabled:hover {\n",
              "    background-color: var(--disabled-bg-color);\n",
              "    fill: var(--disabled-fill-color);\n",
              "    box-shadow: none;\n",
              "  }\n",
              "\n",
              "  .colab-df-spinner {\n",
              "    border: 2px solid var(--fill-color);\n",
              "    border-color: transparent;\n",
              "    border-bottom-color: var(--fill-color);\n",
              "    animation:\n",
              "      spin 1s steps(1) infinite;\n",
              "  }\n",
              "\n",
              "  @keyframes spin {\n",
              "    0% {\n",
              "      border-color: transparent;\n",
              "      border-bottom-color: var(--fill-color);\n",
              "      border-left-color: var(--fill-color);\n",
              "    }\n",
              "    20% {\n",
              "      border-color: transparent;\n",
              "      border-left-color: var(--fill-color);\n",
              "      border-top-color: var(--fill-color);\n",
              "    }\n",
              "    30% {\n",
              "      border-color: transparent;\n",
              "      border-left-color: var(--fill-color);\n",
              "      border-top-color: var(--fill-color);\n",
              "      border-right-color: var(--fill-color);\n",
              "    }\n",
              "    40% {\n",
              "      border-color: transparent;\n",
              "      border-right-color: var(--fill-color);\n",
              "      border-top-color: var(--fill-color);\n",
              "    }\n",
              "    60% {\n",
              "      border-color: transparent;\n",
              "      border-right-color: var(--fill-color);\n",
              "    }\n",
              "    80% {\n",
              "      border-color: transparent;\n",
              "      border-right-color: var(--fill-color);\n",
              "      border-bottom-color: var(--fill-color);\n",
              "    }\n",
              "    90% {\n",
              "      border-color: transparent;\n",
              "      border-bottom-color: var(--fill-color);\n",
              "    }\n",
              "  }\n",
              "</style>\n",
              "\n",
              "  <script>\n",
              "    async function quickchart(key) {\n",
              "      const quickchartButtonEl =\n",
              "        document.querySelector('#' + key + ' button');\n",
              "      quickchartButtonEl.disabled = true;  // To prevent multiple clicks.\n",
              "      quickchartButtonEl.classList.add('colab-df-spinner');\n",
              "      try {\n",
              "        const charts = await google.colab.kernel.invokeFunction(\n",
              "            'suggestCharts', [key], {});\n",
              "      } catch (error) {\n",
              "        console.error('Error during call to suggestCharts:', error);\n",
              "      }\n",
              "      quickchartButtonEl.classList.remove('colab-df-spinner');\n",
              "      quickchartButtonEl.classList.add('colab-df-quickchart-complete');\n",
              "    }\n",
              "    (() => {\n",
              "      let quickchartButtonEl =\n",
              "        document.querySelector('#df-b1da200b-7458-4f8d-9dda-f0dd7ad230c0 button');\n",
              "      quickchartButtonEl.style.display =\n",
              "        google.colab.kernel.accessAllowed ? 'block' : 'none';\n",
              "    })();\n",
              "  </script>\n",
              "</div>\n",
              "    </div>\n",
              "  </div>\n"
            ]
          },
          "metadata": {},
          "execution_count": 13
        }
      ]
    },
    {
      "cell_type": "code",
      "source": [
        "# On donne un exemple où le décalage n'est pas un divisieur de la taille\n",
        "print(\"Taille : 5, Décalage : 3\")\n",
        "res = traiterS2(S1, 5, 3)\n",
        "df = pd.DataFrame([(date, date+timedelta(minutes=5), values) for date, values in res.items()], columns=['date_debut', 'date_fin', 'valeurs'])\n",
        "df"
      ],
      "metadata": {
        "colab": {
          "base_uri": "https://localhost:8080/",
          "height": 255
        },
        "id": "pZsialW_ZlwD",
        "outputId": "2a602814-656e-438b-f51b-5f5b70495411"
      },
      "execution_count": null,
      "outputs": [
        {
          "output_type": "stream",
          "name": "stdout",
          "text": [
            "Taille : 5, Décalage : 3\n"
          ]
        },
        {
          "output_type": "execute_result",
          "data": {
            "text/plain": [
              "           date_debut            date_fin           valeurs\n",
              "0 2023-11-10 08:05:00 2023-11-10 08:10:00         ((A, 1),)\n",
              "1 2023-11-10 08:08:00 2023-11-10 08:13:00  ((A, 1), (B, 3))\n",
              "2 2023-11-10 08:11:00 2023-11-10 08:16:00  ((A, 1), (B, 2))\n",
              "3 2023-11-10 08:14:00 2023-11-10 08:19:00                ()\n",
              "4 2023-11-10 08:17:00 2023-11-10 08:22:00  ((B, 2), (C, 1))\n",
              "5 2023-11-10 08:20:00 2023-11-10 08:25:00  ((B, 2), (C, 1))"
            ],
            "text/html": [
              "\n",
              "  <div id=\"df-fce2d6a8-484f-4636-9d6b-5277e4200569\" class=\"colab-df-container\">\n",
              "    <div>\n",
              "<style scoped>\n",
              "    .dataframe tbody tr th:only-of-type {\n",
              "        vertical-align: middle;\n",
              "    }\n",
              "\n",
              "    .dataframe tbody tr th {\n",
              "        vertical-align: top;\n",
              "    }\n",
              "\n",
              "    .dataframe thead th {\n",
              "        text-align: right;\n",
              "    }\n",
              "</style>\n",
              "<table border=\"1\" class=\"dataframe\">\n",
              "  <thead>\n",
              "    <tr style=\"text-align: right;\">\n",
              "      <th></th>\n",
              "      <th>date_debut</th>\n",
              "      <th>date_fin</th>\n",
              "      <th>valeurs</th>\n",
              "    </tr>\n",
              "  </thead>\n",
              "  <tbody>\n",
              "    <tr>\n",
              "      <th>0</th>\n",
              "      <td>2023-11-10 08:05:00</td>\n",
              "      <td>2023-11-10 08:10:00</td>\n",
              "      <td>((A, 1),)</td>\n",
              "    </tr>\n",
              "    <tr>\n",
              "      <th>1</th>\n",
              "      <td>2023-11-10 08:08:00</td>\n",
              "      <td>2023-11-10 08:13:00</td>\n",
              "      <td>((A, 1), (B, 3))</td>\n",
              "    </tr>\n",
              "    <tr>\n",
              "      <th>2</th>\n",
              "      <td>2023-11-10 08:11:00</td>\n",
              "      <td>2023-11-10 08:16:00</td>\n",
              "      <td>((A, 1), (B, 2))</td>\n",
              "    </tr>\n",
              "    <tr>\n",
              "      <th>3</th>\n",
              "      <td>2023-11-10 08:14:00</td>\n",
              "      <td>2023-11-10 08:19:00</td>\n",
              "      <td>()</td>\n",
              "    </tr>\n",
              "    <tr>\n",
              "      <th>4</th>\n",
              "      <td>2023-11-10 08:17:00</td>\n",
              "      <td>2023-11-10 08:22:00</td>\n",
              "      <td>((B, 2), (C, 1))</td>\n",
              "    </tr>\n",
              "    <tr>\n",
              "      <th>5</th>\n",
              "      <td>2023-11-10 08:20:00</td>\n",
              "      <td>2023-11-10 08:25:00</td>\n",
              "      <td>((B, 2), (C, 1))</td>\n",
              "    </tr>\n",
              "  </tbody>\n",
              "</table>\n",
              "</div>\n",
              "    <div class=\"colab-df-buttons\">\n",
              "\n",
              "  <div class=\"colab-df-container\">\n",
              "    <button class=\"colab-df-convert\" onclick=\"convertToInteractive('df-fce2d6a8-484f-4636-9d6b-5277e4200569')\"\n",
              "            title=\"Convert this dataframe to an interactive table.\"\n",
              "            style=\"display:none;\">\n",
              "\n",
              "  <svg xmlns=\"http://www.w3.org/2000/svg\" height=\"24px\" viewBox=\"0 -960 960 960\">\n",
              "    <path d=\"M120-120v-720h720v720H120Zm60-500h600v-160H180v160Zm220 220h160v-160H400v160Zm0 220h160v-160H400v160ZM180-400h160v-160H180v160Zm440 0h160v-160H620v160ZM180-180h160v-160H180v160Zm440 0h160v-160H620v160Z\"/>\n",
              "  </svg>\n",
              "    </button>\n",
              "\n",
              "  <style>\n",
              "    .colab-df-container {\n",
              "      display:flex;\n",
              "      gap: 12px;\n",
              "    }\n",
              "\n",
              "    .colab-df-convert {\n",
              "      background-color: #E8F0FE;\n",
              "      border: none;\n",
              "      border-radius: 50%;\n",
              "      cursor: pointer;\n",
              "      display: none;\n",
              "      fill: #1967D2;\n",
              "      height: 32px;\n",
              "      padding: 0 0 0 0;\n",
              "      width: 32px;\n",
              "    }\n",
              "\n",
              "    .colab-df-convert:hover {\n",
              "      background-color: #E2EBFA;\n",
              "      box-shadow: 0px 1px 2px rgba(60, 64, 67, 0.3), 0px 1px 3px 1px rgba(60, 64, 67, 0.15);\n",
              "      fill: #174EA6;\n",
              "    }\n",
              "\n",
              "    .colab-df-buttons div {\n",
              "      margin-bottom: 4px;\n",
              "    }\n",
              "\n",
              "    [theme=dark] .colab-df-convert {\n",
              "      background-color: #3B4455;\n",
              "      fill: #D2E3FC;\n",
              "    }\n",
              "\n",
              "    [theme=dark] .colab-df-convert:hover {\n",
              "      background-color: #434B5C;\n",
              "      box-shadow: 0px 1px 3px 1px rgba(0, 0, 0, 0.15);\n",
              "      filter: drop-shadow(0px 1px 2px rgba(0, 0, 0, 0.3));\n",
              "      fill: #FFFFFF;\n",
              "    }\n",
              "  </style>\n",
              "\n",
              "    <script>\n",
              "      const buttonEl =\n",
              "        document.querySelector('#df-fce2d6a8-484f-4636-9d6b-5277e4200569 button.colab-df-convert');\n",
              "      buttonEl.style.display =\n",
              "        google.colab.kernel.accessAllowed ? 'block' : 'none';\n",
              "\n",
              "      async function convertToInteractive(key) {\n",
              "        const element = document.querySelector('#df-fce2d6a8-484f-4636-9d6b-5277e4200569');\n",
              "        const dataTable =\n",
              "          await google.colab.kernel.invokeFunction('convertToInteractive',\n",
              "                                                    [key], {});\n",
              "        if (!dataTable) return;\n",
              "\n",
              "        const docLinkHtml = 'Like what you see? Visit the ' +\n",
              "          '<a target=\"_blank\" href=https://colab.research.google.com/notebooks/data_table.ipynb>data table notebook</a>'\n",
              "          + ' to learn more about interactive tables.';\n",
              "        element.innerHTML = '';\n",
              "        dataTable['output_type'] = 'display_data';\n",
              "        await google.colab.output.renderOutput(dataTable, element);\n",
              "        const docLink = document.createElement('div');\n",
              "        docLink.innerHTML = docLinkHtml;\n",
              "        element.appendChild(docLink);\n",
              "      }\n",
              "    </script>\n",
              "  </div>\n",
              "\n",
              "\n",
              "<div id=\"df-c139e0ce-fbaf-4128-84c5-cd6ffe3ae7fb\">\n",
              "  <button class=\"colab-df-quickchart\" onclick=\"quickchart('df-c139e0ce-fbaf-4128-84c5-cd6ffe3ae7fb')\"\n",
              "            title=\"Suggest charts\"\n",
              "            style=\"display:none;\">\n",
              "\n",
              "<svg xmlns=\"http://www.w3.org/2000/svg\" height=\"24px\"viewBox=\"0 0 24 24\"\n",
              "     width=\"24px\">\n",
              "    <g>\n",
              "        <path d=\"M19 3H5c-1.1 0-2 .9-2 2v14c0 1.1.9 2 2 2h14c1.1 0 2-.9 2-2V5c0-1.1-.9-2-2-2zM9 17H7v-7h2v7zm4 0h-2V7h2v10zm4 0h-2v-4h2v4z\"/>\n",
              "    </g>\n",
              "</svg>\n",
              "  </button>\n",
              "\n",
              "<style>\n",
              "  .colab-df-quickchart {\n",
              "      --bg-color: #E8F0FE;\n",
              "      --fill-color: #1967D2;\n",
              "      --hover-bg-color: #E2EBFA;\n",
              "      --hover-fill-color: #174EA6;\n",
              "      --disabled-fill-color: #AAA;\n",
              "      --disabled-bg-color: #DDD;\n",
              "  }\n",
              "\n",
              "  [theme=dark] .colab-df-quickchart {\n",
              "      --bg-color: #3B4455;\n",
              "      --fill-color: #D2E3FC;\n",
              "      --hover-bg-color: #434B5C;\n",
              "      --hover-fill-color: #FFFFFF;\n",
              "      --disabled-bg-color: #3B4455;\n",
              "      --disabled-fill-color: #666;\n",
              "  }\n",
              "\n",
              "  .colab-df-quickchart {\n",
              "    background-color: var(--bg-color);\n",
              "    border: none;\n",
              "    border-radius: 50%;\n",
              "    cursor: pointer;\n",
              "    display: none;\n",
              "    fill: var(--fill-color);\n",
              "    height: 32px;\n",
              "    padding: 0;\n",
              "    width: 32px;\n",
              "  }\n",
              "\n",
              "  .colab-df-quickchart:hover {\n",
              "    background-color: var(--hover-bg-color);\n",
              "    box-shadow: 0 1px 2px rgba(60, 64, 67, 0.3), 0 1px 3px 1px rgba(60, 64, 67, 0.15);\n",
              "    fill: var(--button-hover-fill-color);\n",
              "  }\n",
              "\n",
              "  .colab-df-quickchart-complete:disabled,\n",
              "  .colab-df-quickchart-complete:disabled:hover {\n",
              "    background-color: var(--disabled-bg-color);\n",
              "    fill: var(--disabled-fill-color);\n",
              "    box-shadow: none;\n",
              "  }\n",
              "\n",
              "  .colab-df-spinner {\n",
              "    border: 2px solid var(--fill-color);\n",
              "    border-color: transparent;\n",
              "    border-bottom-color: var(--fill-color);\n",
              "    animation:\n",
              "      spin 1s steps(1) infinite;\n",
              "  }\n",
              "\n",
              "  @keyframes spin {\n",
              "    0% {\n",
              "      border-color: transparent;\n",
              "      border-bottom-color: var(--fill-color);\n",
              "      border-left-color: var(--fill-color);\n",
              "    }\n",
              "    20% {\n",
              "      border-color: transparent;\n",
              "      border-left-color: var(--fill-color);\n",
              "      border-top-color: var(--fill-color);\n",
              "    }\n",
              "    30% {\n",
              "      border-color: transparent;\n",
              "      border-left-color: var(--fill-color);\n",
              "      border-top-color: var(--fill-color);\n",
              "      border-right-color: var(--fill-color);\n",
              "    }\n",
              "    40% {\n",
              "      border-color: transparent;\n",
              "      border-right-color: var(--fill-color);\n",
              "      border-top-color: var(--fill-color);\n",
              "    }\n",
              "    60% {\n",
              "      border-color: transparent;\n",
              "      border-right-color: var(--fill-color);\n",
              "    }\n",
              "    80% {\n",
              "      border-color: transparent;\n",
              "      border-right-color: var(--fill-color);\n",
              "      border-bottom-color: var(--fill-color);\n",
              "    }\n",
              "    90% {\n",
              "      border-color: transparent;\n",
              "      border-bottom-color: var(--fill-color);\n",
              "    }\n",
              "  }\n",
              "</style>\n",
              "\n",
              "  <script>\n",
              "    async function quickchart(key) {\n",
              "      const quickchartButtonEl =\n",
              "        document.querySelector('#' + key + ' button');\n",
              "      quickchartButtonEl.disabled = true;  // To prevent multiple clicks.\n",
              "      quickchartButtonEl.classList.add('colab-df-spinner');\n",
              "      try {\n",
              "        const charts = await google.colab.kernel.invokeFunction(\n",
              "            'suggestCharts', [key], {});\n",
              "      } catch (error) {\n",
              "        console.error('Error during call to suggestCharts:', error);\n",
              "      }\n",
              "      quickchartButtonEl.classList.remove('colab-df-spinner');\n",
              "      quickchartButtonEl.classList.add('colab-df-quickchart-complete');\n",
              "    }\n",
              "    (() => {\n",
              "      let quickchartButtonEl =\n",
              "        document.querySelector('#df-c139e0ce-fbaf-4128-84c5-cd6ffe3ae7fb button');\n",
              "      quickchartButtonEl.style.display =\n",
              "        google.colab.kernel.accessAllowed ? 'block' : 'none';\n",
              "    })();\n",
              "  </script>\n",
              "</div>\n",
              "    </div>\n",
              "  </div>\n"
            ]
          },
          "metadata": {},
          "execution_count": 14
        }
      ]
    },
    {
      "cell_type": "markdown",
      "source": [
        "## Exercice 2 : Streaming\n",
        "\n",
        "Proposer une implémentation pour l'exercice Streaming (celui de l'ER1 2022) vu en cours."
      ],
      "metadata": {
        "id": "hjCQIYeppcu5"
      }
    },
    {
      "cell_type": "markdown",
      "source": [
        "Cet exercice étant difficile à mettre en place avec sparkstreaming car l'arrivée des données est espacé de plus d'une heure, nous avons simulé la réflexion que nous pourrions avoir sur papier."
      ],
      "metadata": {
        "id": "AgD_fZb_OOKE"
      }
    },
    {
      "cell_type": "markdown",
      "source": [
        "### Question 1"
      ],
      "metadata": {
        "id": "SnJHuDGgsKDu"
      }
    },
    {
      "cell_type": "code",
      "source": [
        "from pyspark.sql import SparkSession\n",
        "from pyspark.sql.functions import to_timestamp\n",
        "from pyspark.sql.types import StructType, StructField, StringType, IntegerType, TimestampType\n",
        "\n",
        "# Définir le schéma du DataFrame\n",
        "schema = StructType([\n",
        "    StructField(\"evt\", StringType(), True),\n",
        "    StructField(\"heure\", StringType(), True),\n",
        "    StructField(\"categorie\", StringType(), True),\n",
        "    StructField(\"user\", StringType(), True),\n",
        "    StructField(\"points\", IntegerType(), True)\n",
        "])\n",
        "\n",
        "# Données fournies\n",
        "T1 = [\n",
        "    (\"e0\", \"07:30\", \"restau\", \"u1\", 2),\n",
        "    (\"e1\", \"08:30\", \"musée\", \"u1\", 5),\n",
        "    (\"e2\", \"09:30\", \"ciné\", \"u2\", 3),\n",
        "    (\"e3\", \"09:50\", \"musée\", \"u3\", 1),\n",
        "    (\"e4\", \"09:50\", \"ciné\", \"u2\", 5)\n",
        "]\n",
        "T2 = [\n",
        "    (\"e5\", \"10:10\", \"ciné\", \"u5\", 2),\n",
        "    (\"e6\", \"10:50\", \"restau\", \"u4\", 4),\n",
        "    (\"e7\", \"10:40\", \"restau\", \"u5\", 5),\n",
        "    (\"e8\", \"10:50\", \"musée\", \"u3\", 4)]\n",
        "\n",
        "T3 = [\n",
        "    (\"e9\", \"11:30\", \"musée\", \"u4\", 3),\n",
        "    (\"e10\", \"12:05\", \"ciné\", \"u3\", 2),\n",
        "    (\"e11\", \"11:10\", \"parc\", \"u1\", 3)]\n",
        "\n",
        "# Convertir les données en DataFrame avec l'heure en tant que StringType\n",
        "df1 = spark.createDataFrame(T1, schema=schema)\n",
        "df2 = spark.createDataFrame(T2, schema=schema)\n",
        "df3 = spark.createDataFrame(T3, schema=schema)\n",
        "\n",
        "\n",
        "def convert_to_timestamp(df):\n",
        "    return df.withColumn(\"heure\", to_timestamp(df[\"heure\"], \"HH:mm\"))\n",
        "\n",
        "# Appliquer la conversion en timestamp\n",
        "df1 = convert_to_timestamp(df1)\n",
        "df2 = convert_to_timestamp(df2)\n",
        "df3 = convert_to_timestamp(df3)\n",
        "\n",
        "# Afficher le DataFrame\n",
        "df1.show()\n",
        "df2.show()\n",
        "df3.show()\n"
      ],
      "metadata": {
        "id": "ew960p5aqArW",
        "colab": {
          "base_uri": "https://localhost:8080/"
        },
        "outputId": "4c9c64db-35c0-4147-e86c-027193d8fd6f"
      },
      "execution_count": null,
      "outputs": [
        {
          "output_type": "stream",
          "name": "stdout",
          "text": [
            "+---+-------------------+---------+----+------+\n",
            "|evt|              heure|categorie|user|points|\n",
            "+---+-------------------+---------+----+------+\n",
            "| e0|1970-01-01 07:30:00|   restau|  u1|     2|\n",
            "| e1|1970-01-01 08:30:00|    musée|  u1|     5|\n",
            "| e2|1970-01-01 09:30:00|     ciné|  u2|     3|\n",
            "| e3|1970-01-01 09:50:00|    musée|  u3|     1|\n",
            "| e4|1970-01-01 09:50:00|     ciné|  u2|     5|\n",
            "+---+-------------------+---------+----+------+\n",
            "\n",
            "+---+-------------------+---------+----+------+\n",
            "|evt|              heure|categorie|user|points|\n",
            "+---+-------------------+---------+----+------+\n",
            "| e5|1970-01-01 10:10:00|     ciné|  u5|     2|\n",
            "| e6|1970-01-01 10:50:00|   restau|  u4|     4|\n",
            "| e7|1970-01-01 10:40:00|   restau|  u5|     5|\n",
            "| e8|1970-01-01 10:50:00|    musée|  u3|     4|\n",
            "+---+-------------------+---------+----+------+\n",
            "\n",
            "+---+-------------------+---------+----+------+\n",
            "|evt|              heure|categorie|user|points|\n",
            "+---+-------------------+---------+----+------+\n",
            "| e9|1970-01-01 11:30:00|    musée|  u4|     3|\n",
            "|e10|1970-01-01 12:05:00|     ciné|  u3|     2|\n",
            "|e11|1970-01-01 11:10:00|     parc|  u1|     3|\n",
            "+---+-------------------+---------+----+------+\n",
            "\n"
          ]
        }
      ]
    },
    {
      "cell_type": "code",
      "source": [
        "def pseudo_stream(df, debut_str, debut_int, fin_str, fin_int):\n",
        "  # window correspond à la plage horaire observée\n",
        "  window = (col(\"heure\") >= to_timestamp(lit(debut_str), \"HH:mm\")) & \\\n",
        "            (col(\"heure\") < to_timestamp(lit(fin_str), \"HH:mm\"))\n",
        "  df1_filtered = df.filter(window)\n",
        "\n",
        "  # On calcule le nombre d'utilisateurs distincts et le nombre total de point par catégorie d'évènements\n",
        "  resultat_t1 = df1_filtered.groupBy(\n",
        "      col(\"categorie\")\n",
        "  ).agg(\n",
        "      countDistinct(col(\"user\")).alias(\"nbUser\"),\n",
        "      sum(col(\"points\")).alias(\"totalPoints\")\n",
        "  ).withColumn(\"debut\",lit(debut_int)).withColumn(\"fin\", lit(fin_int)).select(\n",
        "      col(\"debut\"),\n",
        "      col(\"fin\"),\n",
        "      col(\"categorie\"),\n",
        "      col(\"nbUser\"),\n",
        "      col(\"totalPoints\")\n",
        "  ).orderBy(\"categorie\")\n",
        "  return resultat_t1"
      ],
      "metadata": {
        "id": "p_UmFTCH-kQg"
      },
      "execution_count": null,
      "outputs": []
    },
    {
      "cell_type": "code",
      "source": [
        "# au temps T1\n",
        "res = pseudo_stream(df1, \"07:00\", 7, \"10:00\", 10)\n",
        "res.show()"
      ],
      "metadata": {
        "colab": {
          "base_uri": "https://localhost:8080/"
        },
        "id": "91dHdKJ7_Fqy",
        "outputId": "87fcb05c-dfec-463f-b953-1fee17e5a51f"
      },
      "execution_count": null,
      "outputs": [
        {
          "output_type": "stream",
          "name": "stdout",
          "text": [
            "+-----+---+---------+------+-----------+\n",
            "|debut|fin|categorie|nbUser|totalPoints|\n",
            "+-----+---+---------+------+-----------+\n",
            "|    7| 10|     ciné|     1|          8|\n",
            "|    7| 10|    musée|     2|          6|\n",
            "|    7| 10|   restau|     1|          2|\n",
            "+-----+---+---------+------+-----------+\n",
            "\n"
          ]
        }
      ]
    },
    {
      "cell_type": "code",
      "source": [
        "# au temps T2\n",
        "t2 = df1.union(df2)\n",
        "res = pseudo_stream(t2, \"08:00\", 8, \"11:00\", 11)\n",
        "res.show()"
      ],
      "metadata": {
        "colab": {
          "base_uri": "https://localhost:8080/"
        },
        "id": "9ftxMqf39uFU",
        "outputId": "7b07a77b-dfae-4457-d288-2c840d226fe0"
      },
      "execution_count": null,
      "outputs": [
        {
          "output_type": "stream",
          "name": "stdout",
          "text": [
            "+-----+---+---------+------+-----------+\n",
            "|debut|fin|categorie|nbUser|totalPoints|\n",
            "+-----+---+---------+------+-----------+\n",
            "|    8| 11|     ciné|     2|         10|\n",
            "|    8| 11|    musée|     2|         10|\n",
            "|    8| 11|   restau|     2|          9|\n",
            "+-----+---+---------+------+-----------+\n",
            "\n"
          ]
        }
      ]
    },
    {
      "cell_type": "code",
      "source": [
        "# au temps T3\n",
        "t3 = t2.union(df3)\n",
        "res = pseudo_stream(t3, \"09:00\", 9, \"12:00\", 12)\n",
        "res.show()"
      ],
      "metadata": {
        "colab": {
          "base_uri": "https://localhost:8080/"
        },
        "id": "uSrjVUDC9t9D",
        "outputId": "5d9d571b-b0f0-4a76-f614-2057abd43ce9"
      },
      "execution_count": null,
      "outputs": [
        {
          "output_type": "stream",
          "name": "stdout",
          "text": [
            "+-----+---+---------+------+-----------+\n",
            "|debut|fin|categorie|nbUser|totalPoints|\n",
            "+-----+---+---------+------+-----------+\n",
            "|    9| 12|     ciné|     2|         10|\n",
            "|    9| 12|    musée|     2|          8|\n",
            "|    9| 12|     parc|     1|          3|\n",
            "|    9| 12|   restau|     2|          9|\n",
            "+-----+---+---------+------+-----------+\n",
            "\n"
          ]
        }
      ]
    },
    {
      "cell_type": "markdown",
      "source": [
        "### question 2 :  gestion des données tardives"
      ],
      "metadata": {
        "id": "MP_Z8we1Arrp"
      }
    },
    {
      "cell_type": "code",
      "source": [
        "# Données\n",
        "T1 = [\n",
        "    (\"e0\", \"07:30\", \"restau\", \"u1\", 2),\n",
        "    (\"e1\", \"08:30\", \"musée\", \"u1\", 5),\n",
        "    (\"e2\", \"09:30\", \"ciné\", \"u2\", 3),\n",
        "    (\"e3\", \"09:50\", \"musée\", \"u3\", 1),\n",
        "    (\"e4\", \"09:50\", \"ciné\", \"u2\", 5)\n",
        "]\n",
        "T2 = [\n",
        "    (\"e5\", \"07:10\", \"ciné\", \"u5\", 2),\n",
        "    (\"e6\", \"10:50\", \"restau\", \"u4\", 4),\n",
        "    (\"e7\", \"07:55\", \"restau\", \"u5\", 5),\n",
        "    (\"e8\", \"10:50\", \"musée\", \"u3\", 4)]\n",
        "\n",
        "# Convertir les données en DataFrame avec l'heure en tant que StringType\n",
        "df1 = spark.createDataFrame(T1, schema=schema)\n",
        "df2 = spark.createDataFrame(T2, schema=schema)\n",
        "\n",
        "def convert_to_timestamp(df):\n",
        "    return df.withColumn(\"heure\", to_timestamp(df[\"heure\"], \"HH:mm\"))\n",
        "\n",
        "# Appliquer la conversion\n",
        "df1 = convert_to_timestamp(df1)\n",
        "df2 = convert_to_timestamp(df2)\n",
        "\n",
        "# Afficher le DataFrame\n",
        "df1.show()\n",
        "df2.show()"
      ],
      "metadata": {
        "colab": {
          "base_uri": "https://localhost:8080/"
        },
        "id": "VUauGpkBBCG1",
        "outputId": "91722389-aa40-46c5-942c-3be0fc920a4f"
      },
      "execution_count": null,
      "outputs": [
        {
          "output_type": "stream",
          "name": "stdout",
          "text": [
            "+---+-------------------+---------+----+------+\n",
            "|evt|              heure|categorie|user|points|\n",
            "+---+-------------------+---------+----+------+\n",
            "| e0|1970-01-01 07:30:00|   restau|  u1|     2|\n",
            "| e1|1970-01-01 08:30:00|    musée|  u1|     5|\n",
            "| e2|1970-01-01 09:30:00|     ciné|  u2|     3|\n",
            "| e3|1970-01-01 09:50:00|    musée|  u3|     1|\n",
            "| e4|1970-01-01 09:50:00|     ciné|  u2|     5|\n",
            "+---+-------------------+---------+----+------+\n",
            "\n",
            "+---+-------------------+---------+----+------+\n",
            "|evt|              heure|categorie|user|points|\n",
            "+---+-------------------+---------+----+------+\n",
            "| e5|1970-01-01 07:10:00|     ciné|  u5|     2|\n",
            "| e6|1970-01-01 10:50:00|   restau|  u4|     4|\n",
            "| e7|1970-01-01 07:55:00|   restau|  u5|     5|\n",
            "| e8|1970-01-01 10:50:00|    musée|  u3|     4|\n",
            "+---+-------------------+---------+----+------+\n",
            "\n"
          ]
        }
      ]
    },
    {
      "cell_type": "code",
      "source": [
        "def debut_max(df):\n",
        "  return df.agg(max(\"heure\").alias(\"max_heure\")).collect()[0][0]"
      ],
      "metadata": {
        "id": "oOdBOsPN9t5q"
      },
      "execution_count": null,
      "outputs": []
    },
    {
      "cell_type": "code",
      "source": [
        "# calcul de la borne inférieure de la plage de validite pour T1\n",
        "borne_inf_validite = debut_max(df1) - timedelta(hours=2)\n",
        "print(borne_inf_validite )"
      ],
      "metadata": {
        "colab": {
          "base_uri": "https://localhost:8080/"
        },
        "id": "Av8Ijx2AByhe",
        "outputId": "5e51d9e6-0a28-4580-91e9-9016ef986443"
      },
      "execution_count": null,
      "outputs": [
        {
          "output_type": "stream",
          "name": "stdout",
          "text": [
            "1970-01-01 07:50:00\n"
          ]
        }
      ]
    },
    {
      "cell_type": "code",
      "source": [
        "# ne conserver que le tuple de 7h50 mais pas celui de 7h10\n",
        "df_filtered = df2.filter(col(\"heure\") > borne_inf_validite)\n",
        "df_filtered.show()"
      ],
      "metadata": {
        "colab": {
          "base_uri": "https://localhost:8080/"
        },
        "id": "ohPBVSPtF8zD",
        "outputId": "b366a39f-0d54-4597-c728-abb382b8b804"
      },
      "execution_count": null,
      "outputs": [
        {
          "output_type": "stream",
          "name": "stdout",
          "text": [
            "+---+-------------------+---------+----+------+\n",
            "|evt|              heure|categorie|user|points|\n",
            "+---+-------------------+---------+----+------+\n",
            "| e6|1970-01-01 10:50:00|   restau|  u4|     4|\n",
            "| e7|1970-01-01 07:55:00|   restau|  u5|     5|\n",
            "| e8|1970-01-01 10:50:00|    musée|  u3|     4|\n",
            "+---+-------------------+---------+----+------+\n",
            "\n"
          ]
        }
      ]
    },
    {
      "cell_type": "code",
      "source": [
        "# Résultat à T2\n",
        "t2 = df1.union(df_filtered)\n",
        "\n",
        "res1 = pseudo_stream(t2, \"07:00\", 7, \"10:00\", 10)\n",
        "res2 = pseudo_stream(t2, \"08:00\", 8, \"11:00\", 11)\n",
        "res = res1.union(res2)\n",
        "res.show()"
      ],
      "metadata": {
        "colab": {
          "base_uri": "https://localhost:8080/"
        },
        "id": "Fv8fSNQFDjNN",
        "outputId": "91db2d4b-6515-41da-ce3d-7d3ea1ee0c8b"
      },
      "execution_count": null,
      "outputs": [
        {
          "output_type": "stream",
          "name": "stdout",
          "text": [
            "+-----+---+---------+------+-----------+\n",
            "|debut|fin|categorie|nbUser|totalPoints|\n",
            "+-----+---+---------+------+-----------+\n",
            "|    7| 10|     ciné|     1|          8|\n",
            "|    7| 10|    musée|     2|          6|\n",
            "|    7| 10|   restau|     2|          7|\n",
            "|    8| 11|     ciné|     1|          8|\n",
            "|    8| 11|    musée|     2|         10|\n",
            "|    8| 11|   restau|     1|          4|\n",
            "+-----+---+---------+------+-----------+\n",
            "\n"
          ]
        }
      ]
    },
    {
      "cell_type": "markdown",
      "source": [
        "### Question 3 Watermark"
      ],
      "metadata": {
        "id": "TeyMen8hITW3"
      }
    },
    {
      "cell_type": "code",
      "source": [
        "# Definition du watermark\n",
        "borne_inf_validite = debut_max(df1) - timedelta(hours=2)\n",
        "print(borne_inf_validite)"
      ],
      "metadata": {
        "colab": {
          "base_uri": "https://localhost:8080/"
        },
        "id": "Cv6N6T7sIZaY",
        "outputId": "9e25e470-55a2-40e6-d91f-5e9c9e723be6"
      },
      "execution_count": null,
      "outputs": [
        {
          "output_type": "stream",
          "name": "stdout",
          "text": [
            "1970-01-01 07:50:00\n"
          ]
        }
      ]
    },
    {
      "cell_type": "code",
      "source": [
        "# En mode append on n'affichera le résultat que lorsque l'on sera sûr que le resultat est complet\n",
        "# ( borne inf de la plage de validité > borne sup de la fenetre)\n",
        "if datetime.strptime(\"1970-01-01 07:00:00\", \"%Y-%m-%d %H:%M:%S\") > borne_inf_validite + timedelta(hours=2) :\n",
        "  t2 = df1.union(df_filtered)\n",
        "  res1 = pseudo_stream(t2, \"07:00\", 7, \"10:00\", 10)\n",
        "  res2 = pseudo_stream(t2, \"08:00\", 8, \"11:00\", 11)\n",
        "  res = res1.union(res2)\n",
        "  res.show()\n",
        "else :\n",
        "  df_filtered = t2.filter(col(\"heure\")>borne_inf_validite + timedelta(hours=2))\n",
        "  res1 = pseudo_stream(df_filtered, \"07:00\", 7, \"10:00\", 10)\n",
        "  res1.show()"
      ],
      "metadata": {
        "colab": {
          "base_uri": "https://localhost:8080/"
        },
        "id": "ls-G0Z8YIZXR",
        "outputId": "ef4f4c1e-46ce-4895-a7a8-b01e5d2c4093"
      },
      "execution_count": null,
      "outputs": [
        {
          "output_type": "stream",
          "name": "stdout",
          "text": [
            "+-----+---+---------+------+-----------+\n",
            "|debut|fin|categorie|nbUser|totalPoints|\n",
            "+-----+---+---------+------+-----------+\n",
            "+-----+---+---------+------+-----------+\n",
            "\n"
          ]
        }
      ]
    },
    {
      "cell_type": "markdown",
      "source": [
        "## Exercice 3 : Mise en pratique Spark Streaming\n"
      ],
      "metadata": {
        "id": "Nl5BdMsDD7ub"
      }
    },
    {
      "cell_type": "code",
      "source": [
        "import os\n",
        "\n",
        "dir_name = \"/content/input\"\n",
        "os.makedirs(dir_name, exist_ok=True)\n",
        "\n",
        "checkpoint = \"/content/checkpoint\"\n",
        "os.makedirs(checkpoint, exist_ok=True)\n",
        "\n",
        "streaming_query = None"
      ],
      "metadata": {
        "id": "DS0RPQH_5Nj3"
      },
      "execution_count": null,
      "outputs": []
    },
    {
      "cell_type": "markdown",
      "source": [
        "Clean the input source"
      ],
      "metadata": {
        "id": "-aXhCP0OOaR8"
      }
    },
    {
      "cell_type": "code",
      "source": [
        "# Vider l'input\n",
        "!rm -f /content/input/*\n",
        "\n",
        "np.random.seed(1)\n",
        "\n",
        "NEXT_FILE_ID=1\n",
        "\n",
        "def add_input_data(dir_name):\n",
        "  global NEXT_FILE_ID\n",
        "  nb_lines = 5\n",
        "  with open(dir_name + f\"/file_{NEXT_FILE_ID}.csv\", \"w\") as f:\n",
        "    content = [ f\"{i} {a}\\n\" for i,a in enumerate(np.random.randint(1, 20, nb_lines))]\n",
        "    for l in content:\n",
        "      print(l)\n",
        "    f.writelines(''.join(content))\n",
        "    print(\"added file:\", NEXT_FILE_ID)\n",
        "    NEXT_FILE_ID += 1\n",
        "\n",
        "print(\"function defined\")"
      ],
      "metadata": {
        "id": "3BJT0zkb_XYy",
        "colab": {
          "base_uri": "https://localhost:8080/"
        },
        "outputId": "f850a071-9d26-4b82-e76d-5b692d39cc43"
      },
      "execution_count": null,
      "outputs": [
        {
          "output_type": "stream",
          "name": "stdout",
          "text": [
            "function defined\n"
          ]
        }
      ]
    },
    {
      "cell_type": "markdown",
      "source": [
        "Define the input stream"
      ],
      "metadata": {
        "id": "kJKAdT4pNX58"
      }
    },
    {
      "cell_type": "code",
      "source": [
        "schema = \"ID int, note int\"\n",
        "input_stream = spark.readStream.schema(schema).option(\"delimiter\", \" \").option(\"maxFilesPerTrigger\", 1).csv(dir_name)"
      ],
      "metadata": {
        "id": "T79SLBZUC9Vk"
      },
      "execution_count": null,
      "outputs": []
    },
    {
      "cell_type": "markdown",
      "source": [
        "Define a **query** on the input stream"
      ],
      "metadata": {
        "id": "iQvHTCInNjMD"
      }
    },
    {
      "cell_type": "code",
      "source": [
        "query = input_stream.groupBy(\"ID\").agg(avg(\"note\").alias(\"moyenne\")).orderBy(\"ID\")\n",
        "# print(\"Streaming is: \", query.isStreaming)"
      ],
      "metadata": {
        "id": "fynVbHBCGFV0"
      },
      "execution_count": null,
      "outputs": []
    },
    {
      "cell_type": "markdown",
      "source": [
        "Define the **output** stream and **execute the streaming query**"
      ],
      "metadata": {
        "id": "gkG5KVXONrUA"
      }
    },
    {
      "cell_type": "code",
      "source": [
        "if(streaming_query is not None and streaming_query.isActive):\n",
        "  print(\"Stopping current streaming query before defining a new one.\")\n",
        "  streaming_query.stop()\n",
        "\n",
        "streaming_query = query.writeStream.format(\"memory\").queryName(\"Result\").outputMode(\"complete\").start()\n",
        "\n",
        "print(\"Active stream:\", streaming_query.isActive)"
      ],
      "metadata": {
        "id": "UVFi59FaG6UL",
        "colab": {
          "base_uri": "https://localhost:8080/"
        },
        "outputId": "cbf3b66f-460c-4735-de97-24cbb34d2191"
      },
      "execution_count": null,
      "outputs": [
        {
          "output_type": "stream",
          "name": "stdout",
          "text": [
            "Active stream: True\n"
          ]
        }
      ]
    },
    {
      "cell_type": "markdown",
      "source": [
        "Produire des données d'entrée"
      ],
      "metadata": {
        "id": "eq7Mx3PpPeVd"
      }
    },
    {
      "cell_type": "code",
      "source": [
        "add_input_data(dir_name)"
      ],
      "metadata": {
        "id": "PipkaPHn1FCq",
        "colab": {
          "base_uri": "https://localhost:8080/"
        },
        "outputId": "db8308d8-ceba-4f69-f987-e96705f087ea"
      },
      "execution_count": null,
      "outputs": [
        {
          "output_type": "stream",
          "name": "stdout",
          "text": [
            "0 6\n",
            "\n",
            "1 12\n",
            "\n",
            "2 13\n",
            "\n",
            "3 9\n",
            "\n",
            "4 10\n",
            "\n",
            "added file: 1\n"
          ]
        }
      ]
    },
    {
      "cell_type": "markdown",
      "source": [
        "Afficher le résultat de la requete de streaming"
      ],
      "metadata": {
        "id": "oeLBHKbCPlZU"
      }
    },
    {
      "cell_type": "code",
      "source": [
        "%%sql\n",
        "select * from Result"
      ],
      "metadata": {
        "id": "8dByEQRC0UaU",
        "colab": {
          "base_uri": "https://localhost:8080/",
          "height": 119
        },
        "outputId": "cbfc9765-7ce5-4e62-8936-4537bd439b0b"
      },
      "execution_count": null,
      "outputs": [
        {
          "output_type": "execute_result",
          "data": {
            "text/html": [
              "<div>\n",
              "<style scoped>\n",
              "    .dataframe tbody tr th:only-of-type {\n",
              "        vertical-align: middle;\n",
              "    }\n",
              "\n",
              "    .dataframe tbody tr th {\n",
              "        vertical-align: top;\n",
              "    }\n",
              "\n",
              "    .dataframe thead th {\n",
              "        text-align: right;\n",
              "    }\n",
              "</style>\n",
              "<table border=\"1\" class=\"dataframe\">\n",
              "  <thead>\n",
              "    <tr style=\"text-align: right;\">\n",
              "      <th></th>\n",
              "      <th>ID</th>\n",
              "      <th>moyenne</th>\n",
              "    </tr>\n",
              "  </thead>\n",
              "  <tbody>\n",
              "  </tbody>\n",
              "</table>\n",
              "</div>"
            ],
            "application/vnd.google.colaboratory.module+javascript": "\n      import \"https://ssl.gstatic.com/colaboratory/data_table/881c4a0d49046431/data_table.js\";\n\n      const table = window.createDataTable({\n        data: [],\n        columns: [[\"number\", \"ID\"], [\"number\", \"moyenne\"]],\n        columnOptions: [],\n        rowsPerPage: 10,\n        helpUrl: \"https://colab.research.google.com/notebooks/data_table.ipynb\",\n        suppressOutputScrolling: true,\n        minimumWidth: undefined,\n      });\n\n      function appendQuickchartButton(parentElement) {\n        let quickchartButtonContainerElement = document.createElement('div');\n        quickchartButtonContainerElement.innerHTML = `\n<div id=\"df-051817bd-d0af-4047-a409-14f978d2495d\">\n  <button class=\"colab-df-quickchart\" onclick=\"quickchart('df-051817bd-d0af-4047-a409-14f978d2495d')\"\n            title=\"Suggest charts\"\n            style=\"display:none;\">\n    \n<svg xmlns=\"http://www.w3.org/2000/svg\" height=\"24px\"viewBox=\"0 0 24 24\"\n     width=\"24px\">\n    <g>\n        <path d=\"M19 3H5c-1.1 0-2 .9-2 2v14c0 1.1.9 2 2 2h14c1.1 0 2-.9 2-2V5c0-1.1-.9-2-2-2zM9 17H7v-7h2v7zm4 0h-2V7h2v10zm4 0h-2v-4h2v4z\"/>\n    </g>\n</svg>\n  </button>\n  \n<style>\n  .colab-df-quickchart {\n      --bg-color: #E8F0FE;\n      --fill-color: #1967D2;\n      --hover-bg-color: #E2EBFA;\n      --hover-fill-color: #174EA6;\n      --disabled-fill-color: #AAA;\n      --disabled-bg-color: #DDD;\n  }\n\n  [theme=dark] .colab-df-quickchart {\n      --bg-color: #3B4455;\n      --fill-color: #D2E3FC;\n      --hover-bg-color: #434B5C;\n      --hover-fill-color: #FFFFFF;\n      --disabled-bg-color: #3B4455;\n      --disabled-fill-color: #666;\n  }\n\n  .colab-df-quickchart {\n    background-color: var(--bg-color);\n    border: none;\n    border-radius: 50%;\n    cursor: pointer;\n    display: none;\n    fill: var(--fill-color);\n    height: 32px;\n    padding: 0;\n    width: 32px;\n  }\n\n  .colab-df-quickchart:hover {\n    background-color: var(--hover-bg-color);\n    box-shadow: 0 1px 2px rgba(60, 64, 67, 0.3), 0 1px 3px 1px rgba(60, 64, 67, 0.15);\n    fill: var(--button-hover-fill-color);\n  }\n\n  .colab-df-quickchart-complete:disabled,\n  .colab-df-quickchart-complete:disabled:hover {\n    background-color: var(--disabled-bg-color);\n    fill: var(--disabled-fill-color);\n    box-shadow: none;\n  }\n\n  .colab-df-spinner {\n    border: 2px solid var(--fill-color);\n    border-color: transparent;\n    border-bottom-color: var(--fill-color);\n    animation:\n      spin 1s steps(1) infinite;\n  }\n\n  @keyframes spin {\n    0% {\n      border-color: transparent;\n      border-bottom-color: var(--fill-color);\n      border-left-color: var(--fill-color);\n    }\n    20% {\n      border-color: transparent;\n      border-left-color: var(--fill-color);\n      border-top-color: var(--fill-color);\n    }\n    30% {\n      border-color: transparent;\n      border-left-color: var(--fill-color);\n      border-top-color: var(--fill-color);\n      border-right-color: var(--fill-color);\n    }\n    40% {\n      border-color: transparent;\n      border-right-color: var(--fill-color);\n      border-top-color: var(--fill-color);\n    }\n    60% {\n      border-color: transparent;\n      border-right-color: var(--fill-color);\n    }\n    80% {\n      border-color: transparent;\n      border-right-color: var(--fill-color);\n      border-bottom-color: var(--fill-color);\n    }\n    90% {\n      border-color: transparent;\n      border-bottom-color: var(--fill-color);\n    }\n  }\n</style>\n\n  <script>\n    async function quickchart(key) {\n      const quickchartButtonEl =\n        document.querySelector('#' + key + ' button');\n      quickchartButtonEl.disabled = true;  // To prevent multiple clicks.\n      quickchartButtonEl.classList.add('colab-df-spinner');\n      try {\n        const charts = await google.colab.kernel.invokeFunction(\n            'suggestCharts', [key], {});\n      } catch (error) {\n        console.error('Error during call to suggestCharts:', error);\n      }\n      quickchartButtonEl.classList.remove('colab-df-spinner');\n      quickchartButtonEl.classList.add('colab-df-quickchart-complete');\n    }\n    (() => {\n      let quickchartButtonEl =\n        document.querySelector('#df-051817bd-d0af-4047-a409-14f978d2495d button');\n      quickchartButtonEl.style.display =\n        google.colab.kernel.accessAllowed ? 'block' : 'none';\n    })();\n  </script>\n</div>`;\n        parentElement.appendChild(quickchartButtonContainerElement);\n      }\n\n      appendQuickchartButton(table);\n    ",
            "text/plain": [
              "<google.colab.data_table.DataTable object>"
            ]
          },
          "metadata": {},
          "execution_count": 33
        }
      ]
    },
    {
      "cell_type": "code",
      "source": [
        "add_input_data(dir_name)"
      ],
      "metadata": {
        "id": "jwLUevvpRtHN",
        "colab": {
          "base_uri": "https://localhost:8080/"
        },
        "outputId": "e9ebb10d-8284-4fd5-dcec-d81bacea0da5"
      },
      "execution_count": null,
      "outputs": [
        {
          "output_type": "stream",
          "name": "stdout",
          "text": [
            "0 12\n",
            "\n",
            "1 6\n",
            "\n",
            "2 16\n",
            "\n",
            "3 1\n",
            "\n",
            "4 17\n",
            "\n",
            "added file: 2\n"
          ]
        }
      ]
    },
    {
      "cell_type": "code",
      "source": [
        "%%sql\n",
        "select * from Result"
      ],
      "metadata": {
        "id": "z3Lqo0JtRw6M",
        "colab": {
          "base_uri": "https://localhost:8080/",
          "height": 119
        },
        "outputId": "6caaade4-6b94-41ad-8da3-68830a175c27"
      },
      "execution_count": null,
      "outputs": [
        {
          "output_type": "execute_result",
          "data": {
            "text/html": [
              "<div>\n",
              "<style scoped>\n",
              "    .dataframe tbody tr th:only-of-type {\n",
              "        vertical-align: middle;\n",
              "    }\n",
              "\n",
              "    .dataframe tbody tr th {\n",
              "        vertical-align: top;\n",
              "    }\n",
              "\n",
              "    .dataframe thead th {\n",
              "        text-align: right;\n",
              "    }\n",
              "</style>\n",
              "<table border=\"1\" class=\"dataframe\">\n",
              "  <thead>\n",
              "    <tr style=\"text-align: right;\">\n",
              "      <th></th>\n",
              "      <th>ID</th>\n",
              "      <th>moyenne</th>\n",
              "    </tr>\n",
              "  </thead>\n",
              "  <tbody>\n",
              "  </tbody>\n",
              "</table>\n",
              "</div>"
            ],
            "application/vnd.google.colaboratory.module+javascript": "\n      import \"https://ssl.gstatic.com/colaboratory/data_table/881c4a0d49046431/data_table.js\";\n\n      const table = window.createDataTable({\n        data: [],\n        columns: [[\"number\", \"ID\"], [\"number\", \"moyenne\"]],\n        columnOptions: [],\n        rowsPerPage: 10,\n        helpUrl: \"https://colab.research.google.com/notebooks/data_table.ipynb\",\n        suppressOutputScrolling: true,\n        minimumWidth: undefined,\n      });\n\n      function appendQuickchartButton(parentElement) {\n        let quickchartButtonContainerElement = document.createElement('div');\n        quickchartButtonContainerElement.innerHTML = `\n<div id=\"df-bfc15d8d-463b-48ad-a328-eb5fa1f118e1\">\n  <button class=\"colab-df-quickchart\" onclick=\"quickchart('df-bfc15d8d-463b-48ad-a328-eb5fa1f118e1')\"\n            title=\"Suggest charts\"\n            style=\"display:none;\">\n    \n<svg xmlns=\"http://www.w3.org/2000/svg\" height=\"24px\"viewBox=\"0 0 24 24\"\n     width=\"24px\">\n    <g>\n        <path d=\"M19 3H5c-1.1 0-2 .9-2 2v14c0 1.1.9 2 2 2h14c1.1 0 2-.9 2-2V5c0-1.1-.9-2-2-2zM9 17H7v-7h2v7zm4 0h-2V7h2v10zm4 0h-2v-4h2v4z\"/>\n    </g>\n</svg>\n  </button>\n  \n<style>\n  .colab-df-quickchart {\n      --bg-color: #E8F0FE;\n      --fill-color: #1967D2;\n      --hover-bg-color: #E2EBFA;\n      --hover-fill-color: #174EA6;\n      --disabled-fill-color: #AAA;\n      --disabled-bg-color: #DDD;\n  }\n\n  [theme=dark] .colab-df-quickchart {\n      --bg-color: #3B4455;\n      --fill-color: #D2E3FC;\n      --hover-bg-color: #434B5C;\n      --hover-fill-color: #FFFFFF;\n      --disabled-bg-color: #3B4455;\n      --disabled-fill-color: #666;\n  }\n\n  .colab-df-quickchart {\n    background-color: var(--bg-color);\n    border: none;\n    border-radius: 50%;\n    cursor: pointer;\n    display: none;\n    fill: var(--fill-color);\n    height: 32px;\n    padding: 0;\n    width: 32px;\n  }\n\n  .colab-df-quickchart:hover {\n    background-color: var(--hover-bg-color);\n    box-shadow: 0 1px 2px rgba(60, 64, 67, 0.3), 0 1px 3px 1px rgba(60, 64, 67, 0.15);\n    fill: var(--button-hover-fill-color);\n  }\n\n  .colab-df-quickchart-complete:disabled,\n  .colab-df-quickchart-complete:disabled:hover {\n    background-color: var(--disabled-bg-color);\n    fill: var(--disabled-fill-color);\n    box-shadow: none;\n  }\n\n  .colab-df-spinner {\n    border: 2px solid var(--fill-color);\n    border-color: transparent;\n    border-bottom-color: var(--fill-color);\n    animation:\n      spin 1s steps(1) infinite;\n  }\n\n  @keyframes spin {\n    0% {\n      border-color: transparent;\n      border-bottom-color: var(--fill-color);\n      border-left-color: var(--fill-color);\n    }\n    20% {\n      border-color: transparent;\n      border-left-color: var(--fill-color);\n      border-top-color: var(--fill-color);\n    }\n    30% {\n      border-color: transparent;\n      border-left-color: var(--fill-color);\n      border-top-color: var(--fill-color);\n      border-right-color: var(--fill-color);\n    }\n    40% {\n      border-color: transparent;\n      border-right-color: var(--fill-color);\n      border-top-color: var(--fill-color);\n    }\n    60% {\n      border-color: transparent;\n      border-right-color: var(--fill-color);\n    }\n    80% {\n      border-color: transparent;\n      border-right-color: var(--fill-color);\n      border-bottom-color: var(--fill-color);\n    }\n    90% {\n      border-color: transparent;\n      border-bottom-color: var(--fill-color);\n    }\n  }\n</style>\n\n  <script>\n    async function quickchart(key) {\n      const quickchartButtonEl =\n        document.querySelector('#' + key + ' button');\n      quickchartButtonEl.disabled = true;  // To prevent multiple clicks.\n      quickchartButtonEl.classList.add('colab-df-spinner');\n      try {\n        const charts = await google.colab.kernel.invokeFunction(\n            'suggestCharts', [key], {});\n      } catch (error) {\n        console.error('Error during call to suggestCharts:', error);\n      }\n      quickchartButtonEl.classList.remove('colab-df-spinner');\n      quickchartButtonEl.classList.add('colab-df-quickchart-complete');\n    }\n    (() => {\n      let quickchartButtonEl =\n        document.querySelector('#df-bfc15d8d-463b-48ad-a328-eb5fa1f118e1 button');\n      quickchartButtonEl.style.display =\n        google.colab.kernel.accessAllowed ? 'block' : 'none';\n    })();\n  </script>\n</div>`;\n        parentElement.appendChild(quickchartButtonContainerElement);\n      }\n\n      appendQuickchartButton(table);\n    ",
            "text/plain": [
              "<google.colab.data_table.DataTable object>"
            ]
          },
          "metadata": {},
          "execution_count": 35
        }
      ]
    },
    {
      "cell_type": "code",
      "source": [
        "# streaming_query.lastProgress"
      ],
      "metadata": {
        "id": "M0UrMFU2InS0"
      },
      "execution_count": null,
      "outputs": []
    },
    {
      "cell_type": "markdown",
      "source": [
        "### Question 1 : Watermark\n",
        "Adapter l'exemple ci dessus et proposer une requete avec un regroupement par fenetre et une watermark"
      ],
      "metadata": {
        "id": "DNIHBavlqOkb"
      }
    },
    {
      "cell_type": "code",
      "source": [
        "dir_name = \"/content/input2\"\n",
        "os.makedirs(dir_name, exist_ok=True)\n",
        "\n",
        "checkpoint = \"/content/checkpoint2\"\n",
        "os.makedirs(checkpoint, exist_ok=True)\n",
        "\n",
        "streaming_query = None"
      ],
      "metadata": {
        "id": "0_Q5TN8jKlae"
      },
      "execution_count": null,
      "outputs": []
    },
    {
      "cell_type": "code",
      "source": [
        "#  Nous avons overwrite la fonction afin d'ajouter un timestamp de date de création et un séparateur par \";\"\n",
        "from datetime import datetime\n",
        "from pyspark.sql.functions import expr\n",
        "import time\n",
        "\n",
        "def add_input_data(dir_name):\n",
        "    global NEXT_FILE_ID\n",
        "    timestamp = datetime.now().strftime(\"%Y-%m-%d %H:%M:%S\")\n",
        "    with open(f\"{dir_name}/file_{NEXT_FILE_ID}.csv\", \"w\") as f:\n",
        "        content = [f\"{timestamp};{i};{a}\\n\" for i, a in enumerate(np.random.randint(1, 20, 5))]\n",
        "        for l in content:\n",
        "            print(l)\n",
        "        f.writelines(''.join(content))\n",
        "        print(\"added file:\", NEXT_FILE_ID)\n",
        "        NEXT_FILE_ID += 1"
      ],
      "metadata": {
        "id": "cF-sJFieFuNb"
      },
      "execution_count": null,
      "outputs": []
    },
    {
      "cell_type": "code",
      "source": [
        "schema = \"timestamp timestamp, ID int, note int\"\n",
        "\n",
        "input_stream = spark.readStream.schema(schema).option(\"delimiter\", \";\").option(\"maxFilesPerTrigger\", 1).csv(dir_name)\n",
        "\n",
        "query = (\n",
        "    input_stream\n",
        "    .withWatermark(\"timestamp\", \"5 seconds\")\n",
        "    .groupBy(window(\"timestamp\", \"5 seconds\", \"5 seconds\"), \"ID\")\n",
        "    .agg(avg(\"note\").alias(\"moyenne\"))\n",
        "    .orderBy(\"window\", \"ID\")\n",
        ")\n",
        "\n",
        "print(\"Streaming is: \", query.isStreaming)"
      ],
      "metadata": {
        "id": "x_2vRzQ7C40F",
        "colab": {
          "base_uri": "https://localhost:8080/"
        },
        "outputId": "e34ae66d-5a8e-4154-d72f-0f12754c5ae0"
      },
      "execution_count": null,
      "outputs": [
        {
          "output_type": "stream",
          "name": "stdout",
          "text": [
            "Streaming is:  True\n"
          ]
        }
      ]
    },
    {
      "cell_type": "code",
      "source": [
        "if streaming_query is not None and streaming_query.isActive:\n",
        "    print(\"Stopping current streaming query before defining a new one.\")\n",
        "    streaming_query.stop()\n",
        "\n",
        "streaming_query = query.writeStream.format(\"memory\").queryName(\"Result2\").outputMode(\"complete\").start()\n",
        "\n",
        "print(\"Active stream:\", streaming_query.isActive)"
      ],
      "metadata": {
        "id": "UZkBzCo_EJzS",
        "colab": {
          "base_uri": "https://localhost:8080/"
        },
        "outputId": "79554392-5871-42c9-9543-dc9bf40b13cc"
      },
      "execution_count": null,
      "outputs": [
        {
          "output_type": "stream",
          "name": "stdout",
          "text": [
            "Active stream: True\n"
          ]
        }
      ]
    },
    {
      "cell_type": "code",
      "source": [
        "add_input_data(dir_name)"
      ],
      "metadata": {
        "id": "cQskIeqbEZIO",
        "colab": {
          "base_uri": "https://localhost:8080/"
        },
        "outputId": "b21650e0-1edd-491d-c73d-ce2a64d5548d"
      },
      "execution_count": null,
      "outputs": [
        {
          "output_type": "stream",
          "name": "stdout",
          "text": [
            "2023-11-17 17:23:54;0;2\n",
            "\n",
            "2023-11-17 17:23:54;1;13\n",
            "\n",
            "2023-11-17 17:23:54;2;8\n",
            "\n",
            "2023-11-17 17:23:54;3;14\n",
            "\n",
            "2023-11-17 17:23:54;4;7\n",
            "\n",
            "added file: 3\n"
          ]
        }
      ]
    },
    {
      "cell_type": "code",
      "source": [
        "%%sql\n",
        "select * from Result2\n",
        "order by window desc"
      ],
      "metadata": {
        "id": "ma3-AU07EeoA",
        "colab": {
          "base_uri": "https://localhost:8080/",
          "height": 119
        },
        "outputId": "8c1cb189-1d2c-4e13-873d-36c2f5384c5b"
      },
      "execution_count": null,
      "outputs": [
        {
          "output_type": "execute_result",
          "data": {
            "text/html": [
              "<div>\n",
              "<style scoped>\n",
              "    .dataframe tbody tr th:only-of-type {\n",
              "        vertical-align: middle;\n",
              "    }\n",
              "\n",
              "    .dataframe tbody tr th {\n",
              "        vertical-align: top;\n",
              "    }\n",
              "\n",
              "    .dataframe thead th {\n",
              "        text-align: right;\n",
              "    }\n",
              "</style>\n",
              "<table border=\"1\" class=\"dataframe\">\n",
              "  <thead>\n",
              "    <tr style=\"text-align: right;\">\n",
              "      <th></th>\n",
              "      <th>window</th>\n",
              "      <th>ID</th>\n",
              "      <th>moyenne</th>\n",
              "    </tr>\n",
              "  </thead>\n",
              "  <tbody>\n",
              "  </tbody>\n",
              "</table>\n",
              "</div>"
            ],
            "application/vnd.google.colaboratory.module+javascript": "\n      import \"https://ssl.gstatic.com/colaboratory/data_table/881c4a0d49046431/data_table.js\";\n\n      const table = window.createDataTable({\n        data: [],\n        columns: [[\"number\", \"window\"], [\"number\", \"ID\"], [\"number\", \"moyenne\"]],\n        columnOptions: [],\n        rowsPerPage: 10,\n        helpUrl: \"https://colab.research.google.com/notebooks/data_table.ipynb\",\n        suppressOutputScrolling: true,\n        minimumWidth: undefined,\n      });\n\n      function appendQuickchartButton(parentElement) {\n        let quickchartButtonContainerElement = document.createElement('div');\n        quickchartButtonContainerElement.innerHTML = `\n<div id=\"df-f829ba8a-9dd5-4304-a648-5a1f9eda74d9\">\n  <button class=\"colab-df-quickchart\" onclick=\"quickchart('df-f829ba8a-9dd5-4304-a648-5a1f9eda74d9')\"\n            title=\"Suggest charts\"\n            style=\"display:none;\">\n    \n<svg xmlns=\"http://www.w3.org/2000/svg\" height=\"24px\"viewBox=\"0 0 24 24\"\n     width=\"24px\">\n    <g>\n        <path d=\"M19 3H5c-1.1 0-2 .9-2 2v14c0 1.1.9 2 2 2h14c1.1 0 2-.9 2-2V5c0-1.1-.9-2-2-2zM9 17H7v-7h2v7zm4 0h-2V7h2v10zm4 0h-2v-4h2v4z\"/>\n    </g>\n</svg>\n  </button>\n  \n<style>\n  .colab-df-quickchart {\n      --bg-color: #E8F0FE;\n      --fill-color: #1967D2;\n      --hover-bg-color: #E2EBFA;\n      --hover-fill-color: #174EA6;\n      --disabled-fill-color: #AAA;\n      --disabled-bg-color: #DDD;\n  }\n\n  [theme=dark] .colab-df-quickchart {\n      --bg-color: #3B4455;\n      --fill-color: #D2E3FC;\n      --hover-bg-color: #434B5C;\n      --hover-fill-color: #FFFFFF;\n      --disabled-bg-color: #3B4455;\n      --disabled-fill-color: #666;\n  }\n\n  .colab-df-quickchart {\n    background-color: var(--bg-color);\n    border: none;\n    border-radius: 50%;\n    cursor: pointer;\n    display: none;\n    fill: var(--fill-color);\n    height: 32px;\n    padding: 0;\n    width: 32px;\n  }\n\n  .colab-df-quickchart:hover {\n    background-color: var(--hover-bg-color);\n    box-shadow: 0 1px 2px rgba(60, 64, 67, 0.3), 0 1px 3px 1px rgba(60, 64, 67, 0.15);\n    fill: var(--button-hover-fill-color);\n  }\n\n  .colab-df-quickchart-complete:disabled,\n  .colab-df-quickchart-complete:disabled:hover {\n    background-color: var(--disabled-bg-color);\n    fill: var(--disabled-fill-color);\n    box-shadow: none;\n  }\n\n  .colab-df-spinner {\n    border: 2px solid var(--fill-color);\n    border-color: transparent;\n    border-bottom-color: var(--fill-color);\n    animation:\n      spin 1s steps(1) infinite;\n  }\n\n  @keyframes spin {\n    0% {\n      border-color: transparent;\n      border-bottom-color: var(--fill-color);\n      border-left-color: var(--fill-color);\n    }\n    20% {\n      border-color: transparent;\n      border-left-color: var(--fill-color);\n      border-top-color: var(--fill-color);\n    }\n    30% {\n      border-color: transparent;\n      border-left-color: var(--fill-color);\n      border-top-color: var(--fill-color);\n      border-right-color: var(--fill-color);\n    }\n    40% {\n      border-color: transparent;\n      border-right-color: var(--fill-color);\n      border-top-color: var(--fill-color);\n    }\n    60% {\n      border-color: transparent;\n      border-right-color: var(--fill-color);\n    }\n    80% {\n      border-color: transparent;\n      border-right-color: var(--fill-color);\n      border-bottom-color: var(--fill-color);\n    }\n    90% {\n      border-color: transparent;\n      border-bottom-color: var(--fill-color);\n    }\n  }\n</style>\n\n  <script>\n    async function quickchart(key) {\n      const quickchartButtonEl =\n        document.querySelector('#' + key + ' button');\n      quickchartButtonEl.disabled = true;  // To prevent multiple clicks.\n      quickchartButtonEl.classList.add('colab-df-spinner');\n      try {\n        const charts = await google.colab.kernel.invokeFunction(\n            'suggestCharts', [key], {});\n      } catch (error) {\n        console.error('Error during call to suggestCharts:', error);\n      }\n      quickchartButtonEl.classList.remove('colab-df-spinner');\n      quickchartButtonEl.classList.add('colab-df-quickchart-complete');\n    }\n    (() => {\n      let quickchartButtonEl =\n        document.querySelector('#df-f829ba8a-9dd5-4304-a648-5a1f9eda74d9 button');\n      quickchartButtonEl.style.display =\n        google.colab.kernel.accessAllowed ? 'block' : 'none';\n    })();\n  </script>\n</div>`;\n        parentElement.appendChild(quickchartButtonContainerElement);\n      }\n\n      appendQuickchartButton(table);\n    ",
            "text/plain": [
              "<google.colab.data_table.DataTable object>"
            ]
          },
          "metadata": {},
          "execution_count": 42
        }
      ]
    },
    {
      "cell_type": "markdown",
      "source": [
        "### Question 2: Jointure\n",
        "Proposer une requete avec jointure entre un flux et une table"
      ],
      "metadata": {
        "id": "LAE6mUX0qoHL"
      }
    },
    {
      "cell_type": "code",
      "source": [
        "#On overwrite la fonction pour coller à la problématique.\n",
        "!rm -f /content/input3/*\n",
        "\n",
        "np.random.seed(1)\n",
        "\n",
        "NEXT_FILE_ID=1\n",
        "\n",
        "import numpy as np\n",
        "import csv\n",
        "\n",
        "NEXT_FILE_ID = 1\n",
        "\n",
        "def add_input_data(dir_name):\n",
        "    global NEXT_FILE_ID\n",
        "    nb_lines = 5\n",
        "    with open(dir_name + f\"/file_{NEXT_FILE_ID}.csv\", \"w\", newline='') as f:\n",
        "        writer = csv.writer(f)\n",
        "        writer.writerow([\"ID1\", \"value1\"])\n",
        "        content = [(i, a) for i, a in enumerate(np.random.randint(1, 20, nb_lines))]\n",
        "        writer.writerows(content)\n",
        "        print(\"added file:\", NEXT_FILE_ID)\n",
        "        NEXT_FILE_ID += 1\n",
        "\n",
        "print(\"function defined\")"
      ],
      "metadata": {
        "colab": {
          "base_uri": "https://localhost:8080/"
        },
        "id": "418FbhpEd8f2",
        "outputId": "56217626-5736-4c4d-9948-c50c71ee9f5d"
      },
      "execution_count": null,
      "outputs": [
        {
          "output_type": "stream",
          "name": "stdout",
          "text": [
            "function defined\n"
          ]
        }
      ]
    },
    {
      "cell_type": "code",
      "source": [
        "from pyspark.sql.functions import avg\n",
        "streaming_query =None\n",
        "# Initialisation de Spark\n",
        "spark = SparkSession.builder.appName(\"streaming_join_example\").getOrCreate()\n",
        "\n",
        "# créer directory du stream et son checkpointing\n",
        "dir_name = \"/content/input3\"\n",
        "os.makedirs(dir_name, exist_ok=True)\n",
        "checkpoint = \"/content/checkpoint3\"\n",
        "os.makedirs(checkpoint, exist_ok=True)\n",
        "\n",
        "#crer streaming\n",
        "add_input_data(dir_name)\n",
        "schema = \"ID1 int, value1 int\"\n",
        "streaming_df = spark.readStream.schema(schema).csv(dir_name)\n",
        "\n",
        "# créer dataframe\n",
        "data_table = [(i,int(a)) for _ in range(1) for i,a in enumerate(np.random.randint(1, 20, 5)) ]\n",
        "static_schema = StructType([\n",
        "    StructField(\"ID2\", IntegerType()),\n",
        "    StructField(\"value2\", IntegerType())])\n",
        "static_table = spark.createDataFrame(data_table, static_schema)\n",
        "\n",
        "# jointure\n",
        "joined_df = streaming_df.join(static_table, streaming_df.ID1 == static_table.ID2)\\\n",
        ".select(streaming_df.ID1.alias(\"ID\"), streaming_df.value1, static_table.value2, ((streaming_df.value1 + static_table.value2)/2).alias(\"moy\"))\\\n",
        ".groupBy(\"ID\").agg(avg(col(\"moy\")).alias(\"moyenne\")).select(\"ID\",\"moyenne\")"
      ],
      "metadata": {
        "colab": {
          "base_uri": "https://localhost:8080/"
        },
        "id": "inXRZPe1SLFn",
        "outputId": "87c7b181-dec7-4611-c89b-e923122dc0ba"
      },
      "execution_count": null,
      "outputs": [
        {
          "output_type": "stream",
          "name": "stdout",
          "text": [
            "added file: 1\n"
          ]
        }
      ]
    },
    {
      "cell_type": "code",
      "source": [
        "if(streaming_query is not None and streaming_query.isActive):\n",
        "  print(\"Stopping current streaming query before defining a new one.\")\n",
        "  streaming_query.stop()\n",
        "\n",
        "streaming_query = joined_df.writeStream.format(\"memory\").outputMode(\"complete\").queryName(\"Result_join1\").start()\n",
        "\n",
        "print(\"Active stream:\", streaming_query.isActive)"
      ],
      "metadata": {
        "colab": {
          "base_uri": "https://localhost:8080/"
        },
        "id": "GlgqJijSedJA",
        "outputId": "d93be72a-4f17-427b-8783-498526a574b1"
      },
      "execution_count": null,
      "outputs": [
        {
          "output_type": "stream",
          "name": "stdout",
          "text": [
            "Active stream: True\n"
          ]
        }
      ]
    },
    {
      "cell_type": "code",
      "source": [
        "add_input_data(dir_name)"
      ],
      "metadata": {
        "colab": {
          "base_uri": "https://localhost:8080/"
        },
        "id": "I2CqhMDHWluA",
        "outputId": "6c7854f5-5b21-4504-d10c-ea5fda5f0d23"
      },
      "execution_count": null,
      "outputs": [
        {
          "output_type": "stream",
          "name": "stdout",
          "text": [
            "added file: 2\n"
          ]
        }
      ]
    },
    {
      "cell_type": "code",
      "source": [
        "# si le tableau est vide, patienter et relancer la requete\n",
        "result_df = spark.sql(\"SELECT ID, moyenne, dense_rank() over(order by moyenne desc) as rang FROM Result_join1 ORDER BY rang\")\n",
        "result_df.show()"
      ],
      "metadata": {
        "id": "-d-KC8BRZ2SW",
        "colab": {
          "base_uri": "https://localhost:8080/"
        },
        "outputId": "1b623eb7-74f8-4c2e-d0bc-0f1005837560"
      },
      "execution_count": null,
      "outputs": [
        {
          "output_type": "stream",
          "name": "stdout",
          "text": [
            "+---+-------+----+\n",
            "| ID|moyenne|rang|\n",
            "+---+-------+----+\n",
            "|  2|  13.25|   1|\n",
            "|  4|  12.75|   2|\n",
            "|  1|   9.25|   3|\n",
            "|  0|    8.0|   4|\n",
            "|  3|   6.25|   5|\n",
            "+---+-------+----+\n",
            "\n"
          ]
        }
      ]
    }
  ]
}